{
 "cells": [
  {
   "attachments": {
    "ts.png": {
     "image/png": "[encoded data removed]"
    }
   },
   "cell_type": "markdown",
   "metadata": {},
   "source": [
    "![ts.png](attachment:ts.png)"
   ]
  },
  {
   "cell_type": "markdown",
   "metadata": {},
   "source": [
    "# Presenting Hipo data using Jupyter notebooks \n",
    "\n",
    "### Adjacent criteria supplied by Accenture\n",
    "- Address - Anonymised user name and shortened to 3 (int)\n",
    "- Department\n",
    "- Level\n",
    " 1.\tSenior Manager \n",
    " 2.\tManager\n",
    " 3.\tConsultant\n",
    " 4.\tAnalyst\n",
    " 5.\tAssociate\n",
    "- Location\\\n",
    "   Gurugram \\\n",
    "   Bengaluru \\\n",
    "   Mumbai \\\n",
    "   Pune \n",
    "- Department\\\n",
    "    TalentDevelopmentandLearning\\\n",
    "    OrganizationChange\\\n",
    "    HR\\\n",
    "    Organization Analytics\n",
    "\n",
    "## Post processing derived metrics\n",
    "### Network Activity Score\n",
    "Network Activity Score (NAS) gives a measure of how active someone is within their network, with respect to others in the same cohort. \\\n",
    "The algorithm combines a number of factors, including:\n",
    "- Number of strong relationships\n",
    "- Number of Active relationships (those which have seen communications within a recent time period)\n",
    "- Number of medium strength relationships\n",
    "- Number of Unique relationships (those not shared with others in the same cohort)\n",
    "\n",
    "### Network Impact Score\n",
    "Network Impact Score (NIS) gives a measure on the impact a person might have if they left the organisation, with respect to others in the same cohort. \\\n",
    "The algorithm combines a number of factors, including:\n",
    "- Number of unique relationships\n",
    "- Number of strong relationships\n",
    "- Number of Active relationships (those which have seen communications within a recent time period)\n",
    "- An analysis of the TrustScore values for their strong relationships\n",
    "- A comparison of active relationships across the cohort\n",
    "\n",
    "### Network Connector Score\n",
    "(Internal Relationships only) \\\n",
    "Network Connector Score (NCS) gives a measure of how a person’s relationships can allow them to influence the network, due to their ‘connected-ness’, where they have many strong relationships, relationships outside their teams and/or connect to people that do. \\\n",
    "The algorithm combines a number of factors, including:\n",
    "- Number of strong relationships\n",
    "- Number of relationships outside their immediate team\n",
    "- Number of relationships they have with connected people\n",
    "\n"
   ]
  },
  {
   "cell_type": "code",
   "execution_count": 87,
   "metadata": {},
   "outputs": [],
   "source": [
    "#import libraries\n",
    "import numpy as np\n",
    "import pandas as pd\n",
    "import collections\n",
    "import networkx as nx\n",
    "import matplotlib.pyplot as plt\n",
    "import ipywidgets as widgets\n",
    "%matplotlib inline\n",
    "%matplotlib tk\n",
    "import plotly.offline as pyo\n",
    "import plotly.graph_objs as go\n",
    "import plotly.express as px\n",
    "# offline mode\n",
    "from plotly.offline import iplot, init_notebook_mode"
   ]
  },
  {
   "cell_type": "code",
   "execution_count": null,
   "metadata": {},
   "outputs": [],
   "source": []
  },
  {
   "cell_type": "code",
   "execution_count": 88,
   "metadata": {},
   "outputs": [],
   "source": [
    "#load the data\n",
    "#previously created by PA toolkit\n",
    "df=pd.read_csv('Hipo.csv')"
   ]
  },
  {
   "cell_type": "code",
   "execution_count": 89,
   "metadata": {},
   "outputs": [],
   "source": [
    "#Strip white spaces\n",
    "df=df.apply(lambda x: x.str.strip() if x.dtype == \"object\" else x)"
   ]
  },
  {
   "cell_type": "code",
   "execution_count": 90,
   "metadata": {},
   "outputs": [],
   "source": [
    "#extract the int from address\n",
    "df['address']=df['address'].str[:7]"
   ]
  },
  {
   "cell_type": "code",
   "execution_count": 91,
   "metadata": {},
   "outputs": [],
   "source": [
    "df['address']=df['address'].str.extract('(\\d+)').astype(int)"
   ]
  },
  {
   "cell_type": "code",
   "execution_count": 92,
   "metadata": {},
   "outputs": [
    {
     "data": {
      "text/html": [
       "<div>\n",
       "<style scoped>\n",
       "    .dataframe tbody tr th:only-of-type {\n",
       "        vertical-align: middle;\n",
       "    }\n",
       "\n",
       "    .dataframe tbody tr th {\n",
       "        vertical-align: top;\n",
       "    }\n",
       "\n",
       "    .dataframe thead th {\n",
       "        text-align: right;\n",
       "    }\n",
       "</style>\n",
       "<table border=\"1\" class=\"dataframe\">\n",
       "  <thead>\n",
       "    <tr style=\"text-align: right;\">\n",
       "      <th></th>\n",
       "      <th>address</th>\n",
       "      <th>Department</th>\n",
       "      <th>Level</th>\n",
       "      <th>Location</th>\n",
       "      <th>gender</th>\n",
       "      <th>Tenure</th>\n",
       "      <th>Influencers</th>\n",
       "      <th>Hipo</th>\n",
       "      <th>totrels</th>\n",
       "      <th>strrels</th>\n",
       "      <th>medrels</th>\n",
       "      <th>totactive</th>\n",
       "      <th>stractive</th>\n",
       "      <th>medactive</th>\n",
       "      <th>percactive</th>\n",
       "      <th>unique</th>\n",
       "      <th>nas</th>\n",
       "      <th>nis</th>\n",
       "      <th>ncs</th>\n",
       "    </tr>\n",
       "  </thead>\n",
       "  <tbody>\n",
       "    <tr>\n",
       "      <th>0</th>\n",
       "      <td>122</td>\n",
       "      <td>TalentDevelopmentandLearning</td>\n",
       "      <td>1</td>\n",
       "      <td>Gurugram</td>\n",
       "      <td>female</td>\n",
       "      <td>4</td>\n",
       "      <td>Y</td>\n",
       "      <td>yes</td>\n",
       "      <td>95</td>\n",
       "      <td>25</td>\n",
       "      <td>70</td>\n",
       "      <td>71</td>\n",
       "      <td>24</td>\n",
       "      <td>47</td>\n",
       "      <td>75</td>\n",
       "      <td>1</td>\n",
       "      <td>82</td>\n",
       "      <td>30</td>\n",
       "      <td>100</td>\n",
       "    </tr>\n",
       "    <tr>\n",
       "      <th>1</th>\n",
       "      <td>131</td>\n",
       "      <td>TalentDevelopmentandLearning</td>\n",
       "      <td>3</td>\n",
       "      <td>Gurugram</td>\n",
       "      <td>female</td>\n",
       "      <td>7</td>\n",
       "      <td>Y</td>\n",
       "      <td>no</td>\n",
       "      <td>91</td>\n",
       "      <td>14</td>\n",
       "      <td>77</td>\n",
       "      <td>62</td>\n",
       "      <td>13</td>\n",
       "      <td>49</td>\n",
       "      <td>69</td>\n",
       "      <td>1</td>\n",
       "      <td>69</td>\n",
       "      <td>20</td>\n",
       "      <td>66</td>\n",
       "    </tr>\n",
       "    <tr>\n",
       "      <th>2</th>\n",
       "      <td>185</td>\n",
       "      <td>TalentDevelopmentandLearning</td>\n",
       "      <td>1</td>\n",
       "      <td>Gurugram</td>\n",
       "      <td>female</td>\n",
       "      <td>15</td>\n",
       "      <td>N</td>\n",
       "      <td>yes</td>\n",
       "      <td>54</td>\n",
       "      <td>24</td>\n",
       "      <td>30</td>\n",
       "      <td>47</td>\n",
       "      <td>22</td>\n",
       "      <td>25</td>\n",
       "      <td>88</td>\n",
       "      <td></td>\n",
       "      <td>57</td>\n",
       "      <td>24</td>\n",
       "      <td>71</td>\n",
       "    </tr>\n",
       "    <tr>\n",
       "      <th>3</th>\n",
       "      <td>287</td>\n",
       "      <td>TalentDevelopmentandLearning</td>\n",
       "      <td>2</td>\n",
       "      <td>Bengaluru</td>\n",
       "      <td>male</td>\n",
       "      <td>15</td>\n",
       "      <td>Y</td>\n",
       "      <td>yes</td>\n",
       "      <td>75</td>\n",
       "      <td>23</td>\n",
       "      <td>52</td>\n",
       "      <td>61</td>\n",
       "      <td>23</td>\n",
       "      <td>38</td>\n",
       "      <td>82</td>\n",
       "      <td></td>\n",
       "      <td>53</td>\n",
       "      <td>27</td>\n",
       "      <td>86</td>\n",
       "    </tr>\n",
       "    <tr>\n",
       "      <th>4</th>\n",
       "      <td>93</td>\n",
       "      <td>OrganizationChange</td>\n",
       "      <td>1</td>\n",
       "      <td>Bengaluru</td>\n",
       "      <td>female</td>\n",
       "      <td>15</td>\n",
       "      <td>N</td>\n",
       "      <td>no</td>\n",
       "      <td>64</td>\n",
       "      <td>15</td>\n",
       "      <td>49</td>\n",
       "      <td>36</td>\n",
       "      <td>13</td>\n",
       "      <td>23</td>\n",
       "      <td>57</td>\n",
       "      <td></td>\n",
       "      <td>48</td>\n",
       "      <td>13</td>\n",
       "      <td>58</td>\n",
       "    </tr>\n",
       "    <tr>\n",
       "      <th>...</th>\n",
       "      <td>...</td>\n",
       "      <td>...</td>\n",
       "      <td>...</td>\n",
       "      <td>...</td>\n",
       "      <td>...</td>\n",
       "      <td>...</td>\n",
       "      <td>...</td>\n",
       "      <td>...</td>\n",
       "      <td>...</td>\n",
       "      <td>...</td>\n",
       "      <td>...</td>\n",
       "      <td>...</td>\n",
       "      <td>...</td>\n",
       "      <td>...</td>\n",
       "      <td>...</td>\n",
       "      <td>...</td>\n",
       "      <td>...</td>\n",
       "      <td>...</td>\n",
       "      <td>...</td>\n",
       "    </tr>\n",
       "    <tr>\n",
       "      <th>276</th>\n",
       "      <td>244</td>\n",
       "      <td>OrganizationChange</td>\n",
       "      <td>4</td>\n",
       "      <td>Bengaluru</td>\n",
       "      <td>male</td>\n",
       "      <td>2</td>\n",
       "      <td>N</td>\n",
       "      <td>no</td>\n",
       "      <td>1</td>\n",
       "      <td>0</td>\n",
       "      <td>1</td>\n",
       "      <td>0</td>\n",
       "      <td>0</td>\n",
       "      <td>0</td>\n",
       "      <td>0</td>\n",
       "      <td></td>\n",
       "      <td>1</td>\n",
       "      <td>0</td>\n",
       "      <td>2</td>\n",
       "    </tr>\n",
       "    <tr>\n",
       "      <th>277</th>\n",
       "      <td>147</td>\n",
       "      <td>TalentDevelopmentandLearning</td>\n",
       "      <td>4</td>\n",
       "      <td>Gurugram</td>\n",
       "      <td>female</td>\n",
       "      <td>7</td>\n",
       "      <td>N</td>\n",
       "      <td>no</td>\n",
       "      <td>2</td>\n",
       "      <td>0</td>\n",
       "      <td>2</td>\n",
       "      <td>0</td>\n",
       "      <td>0</td>\n",
       "      <td>0</td>\n",
       "      <td>0</td>\n",
       "      <td></td>\n",
       "      <td>1</td>\n",
       "      <td>0</td>\n",
       "      <td>3</td>\n",
       "    </tr>\n",
       "    <tr>\n",
       "      <th>278</th>\n",
       "      <td>247</td>\n",
       "      <td>TalentDevelopmentandLearning</td>\n",
       "      <td>4</td>\n",
       "      <td>Mumbai</td>\n",
       "      <td>female</td>\n",
       "      <td>1</td>\n",
       "      <td>N</td>\n",
       "      <td>no</td>\n",
       "      <td>1</td>\n",
       "      <td>0</td>\n",
       "      <td>1</td>\n",
       "      <td>0</td>\n",
       "      <td>0</td>\n",
       "      <td>0</td>\n",
       "      <td>0</td>\n",
       "      <td></td>\n",
       "      <td>1</td>\n",
       "      <td>0</td>\n",
       "      <td>2</td>\n",
       "    </tr>\n",
       "    <tr>\n",
       "      <th>279</th>\n",
       "      <td>245</td>\n",
       "      <td>TalentDevelopmentandLearning</td>\n",
       "      <td>4</td>\n",
       "      <td>Gurugram</td>\n",
       "      <td>female</td>\n",
       "      <td>1</td>\n",
       "      <td>N</td>\n",
       "      <td>no</td>\n",
       "      <td>0</td>\n",
       "      <td>0</td>\n",
       "      <td>0</td>\n",
       "      <td>0</td>\n",
       "      <td>0</td>\n",
       "      <td>0</td>\n",
       "      <td>0</td>\n",
       "      <td></td>\n",
       "      <td>0</td>\n",
       "      <td>0</td>\n",
       "      <td>0</td>\n",
       "    </tr>\n",
       "    <tr>\n",
       "      <th>280</th>\n",
       "      <td>252</td>\n",
       "      <td>TalentDevelopmentandLearning</td>\n",
       "      <td>1</td>\n",
       "      <td>Gurugram</td>\n",
       "      <td>female</td>\n",
       "      <td>15</td>\n",
       "      <td>Y</td>\n",
       "      <td>yes</td>\n",
       "      <td>0</td>\n",
       "      <td>0</td>\n",
       "      <td>0</td>\n",
       "      <td>0</td>\n",
       "      <td>0</td>\n",
       "      <td>0</td>\n",
       "      <td>0</td>\n",
       "      <td></td>\n",
       "      <td>0</td>\n",
       "      <td>0</td>\n",
       "      <td>0</td>\n",
       "    </tr>\n",
       "  </tbody>\n",
       "</table>\n",
       "<p>281 rows × 19 columns</p>\n",
       "</div>"
      ],
      "text/plain": [
       "     address                    Department  Level   Location  gender  Tenure  \\\n",
       "0        122  TalentDevelopmentandLearning      1   Gurugram  female       4   \n",
       "1        131  TalentDevelopmentandLearning      3   Gurugram  female       7   \n",
       "2        185  TalentDevelopmentandLearning      1   Gurugram  female      15   \n",
       "3        287  TalentDevelopmentandLearning      2  Bengaluru    male      15   \n",
       "4         93            OrganizationChange      1  Bengaluru  female      15   \n",
       "..       ...                           ...    ...        ...     ...     ...   \n",
       "276      244            OrganizationChange      4  Bengaluru    male       2   \n",
       "277      147  TalentDevelopmentandLearning      4   Gurugram  female       7   \n",
       "278      247  TalentDevelopmentandLearning      4     Mumbai  female       1   \n",
       "279      245  TalentDevelopmentandLearning      4   Gurugram  female       1   \n",
       "280      252  TalentDevelopmentandLearning      1   Gurugram  female      15   \n",
       "\n",
       "    Influencers Hipo  totrels  strrels  medrels  totactive  stractive  \\\n",
       "0             Y  yes       95       25       70         71         24   \n",
       "1             Y   no       91       14       77         62         13   \n",
       "2             N  yes       54       24       30         47         22   \n",
       "3             Y  yes       75       23       52         61         23   \n",
       "4             N   no       64       15       49         36         13   \n",
       "..          ...  ...      ...      ...      ...        ...        ...   \n",
       "276           N   no        1        0        1          0          0   \n",
       "277           N   no        2        0        2          0          0   \n",
       "278           N   no        1        0        1          0          0   \n",
       "279           N   no        0        0        0          0          0   \n",
       "280           Y  yes        0        0        0          0          0   \n",
       "\n",
       "     medactive  percactive unique  nas  nis  ncs  \n",
       "0           47          75      1   82   30  100  \n",
       "1           49          69      1   69   20   66  \n",
       "2           25          88          57   24   71  \n",
       "3           38          82          53   27   86  \n",
       "4           23          57          48   13   58  \n",
       "..         ...         ...    ...  ...  ...  ...  \n",
       "276          0           0           1    0    2  \n",
       "277          0           0           1    0    3  \n",
       "278          0           0           1    0    2  \n",
       "279          0           0           0    0    0  \n",
       "280          0           0           0    0    0  \n",
       "\n",
       "[281 rows x 19 columns]"
      ]
     },
     "execution_count": 92,
     "metadata": {},
     "output_type": "execute_result"
    }
   ],
   "source": [
    "df"
   ]
  },
  {
   "cell_type": "code",
   "execution_count": 93,
   "metadata": {},
   "outputs": [
    {
     "data": {
      "application/vnd.plotly.v1+json": {
       "config": {
        "linkText": "Export to plot.ly",
        "plotlyServerURL": "https://plot.ly",
        "showLink": false
       },
       "data": [
        {
         "alignmentgroup": "True",
         "hovertemplate": "<b>%{hovertext}</b><br><br>gender=female<br>Location=%{x}<br>ncs=%{y}<extra></extra>",
         "hovertext": [
          122,
          131,
          185,
          93,
          204,
          84,
          61,
          25,
          56,
          274,
          173,
          42,
          95,
          33,
          223,
          91,
          64,
          81,
          239,
          43,
          263,
          132,
          5,
          184,
          82,
          141,
          154,
          172,
          222,
          114,
          63,
          74,
          150,
          57,
          19,
          98,
          231,
          92,
          159,
          85,
          199,
          45,
          111,
          269,
          34,
          293,
          200,
          62,
          126,
          36,
          125,
          273,
          169,
          75,
          115,
          266,
          73,
          94,
          24,
          58,
          136,
          135,
          146,
          139,
          165,
          268,
          186,
          127,
          116,
          17,
          103,
          285,
          142,
          240,
          106,
          189,
          181,
          156,
          35,
          279,
          99,
          60,
          294,
          289,
          265,
          267,
          171,
          40,
          230,
          4,
          48,
          31,
          228,
          2,
          65,
          121,
          280,
          206,
          260,
          158,
          193,
          225,
          68,
          67,
          233,
          153,
          80,
          234,
          167,
          237,
          97,
          238,
          215,
          281,
          272,
          118,
          148,
          210,
          90,
          133,
          46,
          113,
          38,
          78,
          236,
          151,
          76,
          221,
          283,
          217,
          128,
          191,
          41,
          183,
          51,
          100,
          157,
          160,
          18,
          11,
          20,
          13,
          226,
          229,
          155,
          49,
          105,
          259,
          178,
          152,
          101,
          8,
          235,
          29,
          192,
          270,
          251,
          255,
          248,
          137,
          112,
          144,
          180,
          220,
          257,
          117,
          130,
          163,
          258,
          211,
          264,
          162,
          15,
          277,
          202,
          250,
          246,
          284,
          254,
          256,
          261,
          147,
          247,
          245,
          252
         ],
         "legendgroup": "female",
         "marker": {
          "color": "#636efa"
         },
         "name": "female",
         "offsetgroup": "female",
         "orientation": "v",
         "showlegend": true,
         "textposition": "auto",
         "type": "bar",
         "x": [
          "Gurugram",
          "Gurugram",
          "Gurugram",
          "Bengaluru",
          "Bengaluru",
          "Gurugram",
          "Gurugram",
          "Mumbai",
          "Bengaluru",
          "Mumbai",
          "Gurugram",
          "Gurugram",
          "Gurugram",
          "Gurugram",
          "Gurugram",
          "Gurugram",
          "Gurugram",
          "Gurugram",
          "Bengaluru",
          "Gurugram",
          "Mumbai",
          "Mumbai",
          "Bengaluru",
          "Gurugram",
          "Mumbai",
          "Bengaluru",
          "Mumbai",
          "Gurugram",
          "Gurugram",
          "Gurugram",
          "Mumbai",
          "Pune",
          "Gurugram",
          "Bengaluru",
          "Mumbai",
          "Gurugram",
          "Gurugram",
          "Mumbai",
          "Gurugram",
          "Gurugram",
          "Gurugram",
          "Gurugram",
          "Gurugram",
          "Gurugram",
          "Bengaluru",
          "Bengaluru",
          "Gurugram",
          "Gurugram",
          "Gurugram",
          "Bengaluru",
          "Mumbai",
          "Bengaluru",
          "Gurugram",
          "Gurugram",
          "Mumbai",
          "Gurugram",
          "Bengaluru",
          "Pune",
          "Gurugram",
          "Gurugram",
          "Gurugram",
          "Gurugram",
          "Pune",
          "Mumbai",
          "Gurugram",
          "Bengaluru",
          "Gurugram",
          "Bengaluru",
          "Mumbai",
          "Gurugram",
          "Gurugram",
          "Gurugram",
          "Bengaluru",
          "Mumbai",
          "Bengaluru",
          "Pune",
          "Bengaluru",
          "Gurugram",
          "Bengaluru",
          "Bengaluru",
          "Gurugram",
          "Gurugram",
          "Gurugram",
          "Gurugram",
          "Gurugram",
          "Gurugram",
          "Pune",
          "Mumbai",
          "Gurugram",
          "Bengaluru",
          "Gurugram",
          "Bengaluru",
          "Gurugram",
          "Gurugram",
          "Gurugram",
          "Gurugram",
          "Bengaluru",
          "Gurugram",
          "Mumbai",
          "Gurugram",
          "Gurugram",
          "Gurugram",
          "Mumbai",
          "Gurugram",
          "Bengaluru",
          "Mumbai",
          "Gurugram",
          "Bengaluru",
          "Bengaluru",
          "Bengaluru",
          "Gurugram",
          "Bengaluru",
          "Mumbai",
          "Gurugram",
          "Bengaluru",
          "Gurugram",
          "Gurugram",
          "Bengaluru",
          "Bengaluru",
          "Mumbai",
          "Bengaluru",
          "Pune",
          "Bengaluru",
          "Mumbai",
          "Mumbai",
          "Gurugram",
          "Gurugram",
          "Mumbai",
          "Mumbai",
          "Gurugram",
          "Bengaluru",
          "Gurugram",
          "Mumbai",
          "Bengaluru",
          "Gurugram",
          "Gurugram",
          "Gurugram",
          "Gurugram",
          "Bengaluru",
          "Gurugram",
          "Gurugram",
          "Gurugram",
          "Gurugram",
          "Gurugram",
          "Gurugram",
          "Pune",
          "Gurugram",
          "Bengaluru",
          "Gurugram",
          "Gurugram",
          "Gurugram",
          "Gurugram",
          "Gurugram",
          "Bengaluru",
          "Gurugram",
          "Pune",
          "Gurugram",
          "Mumbai",
          "Gurugram",
          "Bengaluru",
          "Gurugram",
          "Bengaluru",
          "Gurugram",
          "Bengaluru",
          "Mumbai",
          "Gurugram",
          "Gurugram",
          "Bengaluru",
          "Gurugram",
          "Gurugram",
          "Gurugram",
          "Mumbai",
          "Gurugram",
          "Bengaluru",
          "Gurugram",
          "Gurugram",
          "Gurugram",
          "Bengaluru",
          "Mumbai",
          "Pune",
          "Mumbai",
          "Gurugram",
          "Mumbai",
          "Gurugram",
          "Gurugram"
         ],
         "xaxis": "x",
         "y": [
          100,
          66,
          71,
          58,
          83,
          77,
          58,
          38,
          56,
          64,
          43,
          48,
          68,
          55,
          64,
          63,
          53,
          44,
          58,
          51,
          36,
          47,
          24,
          50,
          25,
          44,
          41,
          35,
          45,
          22,
          33,
          21,
          23,
          39,
          16,
          32,
          37,
          31,
          28,
          26,
          17,
          19,
          29,
          42,
          34,
          36,
          20,
          39,
          38,
          39,
          37,
          38,
          37,
          33,
          33,
          15,
          14,
          16,
          13,
          21,
          25,
          28,
          10,
          20,
          25,
          24,
          19,
          26,
          16,
          29,
          22,
          16,
          14,
          22,
          27,
          17,
          10,
          23,
          22,
          36,
          5,
          11,
          11,
          16,
          16,
          9,
          9,
          12,
          17,
          14,
          24,
          16,
          10,
          12,
          27,
          33,
          12,
          17,
          22,
          21,
          12,
          14,
          23,
          13,
          19,
          14,
          9,
          20,
          11,
          16,
          17,
          7,
          19,
          24,
          8,
          5,
          11,
          15,
          22,
          13,
          12,
          14,
          4,
          14,
          12,
          13,
          15,
          7,
          9,
          9,
          7,
          4,
          8,
          13,
          10,
          10,
          14,
          9,
          12,
          10,
          8,
          12,
          11,
          5,
          9,
          13,
          4,
          6,
          9,
          4,
          7,
          11,
          4,
          9,
          4,
          8,
          10,
          8,
          6,
          12,
          5,
          4,
          2,
          8,
          6,
          2,
          2,
          10,
          2,
          2,
          0,
          7,
          2,
          7,
          5,
          2,
          2,
          5,
          6,
          4,
          5,
          3,
          2,
          0,
          0
         ],
         "yaxis": "y"
        },
        {
         "alignmentgroup": "True",
         "hovertemplate": "<b>%{hovertext}</b><br><br>gender=male<br>Location=%{x}<br>ncs=%{y}<extra></extra>",
         "hovertext": [
          287,
          218,
          166,
          54,
          168,
          37,
          32,
          28,
          134,
          66,
          71,
          70,
          161,
          77,
          39,
          52,
          3,
          216,
          232,
          143,
          182,
          47,
          213,
          290,
          10,
          16,
          177,
          224,
          295,
          208,
          124,
          190,
          219,
          123,
          201,
          175,
          6,
          108,
          69,
          9,
          282,
          14,
          86,
          119,
          23,
          243,
          104,
          22,
          1,
          120,
          194,
          187,
          44,
          7,
          107,
          205,
          286,
          188,
          87,
          288,
          212,
          164,
          198,
          179,
          72,
          26,
          209,
          83,
          195,
          197,
          102,
          278,
          271,
          176,
          214,
          30,
          241,
          110,
          292,
          227,
          149,
          129,
          53,
          253,
          88,
          203,
          109,
          249,
          89,
          79,
          55,
          138,
          96,
          275,
          291,
          244
         ],
         "legendgroup": "male",
         "marker": {
          "color": "#EF553B"
         },
         "name": "male",
         "offsetgroup": "male",
         "orientation": "v",
         "showlegend": true,
         "textposition": "auto",
         "type": "bar",
         "x": [
          "Bengaluru",
          "Gurugram",
          "Gurugram",
          "Gurugram",
          "Gurugram",
          "Gurugram",
          "Gurugram",
          "Gurugram",
          "Gurugram",
          "Gurugram",
          "Bengaluru",
          "Bengaluru",
          "Gurugram",
          "Gurugram",
          "Bengaluru",
          "Gurugram",
          "Gurugram",
          "Pune",
          "Bengaluru",
          "Bengaluru",
          "Gurugram",
          "Gurugram",
          "Bengaluru",
          "Gurugram",
          "Gurugram",
          "Bengaluru",
          "Bengaluru",
          "Gurugram",
          "Mumbai",
          "Gurugram",
          "Gurugram",
          "Bengaluru",
          "Gurugram",
          "Gurugram",
          "Pune",
          "Gurugram",
          "Gurugram",
          "Gurugram",
          "Gurugram",
          "Gurugram",
          "Gurugram",
          "Bengaluru",
          "Mumbai",
          "Gurugram",
          "Gurugram",
          "Bengaluru",
          "Gurugram",
          "Gurugram",
          "Mumbai",
          "Bengaluru",
          "Gurugram",
          "Gurugram",
          "Bengaluru",
          "Mumbai",
          "Gurugram",
          "Bengaluru",
          "Bengaluru",
          "Gurugram",
          "Gurugram",
          "Bengaluru",
          "Gurugram",
          "Bengaluru",
          "Mumbai",
          "Gurugram",
          "Mumbai",
          "Mumbai",
          "Gurugram",
          "Mumbai",
          "Mumbai",
          "Gurugram",
          "Bengaluru",
          "Gurugram",
          "Gurugram",
          "Gurugram",
          "Bengaluru",
          "Gurugram",
          "Bengaluru",
          "Pune",
          "Bengaluru",
          "Gurugram",
          "Gurugram",
          "Bengaluru",
          "Gurugram",
          "Gurugram",
          "Bengaluru",
          "Bengaluru",
          "Gurugram",
          "Gurugram",
          "Mumbai",
          "Gurugram",
          "Gurugram",
          "Gurugram",
          "Bengaluru",
          "Bengaluru",
          "Pune",
          "Bengaluru"
         ],
         "xaxis": "x",
         "y": [
          86,
          66,
          74,
          80,
          77,
          53,
          62,
          37,
          47,
          50,
          43,
          19,
          37,
          43,
          23,
          39,
          55,
          48,
          40,
          40,
          29,
          38,
          12,
          32,
          30,
          19,
          12,
          29,
          27,
          27,
          35,
          26,
          25,
          26,
          13,
          22,
          11,
          8,
          26,
          14,
          7,
          11,
          14,
          24,
          22,
          18,
          21,
          11,
          24,
          11,
          33,
          27,
          19,
          23,
          18,
          22,
          15,
          20,
          22,
          18,
          23,
          11,
          12,
          22,
          8,
          14,
          19,
          14,
          23,
          21,
          16,
          10,
          8,
          15,
          16,
          11,
          8,
          13,
          9,
          17,
          10,
          10,
          12,
          8,
          6,
          6,
          10,
          4,
          7,
          18,
          5,
          12,
          8,
          4,
          2,
          2
         ],
         "yaxis": "y"
        }
       ],
       "layout": {
        "barmode": "relative",
        "legend": {
         "title": {
          "text": "gender"
         },
         "tracegroupgap": 0
        },
        "margin": {
         "t": 60
        },
        "template": {
         "data": {
          "bar": [
           {
            "error_x": {
             "color": "#2a3f5f"
            },
            "error_y": {
             "color": "#2a3f5f"
            },
            "marker": {
             "line": {
              "color": "#E5ECF6",
              "width": 0.5
             }
            },
            "type": "bar"
           }
          ],
          "barpolar": [
           {
            "marker": {
             "line": {
              "color": "#E5ECF6",
              "width": 0.5
             }
            },
            "type": "barpolar"
           }
          ],
          "carpet": [
           {
            "aaxis": {
             "endlinecolor": "#2a3f5f",
             "gridcolor": "white",
             "linecolor": "white",
             "minorgridcolor": "white",
             "startlinecolor": "#2a3f5f"
            },
            "baxis": {
             "endlinecolor": "#2a3f5f",
             "gridcolor": "white",
             "linecolor": "white",
             "minorgridcolor": "white",
             "startlinecolor": "#2a3f5f"
            },
            "type": "carpet"
           }
          ],
          "choropleth": [
           {
            "colorbar": {
             "outlinewidth": 0,
             "ticks": ""
            },
            "type": "choropleth"
           }
          ],
          "contour": [
           {
            "colorbar": {
             "outlinewidth": 0,
             "ticks": ""
            },
            "colorscale": [
             [
              0,
              "#0d0887"
             ],
             [
              0.1111111111111111,
              "#46039f"
             ],
             [
              0.2222222222222222,
              "#7201a8"
             ],
             [
              0.3333333333333333,
              "#9c179e"
             ],
             [
              0.4444444444444444,
              "#bd3786"
             ],
             [
              0.5555555555555556,
              "#d8576b"
             ],
             [
              0.6666666666666666,
              "#ed7953"
             ],
             [
              0.7777777777777778,
              "#fb9f3a"
             ],
             [
              0.8888888888888888,
              "#fdca26"
             ],
             [
              1,
              "#f0f921"
             ]
            ],
            "type": "contour"
           }
          ],
          "contourcarpet": [
           {
            "colorbar": {
             "outlinewidth": 0,
             "ticks": ""
            },
            "type": "contourcarpet"
           }
          ],
          "heatmap": [
           {
            "colorbar": {
             "outlinewidth": 0,
             "ticks": ""
            },
            "colorscale": [
             [
              0,
              "#0d0887"
             ],
             [
              0.1111111111111111,
              "#46039f"
             ],
             [
              0.2222222222222222,
              "#7201a8"
             ],
             [
              0.3333333333333333,
              "#9c179e"
             ],
             [
              0.4444444444444444,
              "#bd3786"
             ],
             [
              0.5555555555555556,
              "#d8576b"
             ],
             [
              0.6666666666666666,
              "#ed7953"
             ],
             [
              0.7777777777777778,
              "#fb9f3a"
             ],
             [
              0.8888888888888888,
              "#fdca26"
             ],
             [
              1,
              "#f0f921"
             ]
            ],
            "type": "heatmap"
           }
          ],
          "heatmapgl": [
           {
            "colorbar": {
             "outlinewidth": 0,
             "ticks": ""
            },
            "colorscale": [
             [
              0,
              "#0d0887"
             ],
             [
              0.1111111111111111,
              "#46039f"
             ],
             [
              0.2222222222222222,
              "#7201a8"
             ],
             [
              0.3333333333333333,
              "#9c179e"
             ],
             [
              0.4444444444444444,
              "#bd3786"
             ],
             [
              0.5555555555555556,
              "#d8576b"
             ],
             [
              0.6666666666666666,
              "#ed7953"
             ],
             [
              0.7777777777777778,
              "#fb9f3a"
             ],
             [
              0.8888888888888888,
              "#fdca26"
             ],
             [
              1,
              "#f0f921"
             ]
            ],
            "type": "heatmapgl"
           }
          ],
          "histogram": [
           {
            "marker": {
             "colorbar": {
              "outlinewidth": 0,
              "ticks": ""
             }
            },
            "type": "histogram"
           }
          ],
          "histogram2d": [
           {
            "colorbar": {
             "outlinewidth": 0,
             "ticks": ""
            },
            "colorscale": [
             [
              0,
              "#0d0887"
             ],
             [
              0.1111111111111111,
              "#46039f"
             ],
             [
              0.2222222222222222,
              "#7201a8"
             ],
             [
              0.3333333333333333,
              "#9c179e"
             ],
             [
              0.4444444444444444,
              "#bd3786"
             ],
             [
              0.5555555555555556,
              "#d8576b"
             ],
             [
              0.6666666666666666,
              "#ed7953"
             ],
             [
              0.7777777777777778,
              "#fb9f3a"
             ],
             [
              0.8888888888888888,
              "#fdca26"
             ],
             [
              1,
              "#f0f921"
             ]
            ],
            "type": "histogram2d"
           }
          ],
          "histogram2dcontour": [
           {
            "colorbar": {
             "outlinewidth": 0,
             "ticks": ""
            },
            "colorscale": [
             [
              0,
              "#0d0887"
             ],
             [
              0.1111111111111111,
              "#46039f"
             ],
             [
              0.2222222222222222,
              "#7201a8"
             ],
             [
              0.3333333333333333,
              "#9c179e"
             ],
             [
              0.4444444444444444,
              "#bd3786"
             ],
             [
              0.5555555555555556,
              "#d8576b"
             ],
             [
              0.6666666666666666,
              "#ed7953"
             ],
             [
              0.7777777777777778,
              "#fb9f3a"
             ],
             [
              0.8888888888888888,
              "#fdca26"
             ],
             [
              1,
              "#f0f921"
             ]
            ],
            "type": "histogram2dcontour"
           }
          ],
          "mesh3d": [
           {
            "colorbar": {
             "outlinewidth": 0,
             "ticks": ""
            },
            "type": "mesh3d"
           }
          ],
          "parcoords": [
           {
            "line": {
             "colorbar": {
              "outlinewidth": 0,
              "ticks": ""
             }
            },
            "type": "parcoords"
           }
          ],
          "pie": [
           {
            "automargin": true,
            "type": "pie"
           }
          ],
          "scatter": [
           {
            "marker": {
             "colorbar": {
              "outlinewidth": 0,
              "ticks": ""
             }
            },
            "type": "scatter"
           }
          ],
          "scatter3d": [
           {
            "line": {
             "colorbar": {
              "outlinewidth": 0,
              "ticks": ""
             }
            },
            "marker": {
             "colorbar": {
              "outlinewidth": 0,
              "ticks": ""
             }
            },
            "type": "scatter3d"
           }
          ],
          "scattercarpet": [
           {
            "marker": {
             "colorbar": {
              "outlinewidth": 0,
              "ticks": ""
             }
            },
            "type": "scattercarpet"
           }
          ],
          "scattergeo": [
           {
            "marker": {
             "colorbar": {
              "outlinewidth": 0,
              "ticks": ""
             }
            },
            "type": "scattergeo"
           }
          ],
          "scattergl": [
           {
            "marker": {
             "colorbar": {
              "outlinewidth": 0,
              "ticks": ""
             }
            },
            "type": "scattergl"
           }
          ],
          "scattermapbox": [
           {
            "marker": {
             "colorbar": {
              "outlinewidth": 0,
              "ticks": ""
             }
            },
            "type": "scattermapbox"
           }
          ],
          "scatterpolar": [
           {
            "marker": {
             "colorbar": {
              "outlinewidth": 0,
              "ticks": ""
             }
            },
            "type": "scatterpolar"
           }
          ],
          "scatterpolargl": [
           {
            "marker": {
             "colorbar": {
              "outlinewidth": 0,
              "ticks": ""
             }
            },
            "type": "scatterpolargl"
           }
          ],
          "scatterternary": [
           {
            "marker": {
             "colorbar": {
              "outlinewidth": 0,
              "ticks": ""
             }
            },
            "type": "scatterternary"
           }
          ],
          "surface": [
           {
            "colorbar": {
             "outlinewidth": 0,
             "ticks": ""
            },
            "colorscale": [
             [
              0,
              "#0d0887"
             ],
             [
              0.1111111111111111,
              "#46039f"
             ],
             [
              0.2222222222222222,
              "#7201a8"
             ],
             [
              0.3333333333333333,
              "#9c179e"
             ],
             [
              0.4444444444444444,
              "#bd3786"
             ],
             [
              0.5555555555555556,
              "#d8576b"
             ],
             [
              0.6666666666666666,
              "#ed7953"
             ],
             [
              0.7777777777777778,
              "#fb9f3a"
             ],
             [
              0.8888888888888888,
              "#fdca26"
             ],
             [
              1,
              "#f0f921"
             ]
            ],
            "type": "surface"
           }
          ],
          "table": [
           {
            "cells": {
             "fill": {
              "color": "#EBF0F8"
             },
             "line": {
              "color": "white"
             }
            },
            "header": {
             "fill": {
              "color": "#C8D4E3"
             },
             "line": {
              "color": "white"
             }
            },
            "type": "table"
           }
          ]
         },
         "layout": {
          "annotationdefaults": {
           "arrowcolor": "#2a3f5f",
           "arrowhead": 0,
           "arrowwidth": 1
          },
          "coloraxis": {
           "colorbar": {
            "outlinewidth": 0,
            "ticks": ""
           }
          },
          "colorscale": {
           "diverging": [
            [
             0,
             "#8e0152"
            ],
            [
             0.1,
             "#c51b7d"
            ],
            [
             0.2,
             "#de77ae"
            ],
            [
             0.3,
             "#f1b6da"
            ],
            [
             0.4,
             "#fde0ef"
            ],
            [
             0.5,
             "#f7f7f7"
            ],
            [
             0.6,
             "#e6f5d0"
            ],
            [
             0.7,
             "#b8e186"
            ],
            [
             0.8,
             "#7fbc41"
            ],
            [
             0.9,
             "#4d9221"
            ],
            [
             1,
             "#276419"
            ]
           ],
           "sequential": [
            [
             0,
             "#0d0887"
            ],
            [
             0.1111111111111111,
             "#46039f"
            ],
            [
             0.2222222222222222,
             "#7201a8"
            ],
            [
             0.3333333333333333,
             "#9c179e"
            ],
            [
             0.4444444444444444,
             "#bd3786"
            ],
            [
             0.5555555555555556,
             "#d8576b"
            ],
            [
             0.6666666666666666,
             "#ed7953"
            ],
            [
             0.7777777777777778,
             "#fb9f3a"
            ],
            [
             0.8888888888888888,
             "#fdca26"
            ],
            [
             1,
             "#f0f921"
            ]
           ],
           "sequentialminus": [
            [
             0,
             "#0d0887"
            ],
            [
             0.1111111111111111,
             "#46039f"
            ],
            [
             0.2222222222222222,
             "#7201a8"
            ],
            [
             0.3333333333333333,
             "#9c179e"
            ],
            [
             0.4444444444444444,
             "#bd3786"
            ],
            [
             0.5555555555555556,
             "#d8576b"
            ],
            [
             0.6666666666666666,
             "#ed7953"
            ],
            [
             0.7777777777777778,
             "#fb9f3a"
            ],
            [
             0.8888888888888888,
             "#fdca26"
            ],
            [
             1,
             "#f0f921"
            ]
           ]
          },
          "colorway": [
           "#636efa",
           "#EF553B",
           "#00cc96",
           "#ab63fa",
           "#FFA15A",
           "#19d3f3",
           "#FF6692",
           "#B6E880",
           "#FF97FF",
           "#FECB52"
          ],
          "font": {
           "color": "#2a3f5f"
          },
          "geo": {
           "bgcolor": "white",
           "lakecolor": "white",
           "landcolor": "#E5ECF6",
           "showlakes": true,
           "showland": true,
           "subunitcolor": "white"
          },
          "hoverlabel": {
           "align": "left"
          },
          "hovermode": "closest",
          "mapbox": {
           "style": "light"
          },
          "paper_bgcolor": "white",
          "plot_bgcolor": "#E5ECF6",
          "polar": {
           "angularaxis": {
            "gridcolor": "white",
            "linecolor": "white",
            "ticks": ""
           },
           "bgcolor": "#E5ECF6",
           "radialaxis": {
            "gridcolor": "white",
            "linecolor": "white",
            "ticks": ""
           }
          },
          "scene": {
           "xaxis": {
            "backgroundcolor": "#E5ECF6",
            "gridcolor": "white",
            "gridwidth": 2,
            "linecolor": "white",
            "showbackground": true,
            "ticks": "",
            "zerolinecolor": "white"
           },
           "yaxis": {
            "backgroundcolor": "#E5ECF6",
            "gridcolor": "white",
            "gridwidth": 2,
            "linecolor": "white",
            "showbackground": true,
            "ticks": "",
            "zerolinecolor": "white"
           },
           "zaxis": {
            "backgroundcolor": "#E5ECF6",
            "gridcolor": "white",
            "gridwidth": 2,
            "linecolor": "white",
            "showbackground": true,
            "ticks": "",
            "zerolinecolor": "white"
           }
          },
          "shapedefaults": {
           "line": {
            "color": "#2a3f5f"
           }
          },
          "ternary": {
           "aaxis": {
            "gridcolor": "white",
            "linecolor": "white",
            "ticks": ""
           },
           "baxis": {
            "gridcolor": "white",
            "linecolor": "white",
            "ticks": ""
           },
           "bgcolor": "#E5ECF6",
           "caxis": {
            "gridcolor": "white",
            "linecolor": "white",
            "ticks": ""
           }
          },
          "title": {
           "x": 0.05
          },
          "xaxis": {
           "automargin": true,
           "gridcolor": "white",
           "linecolor": "white",
           "ticks": "",
           "title": {
            "standoff": 15
           },
           "zerolinecolor": "white",
           "zerolinewidth": 2
          },
          "yaxis": {
           "automargin": true,
           "gridcolor": "white",
           "linecolor": "white",
           "ticks": "",
           "title": {
            "standoff": 15
           },
           "zerolinecolor": "white",
           "zerolinewidth": 2
          }
         }
        },
        "title": {
         "text": "Network Connector Score by Location"
        },
        "xaxis": {
         "anchor": "y",
         "domain": [
          0,
          1
         ],
         "title": {
          "text": "Location"
         }
        },
        "yaxis": {
         "anchor": "x",
         "domain": [
          0,
          1
         ],
         "showticklabels": false,
         "title": {
          "text": "ncs"
         }
        }
       }
      },
      "text/html": [
       "<div>\n",
       "        \n",
       "        \n",
       "            <div id=\"80b77244-82f8-4476-a93a-2be37b1e0487\" class=\"plotly-graph-div\" style=\"height:525px; width:100%;\"></div>\n",
       "            <script type=\"text/javascript\">\n",
       "                require([\"plotly\"], function(Plotly) {\n",
       "                    window.PLOTLYENV=window.PLOTLYENV || {};\n",
       "                    \n",
       "                if (document.getElementById(\"80b77244-82f8-4476-a93a-2be37b1e0487\")) {\n",
       "                    Plotly.newPlot(\n",
       "                        '80b77244-82f8-4476-a93a-2be37b1e0487',\n",
       "                        [{\"alignmentgroup\": \"True\", \"hovertemplate\": \"<b>%{hovertext}</b><br><br>gender=female<br>Location=%{x}<br>ncs=%{y}<extra></extra>\", \"hovertext\": [122.0, 131.0, 185.0, 93.0, 204.0, 84.0, 61.0, 25.0, 56.0, 274.0, 173.0, 42.0, 95.0, 33.0, 223.0, 91.0, 64.0, 81.0, 239.0, 43.0, 263.0, 132.0, 5.0, 184.0, 82.0, 141.0, 154.0, 172.0, 222.0, 114.0, 63.0, 74.0, 150.0, 57.0, 19.0, 98.0, 231.0, 92.0, 159.0, 85.0, 199.0, 45.0, 111.0, 269.0, 34.0, 293.0, 200.0, 62.0, 126.0, 36.0, 125.0, 273.0, 169.0, 75.0, 115.0, 266.0, 73.0, 94.0, 24.0, 58.0, 136.0, 135.0, 146.0, 139.0, 165.0, 268.0, 186.0, 127.0, 116.0, 17.0, 103.0, 285.0, 142.0, 240.0, 106.0, 189.0, 181.0, 156.0, 35.0, 279.0, 99.0, 60.0, 294.0, 289.0, 265.0, 267.0, 171.0, 40.0, 230.0, 4.0, 48.0, 31.0, 228.0, 2.0, 65.0, 121.0, 280.0, 206.0, 260.0, 158.0, 193.0, 225.0, 68.0, 67.0, 233.0, 153.0, 80.0, 234.0, 167.0, 237.0, 97.0, 238.0, 215.0, 281.0, 272.0, 118.0, 148.0, 210.0, 90.0, 133.0, 46.0, 113.0, 38.0, 78.0, 236.0, 151.0, 76.0, 221.0, 283.0, 217.0, 128.0, 191.0, 41.0, 183.0, 51.0, 100.0, 157.0, 160.0, 18.0, 11.0, 20.0, 13.0, 226.0, 229.0, 155.0, 49.0, 105.0, 259.0, 178.0, 152.0, 101.0, 8.0, 235.0, 29.0, 192.0, 270.0, 251.0, 255.0, 248.0, 137.0, 112.0, 144.0, 180.0, 220.0, 257.0, 117.0, 130.0, 163.0, 258.0, 211.0, 264.0, 162.0, 15.0, 277.0, 202.0, 250.0, 246.0, 284.0, 254.0, 256.0, 261.0, 147.0, 247.0, 245.0, 252.0], \"legendgroup\": \"female\", \"marker\": {\"color\": \"#636efa\"}, \"name\": \"female\", \"offsetgroup\": \"female\", \"orientation\": \"v\", \"showlegend\": true, \"textposition\": \"auto\", \"type\": \"bar\", \"x\": [\"Gurugram\", \"Gurugram\", \"Gurugram\", \"Bengaluru\", \"Bengaluru\", \"Gurugram\", \"Gurugram\", \"Mumbai\", \"Bengaluru\", \"Mumbai\", \"Gurugram\", \"Gurugram\", \"Gurugram\", \"Gurugram\", \"Gurugram\", \"Gurugram\", \"Gurugram\", \"Gurugram\", \"Bengaluru\", \"Gurugram\", \"Mumbai\", \"Mumbai\", \"Bengaluru\", \"Gurugram\", \"Mumbai\", \"Bengaluru\", \"Mumbai\", \"Gurugram\", \"Gurugram\", \"Gurugram\", \"Mumbai\", \"Pune\", \"Gurugram\", \"Bengaluru\", \"Mumbai\", \"Gurugram\", \"Gurugram\", \"Mumbai\", \"Gurugram\", \"Gurugram\", \"Gurugram\", \"Gurugram\", \"Gurugram\", \"Gurugram\", \"Bengaluru\", \"Bengaluru\", \"Gurugram\", \"Gurugram\", \"Gurugram\", \"Bengaluru\", \"Mumbai\", \"Bengaluru\", \"Gurugram\", \"Gurugram\", \"Mumbai\", \"Gurugram\", \"Bengaluru\", \"Pune\", \"Gurugram\", \"Gurugram\", \"Gurugram\", \"Gurugram\", \"Pune\", \"Mumbai\", \"Gurugram\", \"Bengaluru\", \"Gurugram\", \"Bengaluru\", \"Mumbai\", \"Gurugram\", \"Gurugram\", \"Gurugram\", \"Bengaluru\", \"Mumbai\", \"Bengaluru\", \"Pune\", \"Bengaluru\", \"Gurugram\", \"Bengaluru\", \"Bengaluru\", \"Gurugram\", \"Gurugram\", \"Gurugram\", \"Gurugram\", \"Gurugram\", \"Gurugram\", \"Pune\", \"Mumbai\", \"Gurugram\", \"Bengaluru\", \"Gurugram\", \"Bengaluru\", \"Gurugram\", \"Gurugram\", \"Gurugram\", \"Gurugram\", \"Bengaluru\", \"Gurugram\", \"Mumbai\", \"Gurugram\", \"Gurugram\", \"Gurugram\", \"Mumbai\", \"Gurugram\", \"Bengaluru\", \"Mumbai\", \"Gurugram\", \"Bengaluru\", \"Bengaluru\", \"Bengaluru\", \"Gurugram\", \"Bengaluru\", \"Mumbai\", \"Gurugram\", \"Bengaluru\", \"Gurugram\", \"Gurugram\", \"Bengaluru\", \"Bengaluru\", \"Mumbai\", \"Bengaluru\", \"Pune\", \"Bengaluru\", \"Mumbai\", \"Mumbai\", \"Gurugram\", \"Gurugram\", \"Mumbai\", \"Mumbai\", \"Gurugram\", \"Bengaluru\", \"Gurugram\", \"Mumbai\", \"Bengaluru\", \"Gurugram\", \"Gurugram\", \"Gurugram\", \"Gurugram\", \"Bengaluru\", \"Gurugram\", \"Gurugram\", \"Gurugram\", \"Gurugram\", \"Gurugram\", \"Gurugram\", \"Pune\", \"Gurugram\", \"Bengaluru\", \"Gurugram\", \"Gurugram\", \"Gurugram\", \"Gurugram\", \"Gurugram\", \"Bengaluru\", \"Gurugram\", \"Pune\", \"Gurugram\", \"Mumbai\", \"Gurugram\", \"Bengaluru\", \"Gurugram\", \"Bengaluru\", \"Gurugram\", \"Bengaluru\", \"Mumbai\", \"Gurugram\", \"Gurugram\", \"Bengaluru\", \"Gurugram\", \"Gurugram\", \"Gurugram\", \"Mumbai\", \"Gurugram\", \"Bengaluru\", \"Gurugram\", \"Gurugram\", \"Gurugram\", \"Bengaluru\", \"Mumbai\", \"Pune\", \"Mumbai\", \"Gurugram\", \"Mumbai\", \"Gurugram\", \"Gurugram\"], \"xaxis\": \"x\", \"y\": [100, 66, 71, 58, 83, 77, 58, 38, 56, 64, 43, 48, 68, 55, 64, 63, 53, 44, 58, 51, 36, 47, 24, 50, 25, 44, 41, 35, 45, 22, 33, 21, 23, 39, 16, 32, 37, 31, 28, 26, 17, 19, 29, 42, 34, 36, 20, 39, 38, 39, 37, 38, 37, 33, 33, 15, 14, 16, 13, 21, 25, 28, 10, 20, 25, 24, 19, 26, 16, 29, 22, 16, 14, 22, 27, 17, 10, 23, 22, 36, 5, 11, 11, 16, 16, 9, 9, 12, 17, 14, 24, 16, 10, 12, 27, 33, 12, 17, 22, 21, 12, 14, 23, 13, 19, 14, 9, 20, 11, 16, 17, 7, 19, 24, 8, 5, 11, 15, 22, 13, 12, 14, 4, 14, 12, 13, 15, 7, 9, 9, 7, 4, 8, 13, 10, 10, 14, 9, 12, 10, 8, 12, 11, 5, 9, 13, 4, 6, 9, 4, 7, 11, 4, 9, 4, 8, 10, 8, 6, 12, 5, 4, 2, 8, 6, 2, 2, 10, 2, 2, 0, 7, 2, 7, 5, 2, 2, 5, 6, 4, 5, 3, 2, 0, 0], \"yaxis\": \"y\"}, {\"alignmentgroup\": \"True\", \"hovertemplate\": \"<b>%{hovertext}</b><br><br>gender=male<br>Location=%{x}<br>ncs=%{y}<extra></extra>\", \"hovertext\": [287.0, 218.0, 166.0, 54.0, 168.0, 37.0, 32.0, 28.0, 134.0, 66.0, 71.0, 70.0, 161.0, 77.0, 39.0, 52.0, 3.0, 216.0, 232.0, 143.0, 182.0, 47.0, 213.0, 290.0, 10.0, 16.0, 177.0, 224.0, 295.0, 208.0, 124.0, 190.0, 219.0, 123.0, 201.0, 175.0, 6.0, 108.0, 69.0, 9.0, 282.0, 14.0, 86.0, 119.0, 23.0, 243.0, 104.0, 22.0, 1.0, 120.0, 194.0, 187.0, 44.0, 7.0, 107.0, 205.0, 286.0, 188.0, 87.0, 288.0, 212.0, 164.0, 198.0, 179.0, 72.0, 26.0, 209.0, 83.0, 195.0, 197.0, 102.0, 278.0, 271.0, 176.0, 214.0, 30.0, 241.0, 110.0, 292.0, 227.0, 149.0, 129.0, 53.0, 253.0, 88.0, 203.0, 109.0, 249.0, 89.0, 79.0, 55.0, 138.0, 96.0, 275.0, 291.0, 244.0], \"legendgroup\": \"male\", \"marker\": {\"color\": \"#EF553B\"}, \"name\": \"male\", \"offsetgroup\": \"male\", \"orientation\": \"v\", \"showlegend\": true, \"textposition\": \"auto\", \"type\": \"bar\", \"x\": [\"Bengaluru\", \"Gurugram\", \"Gurugram\", \"Gurugram\", \"Gurugram\", \"Gurugram\", \"Gurugram\", \"Gurugram\", \"Gurugram\", \"Gurugram\", \"Bengaluru\", \"Bengaluru\", \"Gurugram\", \"Gurugram\", \"Bengaluru\", \"Gurugram\", \"Gurugram\", \"Pune\", \"Bengaluru\", \"Bengaluru\", \"Gurugram\", \"Gurugram\", \"Bengaluru\", \"Gurugram\", \"Gurugram\", \"Bengaluru\", \"Bengaluru\", \"Gurugram\", \"Mumbai\", \"Gurugram\", \"Gurugram\", \"Bengaluru\", \"Gurugram\", \"Gurugram\", \"Pune\", \"Gurugram\", \"Gurugram\", \"Gurugram\", \"Gurugram\", \"Gurugram\", \"Gurugram\", \"Bengaluru\", \"Mumbai\", \"Gurugram\", \"Gurugram\", \"Bengaluru\", \"Gurugram\", \"Gurugram\", \"Mumbai\", \"Bengaluru\", \"Gurugram\", \"Gurugram\", \"Bengaluru\", \"Mumbai\", \"Gurugram\", \"Bengaluru\", \"Bengaluru\", \"Gurugram\", \"Gurugram\", \"Bengaluru\", \"Gurugram\", \"Bengaluru\", \"Mumbai\", \"Gurugram\", \"Mumbai\", \"Mumbai\", \"Gurugram\", \"Mumbai\", \"Mumbai\", \"Gurugram\", \"Bengaluru\", \"Gurugram\", \"Gurugram\", \"Gurugram\", \"Bengaluru\", \"Gurugram\", \"Bengaluru\", \"Pune\", \"Bengaluru\", \"Gurugram\", \"Gurugram\", \"Bengaluru\", \"Gurugram\", \"Gurugram\", \"Bengaluru\", \"Bengaluru\", \"Gurugram\", \"Gurugram\", \"Mumbai\", \"Gurugram\", \"Gurugram\", \"Gurugram\", \"Bengaluru\", \"Bengaluru\", \"Pune\", \"Bengaluru\"], \"xaxis\": \"x\", \"y\": [86, 66, 74, 80, 77, 53, 62, 37, 47, 50, 43, 19, 37, 43, 23, 39, 55, 48, 40, 40, 29, 38, 12, 32, 30, 19, 12, 29, 27, 27, 35, 26, 25, 26, 13, 22, 11, 8, 26, 14, 7, 11, 14, 24, 22, 18, 21, 11, 24, 11, 33, 27, 19, 23, 18, 22, 15, 20, 22, 18, 23, 11, 12, 22, 8, 14, 19, 14, 23, 21, 16, 10, 8, 15, 16, 11, 8, 13, 9, 17, 10, 10, 12, 8, 6, 6, 10, 4, 7, 18, 5, 12, 8, 4, 2, 2], \"yaxis\": \"y\"}],\n",
       "                        {\"barmode\": \"relative\", \"legend\": {\"title\": {\"text\": \"gender\"}, \"tracegroupgap\": 0}, \"margin\": {\"t\": 60}, \"template\": {\"data\": {\"bar\": [{\"error_x\": {\"color\": \"#2a3f5f\"}, \"error_y\": {\"color\": \"#2a3f5f\"}, \"marker\": {\"line\": {\"color\": \"#E5ECF6\", \"width\": 0.5}}, \"type\": \"bar\"}], \"barpolar\": [{\"marker\": {\"line\": {\"color\": \"#E5ECF6\", \"width\": 0.5}}, \"type\": \"barpolar\"}], \"carpet\": [{\"aaxis\": {\"endlinecolor\": \"#2a3f5f\", \"gridcolor\": \"white\", \"linecolor\": \"white\", \"minorgridcolor\": \"white\", \"startlinecolor\": \"#2a3f5f\"}, \"baxis\": {\"endlinecolor\": \"#2a3f5f\", \"gridcolor\": \"white\", \"linecolor\": \"white\", \"minorgridcolor\": \"white\", \"startlinecolor\": \"#2a3f5f\"}, \"type\": \"carpet\"}], \"choropleth\": [{\"colorbar\": {\"outlinewidth\": 0, \"ticks\": \"\"}, \"type\": \"choropleth\"}], \"contour\": [{\"colorbar\": {\"outlinewidth\": 0, \"ticks\": \"\"}, \"colorscale\": [[0.0, \"#0d0887\"], [0.1111111111111111, \"#46039f\"], [0.2222222222222222, \"#7201a8\"], [0.3333333333333333, \"#9c179e\"], [0.4444444444444444, \"#bd3786\"], [0.5555555555555556, \"#d8576b\"], [0.6666666666666666, \"#ed7953\"], [0.7777777777777778, \"#fb9f3a\"], [0.8888888888888888, \"#fdca26\"], [1.0, \"#f0f921\"]], \"type\": \"contour\"}], \"contourcarpet\": [{\"colorbar\": {\"outlinewidth\": 0, \"ticks\": \"\"}, \"type\": \"contourcarpet\"}], \"heatmap\": [{\"colorbar\": {\"outlinewidth\": 0, \"ticks\": \"\"}, \"colorscale\": [[0.0, \"#0d0887\"], [0.1111111111111111, \"#46039f\"], [0.2222222222222222, \"#7201a8\"], [0.3333333333333333, \"#9c179e\"], [0.4444444444444444, \"#bd3786\"], [0.5555555555555556, \"#d8576b\"], [0.6666666666666666, \"#ed7953\"], [0.7777777777777778, \"#fb9f3a\"], [0.8888888888888888, \"#fdca26\"], [1.0, \"#f0f921\"]], \"type\": \"heatmap\"}], \"heatmapgl\": [{\"colorbar\": {\"outlinewidth\": 0, \"ticks\": \"\"}, \"colorscale\": [[0.0, \"#0d0887\"], [0.1111111111111111, \"#46039f\"], [0.2222222222222222, \"#7201a8\"], [0.3333333333333333, \"#9c179e\"], [0.4444444444444444, \"#bd3786\"], [0.5555555555555556, \"#d8576b\"], [0.6666666666666666, \"#ed7953\"], [0.7777777777777778, \"#fb9f3a\"], [0.8888888888888888, \"#fdca26\"], [1.0, \"#f0f921\"]], \"type\": \"heatmapgl\"}], \"histogram\": [{\"marker\": {\"colorbar\": {\"outlinewidth\": 0, \"ticks\": \"\"}}, \"type\": \"histogram\"}], \"histogram2d\": [{\"colorbar\": {\"outlinewidth\": 0, \"ticks\": \"\"}, \"colorscale\": [[0.0, \"#0d0887\"], [0.1111111111111111, \"#46039f\"], [0.2222222222222222, \"#7201a8\"], [0.3333333333333333, \"#9c179e\"], [0.4444444444444444, \"#bd3786\"], [0.5555555555555556, \"#d8576b\"], [0.6666666666666666, \"#ed7953\"], [0.7777777777777778, \"#fb9f3a\"], [0.8888888888888888, \"#fdca26\"], [1.0, \"#f0f921\"]], \"type\": \"histogram2d\"}], \"histogram2dcontour\": [{\"colorbar\": {\"outlinewidth\": 0, \"ticks\": \"\"}, \"colorscale\": [[0.0, \"#0d0887\"], [0.1111111111111111, \"#46039f\"], [0.2222222222222222, \"#7201a8\"], [0.3333333333333333, \"#9c179e\"], [0.4444444444444444, \"#bd3786\"], [0.5555555555555556, \"#d8576b\"], [0.6666666666666666, \"#ed7953\"], [0.7777777777777778, \"#fb9f3a\"], [0.8888888888888888, \"#fdca26\"], [1.0, \"#f0f921\"]], \"type\": \"histogram2dcontour\"}], \"mesh3d\": [{\"colorbar\": {\"outlinewidth\": 0, \"ticks\": \"\"}, \"type\": \"mesh3d\"}], \"parcoords\": [{\"line\": {\"colorbar\": {\"outlinewidth\": 0, \"ticks\": \"\"}}, \"type\": \"parcoords\"}], \"pie\": [{\"automargin\": true, \"type\": \"pie\"}], \"scatter\": [{\"marker\": {\"colorbar\": {\"outlinewidth\": 0, \"ticks\": \"\"}}, \"type\": \"scatter\"}], \"scatter3d\": [{\"line\": {\"colorbar\": {\"outlinewidth\": 0, \"ticks\": \"\"}}, \"marker\": {\"colorbar\": {\"outlinewidth\": 0, \"ticks\": \"\"}}, \"type\": \"scatter3d\"}], \"scattercarpet\": [{\"marker\": {\"colorbar\": {\"outlinewidth\": 0, \"ticks\": \"\"}}, \"type\": \"scattercarpet\"}], \"scattergeo\": [{\"marker\": {\"colorbar\": {\"outlinewidth\": 0, \"ticks\": \"\"}}, \"type\": \"scattergeo\"}], \"scattergl\": [{\"marker\": {\"colorbar\": {\"outlinewidth\": 0, \"ticks\": \"\"}}, \"type\": \"scattergl\"}], \"scattermapbox\": [{\"marker\": {\"colorbar\": {\"outlinewidth\": 0, \"ticks\": \"\"}}, \"type\": \"scattermapbox\"}], \"scatterpolar\": [{\"marker\": {\"colorbar\": {\"outlinewidth\": 0, \"ticks\": \"\"}}, \"type\": \"scatterpolar\"}], \"scatterpolargl\": [{\"marker\": {\"colorbar\": {\"outlinewidth\": 0, \"ticks\": \"\"}}, \"type\": \"scatterpolargl\"}], \"scatterternary\": [{\"marker\": {\"colorbar\": {\"outlinewidth\": 0, \"ticks\": \"\"}}, \"type\": \"scatterternary\"}], \"surface\": [{\"colorbar\": {\"outlinewidth\": 0, \"ticks\": \"\"}, \"colorscale\": [[0.0, \"#0d0887\"], [0.1111111111111111, \"#46039f\"], [0.2222222222222222, \"#7201a8\"], [0.3333333333333333, \"#9c179e\"], [0.4444444444444444, \"#bd3786\"], [0.5555555555555556, \"#d8576b\"], [0.6666666666666666, \"#ed7953\"], [0.7777777777777778, \"#fb9f3a\"], [0.8888888888888888, \"#fdca26\"], [1.0, \"#f0f921\"]], \"type\": \"surface\"}], \"table\": [{\"cells\": {\"fill\": {\"color\": \"#EBF0F8\"}, \"line\": {\"color\": \"white\"}}, \"header\": {\"fill\": {\"color\": \"#C8D4E3\"}, \"line\": {\"color\": \"white\"}}, \"type\": \"table\"}]}, \"layout\": {\"annotationdefaults\": {\"arrowcolor\": \"#2a3f5f\", \"arrowhead\": 0, \"arrowwidth\": 1}, \"coloraxis\": {\"colorbar\": {\"outlinewidth\": 0, \"ticks\": \"\"}}, \"colorscale\": {\"diverging\": [[0, \"#8e0152\"], [0.1, \"#c51b7d\"], [0.2, \"#de77ae\"], [0.3, \"#f1b6da\"], [0.4, \"#fde0ef\"], [0.5, \"#f7f7f7\"], [0.6, \"#e6f5d0\"], [0.7, \"#b8e186\"], [0.8, \"#7fbc41\"], [0.9, \"#4d9221\"], [1, \"#276419\"]], \"sequential\": [[0.0, \"#0d0887\"], [0.1111111111111111, \"#46039f\"], [0.2222222222222222, \"#7201a8\"], [0.3333333333333333, \"#9c179e\"], [0.4444444444444444, \"#bd3786\"], [0.5555555555555556, \"#d8576b\"], [0.6666666666666666, \"#ed7953\"], [0.7777777777777778, \"#fb9f3a\"], [0.8888888888888888, \"#fdca26\"], [1.0, \"#f0f921\"]], \"sequentialminus\": [[0.0, \"#0d0887\"], [0.1111111111111111, \"#46039f\"], [0.2222222222222222, \"#7201a8\"], [0.3333333333333333, \"#9c179e\"], [0.4444444444444444, \"#bd3786\"], [0.5555555555555556, \"#d8576b\"], [0.6666666666666666, \"#ed7953\"], [0.7777777777777778, \"#fb9f3a\"], [0.8888888888888888, \"#fdca26\"], [1.0, \"#f0f921\"]]}, \"colorway\": [\"#636efa\", \"#EF553B\", \"#00cc96\", \"#ab63fa\", \"#FFA15A\", \"#19d3f3\", \"#FF6692\", \"#B6E880\", \"#FF97FF\", \"#FECB52\"], \"font\": {\"color\": \"#2a3f5f\"}, \"geo\": {\"bgcolor\": \"white\", \"lakecolor\": \"white\", \"landcolor\": \"#E5ECF6\", \"showlakes\": true, \"showland\": true, \"subunitcolor\": \"white\"}, \"hoverlabel\": {\"align\": \"left\"}, \"hovermode\": \"closest\", \"mapbox\": {\"style\": \"light\"}, \"paper_bgcolor\": \"white\", \"plot_bgcolor\": \"#E5ECF6\", \"polar\": {\"angularaxis\": {\"gridcolor\": \"white\", \"linecolor\": \"white\", \"ticks\": \"\"}, \"bgcolor\": \"#E5ECF6\", \"radialaxis\": {\"gridcolor\": \"white\", \"linecolor\": \"white\", \"ticks\": \"\"}}, \"scene\": {\"xaxis\": {\"backgroundcolor\": \"#E5ECF6\", \"gridcolor\": \"white\", \"gridwidth\": 2, \"linecolor\": \"white\", \"showbackground\": true, \"ticks\": \"\", \"zerolinecolor\": \"white\"}, \"yaxis\": {\"backgroundcolor\": \"#E5ECF6\", \"gridcolor\": \"white\", \"gridwidth\": 2, \"linecolor\": \"white\", \"showbackground\": true, \"ticks\": \"\", \"zerolinecolor\": \"white\"}, \"zaxis\": {\"backgroundcolor\": \"#E5ECF6\", \"gridcolor\": \"white\", \"gridwidth\": 2, \"linecolor\": \"white\", \"showbackground\": true, \"ticks\": \"\", \"zerolinecolor\": \"white\"}}, \"shapedefaults\": {\"line\": {\"color\": \"#2a3f5f\"}}, \"ternary\": {\"aaxis\": {\"gridcolor\": \"white\", \"linecolor\": \"white\", \"ticks\": \"\"}, \"baxis\": {\"gridcolor\": \"white\", \"linecolor\": \"white\", \"ticks\": \"\"}, \"bgcolor\": \"#E5ECF6\", \"caxis\": {\"gridcolor\": \"white\", \"linecolor\": \"white\", \"ticks\": \"\"}}, \"title\": {\"x\": 0.05}, \"xaxis\": {\"automargin\": true, \"gridcolor\": \"white\", \"linecolor\": \"white\", \"ticks\": \"\", \"title\": {\"standoff\": 15}, \"zerolinecolor\": \"white\", \"zerolinewidth\": 2}, \"yaxis\": {\"automargin\": true, \"gridcolor\": \"white\", \"linecolor\": \"white\", \"ticks\": \"\", \"title\": {\"standoff\": 15}, \"zerolinecolor\": \"white\", \"zerolinewidth\": 2}}}, \"title\": {\"text\": \"Network Connector Score by Location\"}, \"xaxis\": {\"anchor\": \"y\", \"domain\": [0.0, 1.0], \"title\": {\"text\": \"Location\"}}, \"yaxis\": {\"anchor\": \"x\", \"domain\": [0.0, 1.0], \"showticklabels\": false, \"title\": {\"text\": \"ncs\"}}},\n",
       "                        {\"responsive\": true}\n",
       "                    ).then(function(){\n",
       "                            \n",
       "var gd = document.getElementById('80b77244-82f8-4476-a93a-2be37b1e0487');\n",
       "var x = new MutationObserver(function (mutations, observer) {{\n",
       "        var display = window.getComputedStyle(gd).display;\n",
       "        if (!display || display === 'none') {{\n",
       "            console.log([gd, 'removed!']);\n",
       "            Plotly.purge(gd);\n",
       "            observer.disconnect();\n",
       "        }}\n",
       "}});\n",
       "\n",
       "// Listen for the removal of the full notebook cells\n",
       "var notebookContainer = gd.closest('#notebook-container');\n",
       "if (notebookContainer) {{\n",
       "    x.observe(notebookContainer, {childList: true});\n",
       "}}\n",
       "\n",
       "// Listen for the clearing of the current output cell\n",
       "var outputEl = gd.closest('.output');\n",
       "if (outputEl) {{\n",
       "    x.observe(outputEl, {childList: true});\n",
       "}}\n",
       "\n",
       "                        })\n",
       "                };\n",
       "                });\n",
       "            </script>\n",
       "        </div>"
      ]
     },
     "metadata": {},
     "output_type": "display_data"
    }
   ],
   "source": [
    "fig = px.bar(df,x='Location',y='ncs',color='gender',hover_name = 'address')\n",
    "fig.update_layout(title_text='Network Connector Score by Location')\n",
    "fig.update_yaxes(showticklabels=False)\n",
    "#fig.show()\n",
    "iplot(fig)"
   ]
  },
  {
   "cell_type": "code",
   "execution_count": 94,
   "metadata": {},
   "outputs": [
    {
     "data": {
      "application/vnd.plotly.v1+json": {
       "config": {
        "plotlyServerURL": "https://plot.ly"
       },
       "data": [
        {
         "alignmentgroup": "True",
         "hovertemplate": "<b>%{hovertext}</b><br><br>gender=female<br>Department=%{x}<br>ncs=%{y}<extra></extra>",
         "hovertext": [
          122,
          131,
          185,
          93,
          204,
          84,
          61,
          25,
          56,
          274,
          173,
          42,
          95,
          33,
          223,
          91,
          64,
          81,
          239,
          43,
          263,
          132,
          5,
          184,
          82,
          141,
          154,
          172,
          222,
          114,
          63,
          74,
          150,
          57,
          19,
          98,
          231,
          92,
          159,
          85,
          199,
          45,
          111,
          269,
          34,
          293,
          200,
          62,
          126,
          36,
          125,
          273,
          169,
          75,
          115,
          266,
          73,
          94,
          24,
          58,
          136,
          135,
          146,
          139,
          165,
          268,
          186,
          127,
          116,
          17,
          103,
          285,
          142,
          240,
          106,
          189,
          181,
          156,
          35,
          279,
          99,
          60,
          294,
          289,
          265,
          267,
          171,
          40,
          230,
          4,
          48,
          31,
          228,
          2,
          65,
          121,
          280,
          206,
          260,
          158,
          193,
          225,
          68,
          67,
          233,
          153,
          80,
          234,
          167,
          237,
          97,
          238,
          215,
          281,
          272,
          118,
          148,
          210,
          90,
          133,
          46,
          113,
          38,
          78,
          236,
          151,
          76,
          221,
          283,
          217,
          128,
          191,
          41,
          183,
          51,
          100,
          157,
          160,
          18,
          11,
          20,
          13,
          226,
          229,
          155,
          49,
          105,
          259,
          178,
          152,
          101,
          8,
          235,
          29,
          192,
          270,
          251,
          255,
          248,
          137,
          112,
          144,
          180,
          220,
          257,
          117,
          130,
          163,
          258,
          211,
          264,
          162,
          15,
          277,
          202,
          250,
          246,
          284,
          254,
          256,
          261,
          147,
          247,
          245,
          252
         ],
         "legendgroup": "female",
         "marker": {
          "color": "#636efa"
         },
         "name": "female",
         "offsetgroup": "female",
         "orientation": "v",
         "showlegend": true,
         "textposition": "auto",
         "type": "bar",
         "x": [
          "TalentDevelopmentandLearning",
          "TalentDevelopmentandLearning",
          "TalentDevelopmentandLearning",
          "OrganizationChange",
          "TalentDevelopmentandLearning",
          "TalentDevelopmentandLearning",
          "HR",
          "TalentDevelopmentandLearning",
          "TalentDevelopmentandLearning",
          "OrganizationChange",
          "OrganizationChange",
          "TalentDevelopmentandLearning",
          "TalentDevelopmentandLearning",
          "TalentDevelopmentandLearning",
          "OrganizationChange",
          "OrganizationAnalytics",
          "TalentDevelopmentandLearning",
          "TalentDevelopmentandLearning",
          "TalentDevelopmentandLearning",
          "TalentDevelopmentandLearning",
          "OrganizationChange",
          "OrganizationAnalytics",
          "OrganizationChange",
          "TalentDevelopmentandLearning",
          "TalentDevelopmentandLearning",
          "OrganizationChange",
          "TalentDevelopmentandLearning",
          "TalentDevelopmentandLearning",
          "OrganizationChange",
          "TalentDevelopmentandLearning",
          "TalentDevelopmentandLearning",
          "TalentDevelopmentandLearning",
          "TalentDevelopmentandLearning",
          "OrganizationChange",
          "TalentDevelopmentandLearning",
          "TalentDevelopmentandLearning",
          "TalentDevelopmentandLearning",
          "OrganizationChange",
          "TalentDevelopmentandLearning",
          "TalentDevelopmentandLearning",
          "TalentDevelopmentandLearning",
          "HR",
          "TalentDevelopmentandLearning",
          "OrganizationChange",
          "TalentDevelopmentandLearning",
          "OrganizationChange",
          "TalentDevelopmentandLearning",
          "OrganizationChange",
          "TalentDevelopmentandLearning",
          "TalentDevelopmentandLearning",
          "TalentDevelopmentandLearning",
          "TalentDevelopmentandLearning",
          "OrganizationChange",
          "OrganizationChange",
          "TalentDevelopmentandLearning",
          "TalentDevelopmentandLearning",
          "TalentDevelopmentandLearning",
          "TalentDevelopmentandLearning",
          "TalentDevelopmentandLearning",
          "TalentDevelopmentandLearning",
          "TalentDevelopmentandLearning",
          "OrganizationChange",
          "TalentDevelopmentandLearning",
          "TalentDevelopmentandLearning",
          "TalentDevelopmentandLearning",
          "OrganizationChange",
          "TalentDevelopmentandLearning",
          "OrganizationChange",
          "TalentDevelopmentandLearning",
          "OrganizationChange",
          "TalentDevelopmentandLearning",
          "TalentDevelopmentandLearning",
          "HR",
          "TalentDevelopmentandLearning",
          "OrganizationChange",
          "TalentDevelopmentandLearning",
          "TalentDevelopmentandLearning",
          "OrganizationAnalytics",
          "TalentDevelopmentandLearning",
          "TalentDevelopmentandLearning",
          "TalentDevelopmentandLearning",
          "TalentDevelopmentandLearning",
          "TalentDevelopmentandLearning",
          "OrganizationChange",
          "HR",
          "TalentDevelopmentandLearning",
          "TalentDevelopmentandLearning",
          "TalentDevelopmentandLearning",
          "TalentDevelopmentandLearning",
          "TalentDevelopmentandLearning",
          "OrganizationAnalytics",
          "TalentDevelopmentandLearning",
          "TalentDevelopmentandLearning",
          "TalentDevelopmentandLearning",
          "OrganizationChange",
          "OrganizationAnalytics",
          "TalentDevelopmentandLearning",
          "TalentDevelopmentandLearning",
          "OrganizationChange",
          "TalentDevelopmentandLearning",
          "TalentDevelopmentandLearning",
          "TalentDevelopmentandLearning",
          "OrganizationChange",
          "TalentDevelopmentandLearning",
          "TalentDevelopmentandLearning",
          "TalentDevelopmentandLearning",
          "TalentDevelopmentandLearning",
          "TalentDevelopmentandLearning",
          "TalentDevelopmentandLearning",
          "TalentDevelopmentandLearning",
          "TalentDevelopmentandLearning",
          "TalentDevelopmentandLearning",
          "TalentDevelopmentandLearning",
          "TalentDevelopmentandLearning",
          "HR",
          "TalentDevelopmentandLearning",
          "TalentDevelopmentandLearning",
          "HR",
          "OrganizationChange",
          "TalentDevelopmentandLearning",
          "TalentDevelopmentandLearning",
          "TalentDevelopmentandLearning",
          "TalentDevelopmentandLearning",
          "TalentDevelopmentandLearning",
          "TalentDevelopmentandLearning",
          "TalentDevelopmentandLearning",
          "OrganizationChange",
          "TalentDevelopmentandLearning",
          "HR",
          "TalentDevelopmentandLearning",
          "TalentDevelopmentandLearning",
          "TalentDevelopmentandLearning",
          "TalentDevelopmentandLearning",
          "TalentDevelopmentandLearning",
          "HR",
          "TalentDevelopmentandLearning",
          "TalentDevelopmentandLearning",
          "TalentDevelopmentandLearning",
          "TalentDevelopmentandLearning",
          "OrganizationChange",
          "TalentDevelopmentandLearning",
          "TalentDevelopmentandLearning",
          "TalentDevelopmentandLearning",
          "TalentDevelopmentandLearning",
          "OrganizationChange",
          "TalentDevelopmentandLearning",
          "TalentDevelopmentandLearning",
          "TalentDevelopmentandLearning",
          "TalentDevelopmentandLearning",
          "TalentDevelopmentandLearning",
          "TalentDevelopmentandLearning",
          "TalentDevelopmentandLearning",
          "TalentDevelopmentandLearning",
          "TalentDevelopmentandLearning",
          "TalentDevelopmentandLearning",
          "TalentDevelopmentandLearning",
          "OrganizationChange",
          "TalentDevelopmentandLearning",
          "HR",
          "TalentDevelopmentandLearning",
          "TalentDevelopmentandLearning",
          "TalentDevelopmentandLearning",
          "TalentDevelopmentandLearning",
          "TalentDevelopmentandLearning",
          "TalentDevelopmentandLearning",
          "TalentDevelopmentandLearning",
          "TalentDevelopmentandLearning",
          "TalentDevelopmentandLearning",
          "TalentDevelopmentandLearning",
          "TalentDevelopmentandLearning",
          "TalentDevelopmentandLearning",
          "TalentDevelopmentandLearning",
          "TalentDevelopmentandLearning",
          "TalentDevelopmentandLearning",
          "TalentDevelopmentandLearning",
          "TalentDevelopmentandLearning",
          "TalentDevelopmentandLearning",
          "OrganizationChange",
          "TalentDevelopmentandLearning",
          "TalentDevelopmentandLearning",
          "TalentDevelopmentandLearning",
          "TalentDevelopmentandLearning",
          "TalentDevelopmentandLearning",
          "TalentDevelopmentandLearning",
          "TalentDevelopmentandLearning"
         ],
         "xaxis": "x",
         "y": [
          100,
          66,
          71,
          58,
          83,
          77,
          58,
          38,
          56,
          64,
          43,
          48,
          68,
          55,
          64,
          63,
          53,
          44,
          58,
          51,
          36,
          47,
          24,
          50,
          25,
          44,
          41,
          35,
          45,
          22,
          33,
          21,
          23,
          39,
          16,
          32,
          37,
          31,
          28,
          26,
          17,
          19,
          29,
          42,
          34,
          36,
          20,
          39,
          38,
          39,
          37,
          38,
          37,
          33,
          33,
          15,
          14,
          16,
          13,
          21,
          25,
          28,
          10,
          20,
          25,
          24,
          19,
          26,
          16,
          29,
          22,
          16,
          14,
          22,
          27,
          17,
          10,
          23,
          22,
          36,
          5,
          11,
          11,
          16,
          16,
          9,
          9,
          12,
          17,
          14,
          24,
          16,
          10,
          12,
          27,
          33,
          12,
          17,
          22,
          21,
          12,
          14,
          23,
          13,
          19,
          14,
          9,
          20,
          11,
          16,
          17,
          7,
          19,
          24,
          8,
          5,
          11,
          15,
          22,
          13,
          12,
          14,
          4,
          14,
          12,
          13,
          15,
          7,
          9,
          9,
          7,
          4,
          8,
          13,
          10,
          10,
          14,
          9,
          12,
          10,
          8,
          12,
          11,
          5,
          9,
          13,
          4,
          6,
          9,
          4,
          7,
          11,
          4,
          9,
          4,
          8,
          10,
          8,
          6,
          12,
          5,
          4,
          2,
          8,
          6,
          2,
          2,
          10,
          2,
          2,
          0,
          7,
          2,
          7,
          5,
          2,
          2,
          5,
          6,
          4,
          5,
          3,
          2,
          0,
          0
         ],
         "yaxis": "y"
        },
        {
         "alignmentgroup": "True",
         "hovertemplate": "<b>%{hovertext}</b><br><br>gender=male<br>Department=%{x}<br>ncs=%{y}<extra></extra>",
         "hovertext": [
          287,
          218,
          166,
          54,
          168,
          37,
          32,
          28,
          134,
          66,
          71,
          70,
          161,
          77,
          39,
          52,
          3,
          216,
          232,
          143,
          182,
          47,
          213,
          290,
          10,
          16,
          177,
          224,
          295,
          208,
          124,
          190,
          219,
          123,
          201,
          175,
          6,
          108,
          69,
          9,
          282,
          14,
          86,
          119,
          23,
          243,
          104,
          22,
          1,
          120,
          194,
          187,
          44,
          7,
          107,
          205,
          286,
          188,
          87,
          288,
          212,
          164,
          198,
          179,
          72,
          26,
          209,
          83,
          195,
          197,
          102,
          278,
          271,
          176,
          214,
          30,
          241,
          110,
          292,
          227,
          149,
          129,
          53,
          253,
          88,
          203,
          109,
          249,
          89,
          79,
          55,
          138,
          96,
          275,
          291,
          244
         ],
         "legendgroup": "male",
         "marker": {
          "color": "#EF553B"
         },
         "name": "male",
         "offsetgroup": "male",
         "orientation": "v",
         "showlegend": true,
         "textposition": "auto",
         "type": "bar",
         "x": [
          "TalentDevelopmentandLearning",
          "TalentDevelopmentandLearning",
          "OrganizationChange",
          "OrganizationChange",
          "OrganizationChange",
          "TalentDevelopmentandLearning",
          "TalentDevelopmentandLearning",
          "OrganizationChange",
          "TalentDevelopmentandLearning",
          "TalentDevelopmentandLearning",
          "OrganizationChange",
          "TalentDevelopmentandLearning",
          "OrganizationAnalytics",
          "TalentDevelopmentandLearning",
          "TalentDevelopmentandLearning",
          "TalentDevelopmentandLearning",
          "TalentDevelopmentandLearning",
          "TalentDevelopmentandLearning",
          "OrganizationChange",
          "OrganizationChange",
          "OrganizationChange",
          "TalentDevelopmentandLearning",
          "HR",
          "TalentDevelopmentandLearning",
          "TalentDevelopmentandLearning",
          "HR",
          "TalentDevelopmentandLearning",
          "TalentDevelopmentandLearning",
          "OrganizationChange",
          "OrganizationChange",
          "TalentDevelopmentandLearning",
          "TalentDevelopmentandLearning",
          "TalentDevelopmentandLearning",
          "OrganizationAnalytics",
          "TalentDevelopmentandLearning",
          "OrganizationAnalytics",
          "HR",
          "HR",
          "TalentDevelopmentandLearning",
          "TalentDevelopmentandLearning",
          "TalentDevelopmentandLearning",
          "TalentDevelopmentandLearning",
          "HR",
          "TalentDevelopmentandLearning",
          "TalentDevelopmentandLearning",
          "TalentDevelopmentandLearning",
          "TalentDevelopmentandLearning",
          "HR",
          "OrganizationChange",
          "TalentDevelopmentandLearning",
          "TalentDevelopmentandLearning",
          "OrganizationChange",
          "OrganizationChange",
          "OrganizationChange",
          "TalentDevelopmentandLearning",
          "OrganizationChange",
          "HR",
          "TalentDevelopmentandLearning",
          "TalentDevelopmentandLearning",
          "TalentDevelopmentandLearning",
          "TalentDevelopmentandLearning",
          "TalentDevelopmentandLearning",
          "TalentDevelopmentandLearning",
          "OrganizationChange",
          "HR",
          "HR",
          "OrganizationAnalytics",
          "TalentDevelopmentandLearning",
          "OrganizationAnalytics",
          "TalentDevelopmentandLearning",
          "OrganizationChange",
          "HR",
          "TalentDevelopmentandLearning",
          "TalentDevelopmentandLearning",
          "TalentDevelopmentandLearning",
          "TalentDevelopmentandLearning",
          "TalentDevelopmentandLearning",
          "TalentDevelopmentandLearning",
          "OrganizationChange",
          "OrganizationChange",
          "TalentDevelopmentandLearning",
          "TalentDevelopmentandLearning",
          "TalentDevelopmentandLearning",
          "TalentDevelopmentandLearning",
          "TalentDevelopmentandLearning",
          "TalentDevelopmentandLearning",
          "OrganizationAnalytics",
          "TalentDevelopmentandLearning",
          "TalentDevelopmentandLearning",
          "OrganizationChange",
          "HR",
          "TalentDevelopmentandLearning",
          "TalentDevelopmentandLearning",
          "OrganizationChange",
          "TalentDevelopmentandLearning",
          "OrganizationChange"
         ],
         "xaxis": "x",
         "y": [
          86,
          66,
          74,
          80,
          77,
          53,
          62,
          37,
          47,
          50,
          43,
          19,
          37,
          43,
          23,
          39,
          55,
          48,
          40,
          40,
          29,
          38,
          12,
          32,
          30,
          19,
          12,
          29,
          27,
          27,
          35,
          26,
          25,
          26,
          13,
          22,
          11,
          8,
          26,
          14,
          7,
          11,
          14,
          24,
          22,
          18,
          21,
          11,
          24,
          11,
          33,
          27,
          19,
          23,
          18,
          22,
          15,
          20,
          22,
          18,
          23,
          11,
          12,
          22,
          8,
          14,
          19,
          14,
          23,
          21,
          16,
          10,
          8,
          15,
          16,
          11,
          8,
          13,
          9,
          17,
          10,
          10,
          12,
          8,
          6,
          6,
          10,
          4,
          7,
          18,
          5,
          12,
          8,
          4,
          2,
          2
         ],
         "yaxis": "y"
        }
       ],
       "layout": {
        "autosize": true,
        "barmode": "relative",
        "legend": {
         "title": {
          "text": "gender"
         },
         "tracegroupgap": 0
        },
        "margin": {
         "t": 60
        },
        "template": {
         "data": {
          "bar": [
           {
            "error_x": {
             "color": "#2a3f5f"
            },
            "error_y": {
             "color": "#2a3f5f"
            },
            "marker": {
             "line": {
              "color": "#E5ECF6",
              "width": 0.5
             }
            },
            "type": "bar"
           }
          ],
          "barpolar": [
           {
            "marker": {
             "line": {
              "color": "#E5ECF6",
              "width": 0.5
             }
            },
            "type": "barpolar"
           }
          ],
          "carpet": [
           {
            "aaxis": {
             "endlinecolor": "#2a3f5f",
             "gridcolor": "white",
             "linecolor": "white",
             "minorgridcolor": "white",
             "startlinecolor": "#2a3f5f"
            },
            "baxis": {
             "endlinecolor": "#2a3f5f",
             "gridcolor": "white",
             "linecolor": "white",
             "minorgridcolor": "white",
             "startlinecolor": "#2a3f5f"
            },
            "type": "carpet"
           }
          ],
          "choropleth": [
           {
            "colorbar": {
             "outlinewidth": 0,
             "ticks": ""
            },
            "type": "choropleth"
           }
          ],
          "contour": [
           {
            "colorbar": {
             "outlinewidth": 0,
             "ticks": ""
            },
            "colorscale": [
             [
              0,
              "#0d0887"
             ],
             [
              0.1111111111111111,
              "#46039f"
             ],
             [
              0.2222222222222222,
              "#7201a8"
             ],
             [
              0.3333333333333333,
              "#9c179e"
             ],
             [
              0.4444444444444444,
              "#bd3786"
             ],
             [
              0.5555555555555556,
              "#d8576b"
             ],
             [
              0.6666666666666666,
              "#ed7953"
             ],
             [
              0.7777777777777778,
              "#fb9f3a"
             ],
             [
              0.8888888888888888,
              "#fdca26"
             ],
             [
              1,
              "#f0f921"
             ]
            ],
            "type": "contour"
           }
          ],
          "contourcarpet": [
           {
            "colorbar": {
             "outlinewidth": 0,
             "ticks": ""
            },
            "type": "contourcarpet"
           }
          ],
          "heatmap": [
           {
            "colorbar": {
             "outlinewidth": 0,
             "ticks": ""
            },
            "colorscale": [
             [
              0,
              "#0d0887"
             ],
             [
              0.1111111111111111,
              "#46039f"
             ],
             [
              0.2222222222222222,
              "#7201a8"
             ],
             [
              0.3333333333333333,
              "#9c179e"
             ],
             [
              0.4444444444444444,
              "#bd3786"
             ],
             [
              0.5555555555555556,
              "#d8576b"
             ],
             [
              0.6666666666666666,
              "#ed7953"
             ],
             [
              0.7777777777777778,
              "#fb9f3a"
             ],
             [
              0.8888888888888888,
              "#fdca26"
             ],
             [
              1,
              "#f0f921"
             ]
            ],
            "type": "heatmap"
           }
          ],
          "heatmapgl": [
           {
            "colorbar": {
             "outlinewidth": 0,
             "ticks": ""
            },
            "colorscale": [
             [
              0,
              "#0d0887"
             ],
             [
              0.1111111111111111,
              "#46039f"
             ],
             [
              0.2222222222222222,
              "#7201a8"
             ],
             [
              0.3333333333333333,
              "#9c179e"
             ],
             [
              0.4444444444444444,
              "#bd3786"
             ],
             [
              0.5555555555555556,
              "#d8576b"
             ],
             [
              0.6666666666666666,
              "#ed7953"
             ],
             [
              0.7777777777777778,
              "#fb9f3a"
             ],
             [
              0.8888888888888888,
              "#fdca26"
             ],
             [
              1,
              "#f0f921"
             ]
            ],
            "type": "heatmapgl"
           }
          ],
          "histogram": [
           {
            "marker": {
             "colorbar": {
              "outlinewidth": 0,
              "ticks": ""
             }
            },
            "type": "histogram"
           }
          ],
          "histogram2d": [
           {
            "colorbar": {
             "outlinewidth": 0,
             "ticks": ""
            },
            "colorscale": [
             [
              0,
              "#0d0887"
             ],
             [
              0.1111111111111111,
              "#46039f"
             ],
             [
              0.2222222222222222,
              "#7201a8"
             ],
             [
              0.3333333333333333,
              "#9c179e"
             ],
             [
              0.4444444444444444,
              "#bd3786"
             ],
             [
              0.5555555555555556,
              "#d8576b"
             ],
             [
              0.6666666666666666,
              "#ed7953"
             ],
             [
              0.7777777777777778,
              "#fb9f3a"
             ],
             [
              0.8888888888888888,
              "#fdca26"
             ],
             [
              1,
              "#f0f921"
             ]
            ],
            "type": "histogram2d"
           }
          ],
          "histogram2dcontour": [
           {
            "colorbar": {
             "outlinewidth": 0,
             "ticks": ""
            },
            "colorscale": [
             [
              0,
              "#0d0887"
             ],
             [
              0.1111111111111111,
              "#46039f"
             ],
             [
              0.2222222222222222,
              "#7201a8"
             ],
             [
              0.3333333333333333,
              "#9c179e"
             ],
             [
              0.4444444444444444,
              "#bd3786"
             ],
             [
              0.5555555555555556,
              "#d8576b"
             ],
             [
              0.6666666666666666,
              "#ed7953"
             ],
             [
              0.7777777777777778,
              "#fb9f3a"
             ],
             [
              0.8888888888888888,
              "#fdca26"
             ],
             [
              1,
              "#f0f921"
             ]
            ],
            "type": "histogram2dcontour"
           }
          ],
          "mesh3d": [
           {
            "colorbar": {
             "outlinewidth": 0,
             "ticks": ""
            },
            "type": "mesh3d"
           }
          ],
          "parcoords": [
           {
            "line": {
             "colorbar": {
              "outlinewidth": 0,
              "ticks": ""
             }
            },
            "type": "parcoords"
           }
          ],
          "pie": [
           {
            "automargin": true,
            "type": "pie"
           }
          ],
          "scatter": [
           {
            "marker": {
             "colorbar": {
              "outlinewidth": 0,
              "ticks": ""
             }
            },
            "type": "scatter"
           }
          ],
          "scatter3d": [
           {
            "line": {
             "colorbar": {
              "outlinewidth": 0,
              "ticks": ""
             }
            },
            "marker": {
             "colorbar": {
              "outlinewidth": 0,
              "ticks": ""
             }
            },
            "type": "scatter3d"
           }
          ],
          "scattercarpet": [
           {
            "marker": {
             "colorbar": {
              "outlinewidth": 0,
              "ticks": ""
             }
            },
            "type": "scattercarpet"
           }
          ],
          "scattergeo": [
           {
            "marker": {
             "colorbar": {
              "outlinewidth": 0,
              "ticks": ""
             }
            },
            "type": "scattergeo"
           }
          ],
          "scattergl": [
           {
            "marker": {
             "colorbar": {
              "outlinewidth": 0,
              "ticks": ""
             }
            },
            "type": "scattergl"
           }
          ],
          "scattermapbox": [
           {
            "marker": {
             "colorbar": {
              "outlinewidth": 0,
              "ticks": ""
             }
            },
            "type": "scattermapbox"
           }
          ],
          "scatterpolar": [
           {
            "marker": {
             "colorbar": {
              "outlinewidth": 0,
              "ticks": ""
             }
            },
            "type": "scatterpolar"
           }
          ],
          "scatterpolargl": [
           {
            "marker": {
             "colorbar": {
              "outlinewidth": 0,
              "ticks": ""
             }
            },
            "type": "scatterpolargl"
           }
          ],
          "scatterternary": [
           {
            "marker": {
             "colorbar": {
              "outlinewidth": 0,
              "ticks": ""
             }
            },
            "type": "scatterternary"
           }
          ],
          "surface": [
           {
            "colorbar": {
             "outlinewidth": 0,
             "ticks": ""
            },
            "colorscale": [
             [
              0,
              "#0d0887"
             ],
             [
              0.1111111111111111,
              "#46039f"
             ],
             [
              0.2222222222222222,
              "#7201a8"
             ],
             [
              0.3333333333333333,
              "#9c179e"
             ],
             [
              0.4444444444444444,
              "#bd3786"
             ],
             [
              0.5555555555555556,
              "#d8576b"
             ],
             [
              0.6666666666666666,
              "#ed7953"
             ],
             [
              0.7777777777777778,
              "#fb9f3a"
             ],
             [
              0.8888888888888888,
              "#fdca26"
             ],
             [
              1,
              "#f0f921"
             ]
            ],
            "type": "surface"
           }
          ],
          "table": [
           {
            "cells": {
             "fill": {
              "color": "#EBF0F8"
             },
             "line": {
              "color": "white"
             }
            },
            "header": {
             "fill": {
              "color": "#C8D4E3"
             },
             "line": {
              "color": "white"
             }
            },
            "type": "table"
           }
          ]
         },
         "layout": {
          "annotationdefaults": {
           "arrowcolor": "#2a3f5f",
           "arrowhead": 0,
           "arrowwidth": 1
          },
          "coloraxis": {
           "colorbar": {
            "outlinewidth": 0,
            "ticks": ""
           }
          },
          "colorscale": {
           "diverging": [
            [
             0,
             "#8e0152"
            ],
            [
             0.1,
             "#c51b7d"
            ],
            [
             0.2,
             "#de77ae"
            ],
            [
             0.3,
             "#f1b6da"
            ],
            [
             0.4,
             "#fde0ef"
            ],
            [
             0.5,
             "#f7f7f7"
            ],
            [
             0.6,
             "#e6f5d0"
            ],
            [
             0.7,
             "#b8e186"
            ],
            [
             0.8,
             "#7fbc41"
            ],
            [
             0.9,
             "#4d9221"
            ],
            [
             1,
             "#276419"
            ]
           ],
           "sequential": [
            [
             0,
             "#0d0887"
            ],
            [
             0.1111111111111111,
             "#46039f"
            ],
            [
             0.2222222222222222,
             "#7201a8"
            ],
            [
             0.3333333333333333,
             "#9c179e"
            ],
            [
             0.4444444444444444,
             "#bd3786"
            ],
            [
             0.5555555555555556,
             "#d8576b"
            ],
            [
             0.6666666666666666,
             "#ed7953"
            ],
            [
             0.7777777777777778,
             "#fb9f3a"
            ],
            [
             0.8888888888888888,
             "#fdca26"
            ],
            [
             1,
             "#f0f921"
            ]
           ],
           "sequentialminus": [
            [
             0,
             "#0d0887"
            ],
            [
             0.1111111111111111,
             "#46039f"
            ],
            [
             0.2222222222222222,
             "#7201a8"
            ],
            [
             0.3333333333333333,
             "#9c179e"
            ],
            [
             0.4444444444444444,
             "#bd3786"
            ],
            [
             0.5555555555555556,
             "#d8576b"
            ],
            [
             0.6666666666666666,
             "#ed7953"
            ],
            [
             0.7777777777777778,
             "#fb9f3a"
            ],
            [
             0.8888888888888888,
             "#fdca26"
            ],
            [
             1,
             "#f0f921"
            ]
           ]
          },
          "colorway": [
           "#636efa",
           "#EF553B",
           "#00cc96",
           "#ab63fa",
           "#FFA15A",
           "#19d3f3",
           "#FF6692",
           "#B6E880",
           "#FF97FF",
           "#FECB52"
          ],
          "font": {
           "color": "#2a3f5f"
          },
          "geo": {
           "bgcolor": "white",
           "lakecolor": "white",
           "landcolor": "#E5ECF6",
           "showlakes": true,
           "showland": true,
           "subunitcolor": "white"
          },
          "hoverlabel": {
           "align": "left"
          },
          "hovermode": "closest",
          "mapbox": {
           "style": "light"
          },
          "paper_bgcolor": "white",
          "plot_bgcolor": "#E5ECF6",
          "polar": {
           "angularaxis": {
            "gridcolor": "white",
            "linecolor": "white",
            "ticks": ""
           },
           "bgcolor": "#E5ECF6",
           "radialaxis": {
            "gridcolor": "white",
            "linecolor": "white",
            "ticks": ""
           }
          },
          "scene": {
           "xaxis": {
            "backgroundcolor": "#E5ECF6",
            "gridcolor": "white",
            "gridwidth": 2,
            "linecolor": "white",
            "showbackground": true,
            "ticks": "",
            "zerolinecolor": "white"
           },
           "yaxis": {
            "backgroundcolor": "#E5ECF6",
            "gridcolor": "white",
            "gridwidth": 2,
            "linecolor": "white",
            "showbackground": true,
            "ticks": "",
            "zerolinecolor": "white"
           },
           "zaxis": {
            "backgroundcolor": "#E5ECF6",
            "gridcolor": "white",
            "gridwidth": 2,
            "linecolor": "white",
            "showbackground": true,
            "ticks": "",
            "zerolinecolor": "white"
           }
          },
          "shapedefaults": {
           "line": {
            "color": "#2a3f5f"
           }
          },
          "ternary": {
           "aaxis": {
            "gridcolor": "white",
            "linecolor": "white",
            "ticks": ""
           },
           "baxis": {
            "gridcolor": "white",
            "linecolor": "white",
            "ticks": ""
           },
           "bgcolor": "#E5ECF6",
           "caxis": {
            "gridcolor": "white",
            "linecolor": "white",
            "ticks": ""
           }
          },
          "title": {
           "x": 0.05
          },
          "xaxis": {
           "automargin": true,
           "gridcolor": "white",
           "linecolor": "white",
           "ticks": "",
           "title": {
            "standoff": 15
           },
           "zerolinecolor": "white",
           "zerolinewidth": 2
          },
          "yaxis": {
           "automargin": true,
           "gridcolor": "white",
           "linecolor": "white",
           "ticks": "",
           "title": {
            "standoff": 15
           },
           "zerolinecolor": "white",
           "zerolinewidth": 2
          }
         }
        },
        "title": {
         "text": "Network Connector Score by Department"
        },
        "xaxis": {
         "anchor": "y",
         "domain": [
          0,
          1
         ],
         "title": {
          "text": "Department"
         }
        },
        "yaxis": {
         "anchor": "x",
         "domain": [
          0,
          1
         ],
         "showticklabels": false,
         "title": {
          "text": "ncs"
         }
        }
       }
      },
      "text/html": [
       "<div>\n",
       "        \n",
       "        \n",
       "            <div id=\"343248c2-5b9f-44b7-ab3c-0c1f2187f699\" class=\"plotly-graph-div\" style=\"height:525px; width:100%;\"></div>\n",
       "            <script type=\"text/javascript\">\n",
       "                require([\"plotly\"], function(Plotly) {\n",
       "                    window.PLOTLYENV=window.PLOTLYENV || {};\n",
       "                    \n",
       "                if (document.getElementById(\"343248c2-5b9f-44b7-ab3c-0c1f2187f699\")) {\n",
       "                    Plotly.newPlot(\n",
       "                        '343248c2-5b9f-44b7-ab3c-0c1f2187f699',\n",
       "                        [{\"alignmentgroup\": \"True\", \"hovertemplate\": \"<b>%{hovertext}</b><br><br>gender=female<br>Department=%{x}<br>ncs=%{y}<extra></extra>\", \"hovertext\": [122.0, 131.0, 185.0, 93.0, 204.0, 84.0, 61.0, 25.0, 56.0, 274.0, 173.0, 42.0, 95.0, 33.0, 223.0, 91.0, 64.0, 81.0, 239.0, 43.0, 263.0, 132.0, 5.0, 184.0, 82.0, 141.0, 154.0, 172.0, 222.0, 114.0, 63.0, 74.0, 150.0, 57.0, 19.0, 98.0, 231.0, 92.0, 159.0, 85.0, 199.0, 45.0, 111.0, 269.0, 34.0, 293.0, 200.0, 62.0, 126.0, 36.0, 125.0, 273.0, 169.0, 75.0, 115.0, 266.0, 73.0, 94.0, 24.0, 58.0, 136.0, 135.0, 146.0, 139.0, 165.0, 268.0, 186.0, 127.0, 116.0, 17.0, 103.0, 285.0, 142.0, 240.0, 106.0, 189.0, 181.0, 156.0, 35.0, 279.0, 99.0, 60.0, 294.0, 289.0, 265.0, 267.0, 171.0, 40.0, 230.0, 4.0, 48.0, 31.0, 228.0, 2.0, 65.0, 121.0, 280.0, 206.0, 260.0, 158.0, 193.0, 225.0, 68.0, 67.0, 233.0, 153.0, 80.0, 234.0, 167.0, 237.0, 97.0, 238.0, 215.0, 281.0, 272.0, 118.0, 148.0, 210.0, 90.0, 133.0, 46.0, 113.0, 38.0, 78.0, 236.0, 151.0, 76.0, 221.0, 283.0, 217.0, 128.0, 191.0, 41.0, 183.0, 51.0, 100.0, 157.0, 160.0, 18.0, 11.0, 20.0, 13.0, 226.0, 229.0, 155.0, 49.0, 105.0, 259.0, 178.0, 152.0, 101.0, 8.0, 235.0, 29.0, 192.0, 270.0, 251.0, 255.0, 248.0, 137.0, 112.0, 144.0, 180.0, 220.0, 257.0, 117.0, 130.0, 163.0, 258.0, 211.0, 264.0, 162.0, 15.0, 277.0, 202.0, 250.0, 246.0, 284.0, 254.0, 256.0, 261.0, 147.0, 247.0, 245.0, 252.0], \"legendgroup\": \"female\", \"marker\": {\"color\": \"#636efa\"}, \"name\": \"female\", \"offsetgroup\": \"female\", \"orientation\": \"v\", \"showlegend\": true, \"textposition\": \"auto\", \"type\": \"bar\", \"x\": [\"TalentDevelopmentandLearning\", \"TalentDevelopmentandLearning\", \"TalentDevelopmentandLearning\", \"OrganizationChange\", \"TalentDevelopmentandLearning\", \"TalentDevelopmentandLearning\", \"HR\", \"TalentDevelopmentandLearning\", \"TalentDevelopmentandLearning\", \"OrganizationChange\", \"OrganizationChange\", \"TalentDevelopmentandLearning\", \"TalentDevelopmentandLearning\", \"TalentDevelopmentandLearning\", \"OrganizationChange\", \"OrganizationAnalytics\", \"TalentDevelopmentandLearning\", \"TalentDevelopmentandLearning\", \"TalentDevelopmentandLearning\", \"TalentDevelopmentandLearning\", \"OrganizationChange\", \"OrganizationAnalytics\", \"OrganizationChange\", \"TalentDevelopmentandLearning\", \"TalentDevelopmentandLearning\", \"OrganizationChange\", \"TalentDevelopmentandLearning\", \"TalentDevelopmentandLearning\", \"OrganizationChange\", \"TalentDevelopmentandLearning\", \"TalentDevelopmentandLearning\", \"TalentDevelopmentandLearning\", \"TalentDevelopmentandLearning\", \"OrganizationChange\", \"TalentDevelopmentandLearning\", \"TalentDevelopmentandLearning\", \"TalentDevelopmentandLearning\", \"OrganizationChange\", \"TalentDevelopmentandLearning\", \"TalentDevelopmentandLearning\", \"TalentDevelopmentandLearning\", \"HR\", \"TalentDevelopmentandLearning\", \"OrganizationChange\", \"TalentDevelopmentandLearning\", \"OrganizationChange\", \"TalentDevelopmentandLearning\", \"OrganizationChange\", \"TalentDevelopmentandLearning\", \"TalentDevelopmentandLearning\", \"TalentDevelopmentandLearning\", \"TalentDevelopmentandLearning\", \"OrganizationChange\", \"OrganizationChange\", \"TalentDevelopmentandLearning\", \"TalentDevelopmentandLearning\", \"TalentDevelopmentandLearning\", \"TalentDevelopmentandLearning\", \"TalentDevelopmentandLearning\", \"TalentDevelopmentandLearning\", \"TalentDevelopmentandLearning\", \"OrganizationChange\", \"TalentDevelopmentandLearning\", \"TalentDevelopmentandLearning\", \"TalentDevelopmentandLearning\", \"OrganizationChange\", \"TalentDevelopmentandLearning\", \"OrganizationChange\", \"TalentDevelopmentandLearning\", \"OrganizationChange\", \"TalentDevelopmentandLearning\", \"TalentDevelopmentandLearning\", \"HR\", \"TalentDevelopmentandLearning\", \"OrganizationChange\", \"TalentDevelopmentandLearning\", \"TalentDevelopmentandLearning\", \"OrganizationAnalytics\", \"TalentDevelopmentandLearning\", \"TalentDevelopmentandLearning\", \"TalentDevelopmentandLearning\", \"TalentDevelopmentandLearning\", \"TalentDevelopmentandLearning\", \"OrganizationChange\", \"HR\", \"TalentDevelopmentandLearning\", \"TalentDevelopmentandLearning\", \"TalentDevelopmentandLearning\", \"TalentDevelopmentandLearning\", \"TalentDevelopmentandLearning\", \"OrganizationAnalytics\", \"TalentDevelopmentandLearning\", \"TalentDevelopmentandLearning\", \"TalentDevelopmentandLearning\", \"OrganizationChange\", \"OrganizationAnalytics\", \"TalentDevelopmentandLearning\", \"TalentDevelopmentandLearning\", \"OrganizationChange\", \"TalentDevelopmentandLearning\", \"TalentDevelopmentandLearning\", \"TalentDevelopmentandLearning\", \"OrganizationChange\", \"TalentDevelopmentandLearning\", \"TalentDevelopmentandLearning\", \"TalentDevelopmentandLearning\", \"TalentDevelopmentandLearning\", \"TalentDevelopmentandLearning\", \"TalentDevelopmentandLearning\", \"TalentDevelopmentandLearning\", \"TalentDevelopmentandLearning\", \"TalentDevelopmentandLearning\", \"TalentDevelopmentandLearning\", \"TalentDevelopmentandLearning\", \"HR\", \"TalentDevelopmentandLearning\", \"TalentDevelopmentandLearning\", \"HR\", \"OrganizationChange\", \"TalentDevelopmentandLearning\", \"TalentDevelopmentandLearning\", \"TalentDevelopmentandLearning\", \"TalentDevelopmentandLearning\", \"TalentDevelopmentandLearning\", \"TalentDevelopmentandLearning\", \"TalentDevelopmentandLearning\", \"OrganizationChange\", \"TalentDevelopmentandLearning\", \"HR\", \"TalentDevelopmentandLearning\", \"TalentDevelopmentandLearning\", \"TalentDevelopmentandLearning\", \"TalentDevelopmentandLearning\", \"TalentDevelopmentandLearning\", \"HR\", \"TalentDevelopmentandLearning\", \"TalentDevelopmentandLearning\", \"TalentDevelopmentandLearning\", \"TalentDevelopmentandLearning\", \"OrganizationChange\", \"TalentDevelopmentandLearning\", \"TalentDevelopmentandLearning\", \"TalentDevelopmentandLearning\", \"TalentDevelopmentandLearning\", \"OrganizationChange\", \"TalentDevelopmentandLearning\", \"TalentDevelopmentandLearning\", \"TalentDevelopmentandLearning\", \"TalentDevelopmentandLearning\", \"TalentDevelopmentandLearning\", \"TalentDevelopmentandLearning\", \"TalentDevelopmentandLearning\", \"TalentDevelopmentandLearning\", \"TalentDevelopmentandLearning\", \"TalentDevelopmentandLearning\", \"TalentDevelopmentandLearning\", \"OrganizationChange\", \"TalentDevelopmentandLearning\", \"HR\", \"TalentDevelopmentandLearning\", \"TalentDevelopmentandLearning\", \"TalentDevelopmentandLearning\", \"TalentDevelopmentandLearning\", \"TalentDevelopmentandLearning\", \"TalentDevelopmentandLearning\", \"TalentDevelopmentandLearning\", \"TalentDevelopmentandLearning\", \"TalentDevelopmentandLearning\", \"TalentDevelopmentandLearning\", \"TalentDevelopmentandLearning\", \"TalentDevelopmentandLearning\", \"TalentDevelopmentandLearning\", \"TalentDevelopmentandLearning\", \"TalentDevelopmentandLearning\", \"TalentDevelopmentandLearning\", \"TalentDevelopmentandLearning\", \"TalentDevelopmentandLearning\", \"OrganizationChange\", \"TalentDevelopmentandLearning\", \"TalentDevelopmentandLearning\", \"TalentDevelopmentandLearning\", \"TalentDevelopmentandLearning\", \"TalentDevelopmentandLearning\", \"TalentDevelopmentandLearning\", \"TalentDevelopmentandLearning\"], \"xaxis\": \"x\", \"y\": [100, 66, 71, 58, 83, 77, 58, 38, 56, 64, 43, 48, 68, 55, 64, 63, 53, 44, 58, 51, 36, 47, 24, 50, 25, 44, 41, 35, 45, 22, 33, 21, 23, 39, 16, 32, 37, 31, 28, 26, 17, 19, 29, 42, 34, 36, 20, 39, 38, 39, 37, 38, 37, 33, 33, 15, 14, 16, 13, 21, 25, 28, 10, 20, 25, 24, 19, 26, 16, 29, 22, 16, 14, 22, 27, 17, 10, 23, 22, 36, 5, 11, 11, 16, 16, 9, 9, 12, 17, 14, 24, 16, 10, 12, 27, 33, 12, 17, 22, 21, 12, 14, 23, 13, 19, 14, 9, 20, 11, 16, 17, 7, 19, 24, 8, 5, 11, 15, 22, 13, 12, 14, 4, 14, 12, 13, 15, 7, 9, 9, 7, 4, 8, 13, 10, 10, 14, 9, 12, 10, 8, 12, 11, 5, 9, 13, 4, 6, 9, 4, 7, 11, 4, 9, 4, 8, 10, 8, 6, 12, 5, 4, 2, 8, 6, 2, 2, 10, 2, 2, 0, 7, 2, 7, 5, 2, 2, 5, 6, 4, 5, 3, 2, 0, 0], \"yaxis\": \"y\"}, {\"alignmentgroup\": \"True\", \"hovertemplate\": \"<b>%{hovertext}</b><br><br>gender=male<br>Department=%{x}<br>ncs=%{y}<extra></extra>\", \"hovertext\": [287.0, 218.0, 166.0, 54.0, 168.0, 37.0, 32.0, 28.0, 134.0, 66.0, 71.0, 70.0, 161.0, 77.0, 39.0, 52.0, 3.0, 216.0, 232.0, 143.0, 182.0, 47.0, 213.0, 290.0, 10.0, 16.0, 177.0, 224.0, 295.0, 208.0, 124.0, 190.0, 219.0, 123.0, 201.0, 175.0, 6.0, 108.0, 69.0, 9.0, 282.0, 14.0, 86.0, 119.0, 23.0, 243.0, 104.0, 22.0, 1.0, 120.0, 194.0, 187.0, 44.0, 7.0, 107.0, 205.0, 286.0, 188.0, 87.0, 288.0, 212.0, 164.0, 198.0, 179.0, 72.0, 26.0, 209.0, 83.0, 195.0, 197.0, 102.0, 278.0, 271.0, 176.0, 214.0, 30.0, 241.0, 110.0, 292.0, 227.0, 149.0, 129.0, 53.0, 253.0, 88.0, 203.0, 109.0, 249.0, 89.0, 79.0, 55.0, 138.0, 96.0, 275.0, 291.0, 244.0], \"legendgroup\": \"male\", \"marker\": {\"color\": \"#EF553B\"}, \"name\": \"male\", \"offsetgroup\": \"male\", \"orientation\": \"v\", \"showlegend\": true, \"textposition\": \"auto\", \"type\": \"bar\", \"x\": [\"TalentDevelopmentandLearning\", \"TalentDevelopmentandLearning\", \"OrganizationChange\", \"OrganizationChange\", \"OrganizationChange\", \"TalentDevelopmentandLearning\", \"TalentDevelopmentandLearning\", \"OrganizationChange\", \"TalentDevelopmentandLearning\", \"TalentDevelopmentandLearning\", \"OrganizationChange\", \"TalentDevelopmentandLearning\", \"OrganizationAnalytics\", \"TalentDevelopmentandLearning\", \"TalentDevelopmentandLearning\", \"TalentDevelopmentandLearning\", \"TalentDevelopmentandLearning\", \"TalentDevelopmentandLearning\", \"OrganizationChange\", \"OrganizationChange\", \"OrganizationChange\", \"TalentDevelopmentandLearning\", \"HR\", \"TalentDevelopmentandLearning\", \"TalentDevelopmentandLearning\", \"HR\", \"TalentDevelopmentandLearning\", \"TalentDevelopmentandLearning\", \"OrganizationChange\", \"OrganizationChange\", \"TalentDevelopmentandLearning\", \"TalentDevelopmentandLearning\", \"TalentDevelopmentandLearning\", \"OrganizationAnalytics\", \"TalentDevelopmentandLearning\", \"OrganizationAnalytics\", \"HR\", \"HR\", \"TalentDevelopmentandLearning\", \"TalentDevelopmentandLearning\", \"TalentDevelopmentandLearning\", \"TalentDevelopmentandLearning\", \"HR\", \"TalentDevelopmentandLearning\", \"TalentDevelopmentandLearning\", \"TalentDevelopmentandLearning\", \"TalentDevelopmentandLearning\", \"HR\", \"OrganizationChange\", \"TalentDevelopmentandLearning\", \"TalentDevelopmentandLearning\", \"OrganizationChange\", \"OrganizationChange\", \"OrganizationChange\", \"TalentDevelopmentandLearning\", \"OrganizationChange\", \"HR\", \"TalentDevelopmentandLearning\", \"TalentDevelopmentandLearning\", \"TalentDevelopmentandLearning\", \"TalentDevelopmentandLearning\", \"TalentDevelopmentandLearning\", \"TalentDevelopmentandLearning\", \"OrganizationChange\", \"HR\", \"HR\", \"OrganizationAnalytics\", \"TalentDevelopmentandLearning\", \"OrganizationAnalytics\", \"TalentDevelopmentandLearning\", \"OrganizationChange\", \"HR\", \"TalentDevelopmentandLearning\", \"TalentDevelopmentandLearning\", \"TalentDevelopmentandLearning\", \"TalentDevelopmentandLearning\", \"TalentDevelopmentandLearning\", \"TalentDevelopmentandLearning\", \"OrganizationChange\", \"OrganizationChange\", \"TalentDevelopmentandLearning\", \"TalentDevelopmentandLearning\", \"TalentDevelopmentandLearning\", \"TalentDevelopmentandLearning\", \"TalentDevelopmentandLearning\", \"TalentDevelopmentandLearning\", \"OrganizationAnalytics\", \"TalentDevelopmentandLearning\", \"TalentDevelopmentandLearning\", \"OrganizationChange\", \"HR\", \"TalentDevelopmentandLearning\", \"TalentDevelopmentandLearning\", \"OrganizationChange\", \"TalentDevelopmentandLearning\", \"OrganizationChange\"], \"xaxis\": \"x\", \"y\": [86, 66, 74, 80, 77, 53, 62, 37, 47, 50, 43, 19, 37, 43, 23, 39, 55, 48, 40, 40, 29, 38, 12, 32, 30, 19, 12, 29, 27, 27, 35, 26, 25, 26, 13, 22, 11, 8, 26, 14, 7, 11, 14, 24, 22, 18, 21, 11, 24, 11, 33, 27, 19, 23, 18, 22, 15, 20, 22, 18, 23, 11, 12, 22, 8, 14, 19, 14, 23, 21, 16, 10, 8, 15, 16, 11, 8, 13, 9, 17, 10, 10, 12, 8, 6, 6, 10, 4, 7, 18, 5, 12, 8, 4, 2, 2], \"yaxis\": \"y\"}],\n",
       "                        {\"autosize\": true, \"barmode\": \"relative\", \"legend\": {\"title\": {\"text\": \"gender\"}, \"tracegroupgap\": 0}, \"margin\": {\"t\": 60}, \"template\": {\"data\": {\"bar\": [{\"error_x\": {\"color\": \"#2a3f5f\"}, \"error_y\": {\"color\": \"#2a3f5f\"}, \"marker\": {\"line\": {\"color\": \"#E5ECF6\", \"width\": 0.5}}, \"type\": \"bar\"}], \"barpolar\": [{\"marker\": {\"line\": {\"color\": \"#E5ECF6\", \"width\": 0.5}}, \"type\": \"barpolar\"}], \"carpet\": [{\"aaxis\": {\"endlinecolor\": \"#2a3f5f\", \"gridcolor\": \"white\", \"linecolor\": \"white\", \"minorgridcolor\": \"white\", \"startlinecolor\": \"#2a3f5f\"}, \"baxis\": {\"endlinecolor\": \"#2a3f5f\", \"gridcolor\": \"white\", \"linecolor\": \"white\", \"minorgridcolor\": \"white\", \"startlinecolor\": \"#2a3f5f\"}, \"type\": \"carpet\"}], \"choropleth\": [{\"colorbar\": {\"outlinewidth\": 0, \"ticks\": \"\"}, \"type\": \"choropleth\"}], \"contour\": [{\"colorbar\": {\"outlinewidth\": 0, \"ticks\": \"\"}, \"colorscale\": [[0.0, \"#0d0887\"], [0.1111111111111111, \"#46039f\"], [0.2222222222222222, \"#7201a8\"], [0.3333333333333333, \"#9c179e\"], [0.4444444444444444, \"#bd3786\"], [0.5555555555555556, \"#d8576b\"], [0.6666666666666666, \"#ed7953\"], [0.7777777777777778, \"#fb9f3a\"], [0.8888888888888888, \"#fdca26\"], [1.0, \"#f0f921\"]], \"type\": \"contour\"}], \"contourcarpet\": [{\"colorbar\": {\"outlinewidth\": 0, \"ticks\": \"\"}, \"type\": \"contourcarpet\"}], \"heatmap\": [{\"colorbar\": {\"outlinewidth\": 0, \"ticks\": \"\"}, \"colorscale\": [[0.0, \"#0d0887\"], [0.1111111111111111, \"#46039f\"], [0.2222222222222222, \"#7201a8\"], [0.3333333333333333, \"#9c179e\"], [0.4444444444444444, \"#bd3786\"], [0.5555555555555556, \"#d8576b\"], [0.6666666666666666, \"#ed7953\"], [0.7777777777777778, \"#fb9f3a\"], [0.8888888888888888, \"#fdca26\"], [1.0, \"#f0f921\"]], \"type\": \"heatmap\"}], \"heatmapgl\": [{\"colorbar\": {\"outlinewidth\": 0, \"ticks\": \"\"}, \"colorscale\": [[0.0, \"#0d0887\"], [0.1111111111111111, \"#46039f\"], [0.2222222222222222, \"#7201a8\"], [0.3333333333333333, \"#9c179e\"], [0.4444444444444444, \"#bd3786\"], [0.5555555555555556, \"#d8576b\"], [0.6666666666666666, \"#ed7953\"], [0.7777777777777778, \"#fb9f3a\"], [0.8888888888888888, \"#fdca26\"], [1.0, \"#f0f921\"]], \"type\": \"heatmapgl\"}], \"histogram\": [{\"marker\": {\"colorbar\": {\"outlinewidth\": 0, \"ticks\": \"\"}}, \"type\": \"histogram\"}], \"histogram2d\": [{\"colorbar\": {\"outlinewidth\": 0, \"ticks\": \"\"}, \"colorscale\": [[0.0, \"#0d0887\"], [0.1111111111111111, \"#46039f\"], [0.2222222222222222, \"#7201a8\"], [0.3333333333333333, \"#9c179e\"], [0.4444444444444444, \"#bd3786\"], [0.5555555555555556, \"#d8576b\"], [0.6666666666666666, \"#ed7953\"], [0.7777777777777778, \"#fb9f3a\"], [0.8888888888888888, \"#fdca26\"], [1.0, \"#f0f921\"]], \"type\": \"histogram2d\"}], \"histogram2dcontour\": [{\"colorbar\": {\"outlinewidth\": 0, \"ticks\": \"\"}, \"colorscale\": [[0.0, \"#0d0887\"], [0.1111111111111111, \"#46039f\"], [0.2222222222222222, \"#7201a8\"], [0.3333333333333333, \"#9c179e\"], [0.4444444444444444, \"#bd3786\"], [0.5555555555555556, \"#d8576b\"], [0.6666666666666666, \"#ed7953\"], [0.7777777777777778, \"#fb9f3a\"], [0.8888888888888888, \"#fdca26\"], [1.0, \"#f0f921\"]], \"type\": \"histogram2dcontour\"}], \"mesh3d\": [{\"colorbar\": {\"outlinewidth\": 0, \"ticks\": \"\"}, \"type\": \"mesh3d\"}], \"parcoords\": [{\"line\": {\"colorbar\": {\"outlinewidth\": 0, \"ticks\": \"\"}}, \"type\": \"parcoords\"}], \"pie\": [{\"automargin\": true, \"type\": \"pie\"}], \"scatter\": [{\"marker\": {\"colorbar\": {\"outlinewidth\": 0, \"ticks\": \"\"}}, \"type\": \"scatter\"}], \"scatter3d\": [{\"line\": {\"colorbar\": {\"outlinewidth\": 0, \"ticks\": \"\"}}, \"marker\": {\"colorbar\": {\"outlinewidth\": 0, \"ticks\": \"\"}}, \"type\": \"scatter3d\"}], \"scattercarpet\": [{\"marker\": {\"colorbar\": {\"outlinewidth\": 0, \"ticks\": \"\"}}, \"type\": \"scattercarpet\"}], \"scattergeo\": [{\"marker\": {\"colorbar\": {\"outlinewidth\": 0, \"ticks\": \"\"}}, \"type\": \"scattergeo\"}], \"scattergl\": [{\"marker\": {\"colorbar\": {\"outlinewidth\": 0, \"ticks\": \"\"}}, \"type\": \"scattergl\"}], \"scattermapbox\": [{\"marker\": {\"colorbar\": {\"outlinewidth\": 0, \"ticks\": \"\"}}, \"type\": \"scattermapbox\"}], \"scatterpolar\": [{\"marker\": {\"colorbar\": {\"outlinewidth\": 0, \"ticks\": \"\"}}, \"type\": \"scatterpolar\"}], \"scatterpolargl\": [{\"marker\": {\"colorbar\": {\"outlinewidth\": 0, \"ticks\": \"\"}}, \"type\": \"scatterpolargl\"}], \"scatterternary\": [{\"marker\": {\"colorbar\": {\"outlinewidth\": 0, \"ticks\": \"\"}}, \"type\": \"scatterternary\"}], \"surface\": [{\"colorbar\": {\"outlinewidth\": 0, \"ticks\": \"\"}, \"colorscale\": [[0.0, \"#0d0887\"], [0.1111111111111111, \"#46039f\"], [0.2222222222222222, \"#7201a8\"], [0.3333333333333333, \"#9c179e\"], [0.4444444444444444, \"#bd3786\"], [0.5555555555555556, \"#d8576b\"], [0.6666666666666666, \"#ed7953\"], [0.7777777777777778, \"#fb9f3a\"], [0.8888888888888888, \"#fdca26\"], [1.0, \"#f0f921\"]], \"type\": \"surface\"}], \"table\": [{\"cells\": {\"fill\": {\"color\": \"#EBF0F8\"}, \"line\": {\"color\": \"white\"}}, \"header\": {\"fill\": {\"color\": \"#C8D4E3\"}, \"line\": {\"color\": \"white\"}}, \"type\": \"table\"}]}, \"layout\": {\"annotationdefaults\": {\"arrowcolor\": \"#2a3f5f\", \"arrowhead\": 0, \"arrowwidth\": 1}, \"coloraxis\": {\"colorbar\": {\"outlinewidth\": 0, \"ticks\": \"\"}}, \"colorscale\": {\"diverging\": [[0, \"#8e0152\"], [0.1, \"#c51b7d\"], [0.2, \"#de77ae\"], [0.3, \"#f1b6da\"], [0.4, \"#fde0ef\"], [0.5, \"#f7f7f7\"], [0.6, \"#e6f5d0\"], [0.7, \"#b8e186\"], [0.8, \"#7fbc41\"], [0.9, \"#4d9221\"], [1, \"#276419\"]], \"sequential\": [[0.0, \"#0d0887\"], [0.1111111111111111, \"#46039f\"], [0.2222222222222222, \"#7201a8\"], [0.3333333333333333, \"#9c179e\"], [0.4444444444444444, \"#bd3786\"], [0.5555555555555556, \"#d8576b\"], [0.6666666666666666, \"#ed7953\"], [0.7777777777777778, \"#fb9f3a\"], [0.8888888888888888, \"#fdca26\"], [1.0, \"#f0f921\"]], \"sequentialminus\": [[0.0, \"#0d0887\"], [0.1111111111111111, \"#46039f\"], [0.2222222222222222, \"#7201a8\"], [0.3333333333333333, \"#9c179e\"], [0.4444444444444444, \"#bd3786\"], [0.5555555555555556, \"#d8576b\"], [0.6666666666666666, \"#ed7953\"], [0.7777777777777778, \"#fb9f3a\"], [0.8888888888888888, \"#fdca26\"], [1.0, \"#f0f921\"]]}, \"colorway\": [\"#636efa\", \"#EF553B\", \"#00cc96\", \"#ab63fa\", \"#FFA15A\", \"#19d3f3\", \"#FF6692\", \"#B6E880\", \"#FF97FF\", \"#FECB52\"], \"font\": {\"color\": \"#2a3f5f\"}, \"geo\": {\"bgcolor\": \"white\", \"lakecolor\": \"white\", \"landcolor\": \"#E5ECF6\", \"showlakes\": true, \"showland\": true, \"subunitcolor\": \"white\"}, \"hoverlabel\": {\"align\": \"left\"}, \"hovermode\": \"closest\", \"mapbox\": {\"style\": \"light\"}, \"paper_bgcolor\": \"white\", \"plot_bgcolor\": \"#E5ECF6\", \"polar\": {\"angularaxis\": {\"gridcolor\": \"white\", \"linecolor\": \"white\", \"ticks\": \"\"}, \"bgcolor\": \"#E5ECF6\", \"radialaxis\": {\"gridcolor\": \"white\", \"linecolor\": \"white\", \"ticks\": \"\"}}, \"scene\": {\"xaxis\": {\"backgroundcolor\": \"#E5ECF6\", \"gridcolor\": \"white\", \"gridwidth\": 2, \"linecolor\": \"white\", \"showbackground\": true, \"ticks\": \"\", \"zerolinecolor\": \"white\"}, \"yaxis\": {\"backgroundcolor\": \"#E5ECF6\", \"gridcolor\": \"white\", \"gridwidth\": 2, \"linecolor\": \"white\", \"showbackground\": true, \"ticks\": \"\", \"zerolinecolor\": \"white\"}, \"zaxis\": {\"backgroundcolor\": \"#E5ECF6\", \"gridcolor\": \"white\", \"gridwidth\": 2, \"linecolor\": \"white\", \"showbackground\": true, \"ticks\": \"\", \"zerolinecolor\": \"white\"}}, \"shapedefaults\": {\"line\": {\"color\": \"#2a3f5f\"}}, \"ternary\": {\"aaxis\": {\"gridcolor\": \"white\", \"linecolor\": \"white\", \"ticks\": \"\"}, \"baxis\": {\"gridcolor\": \"white\", \"linecolor\": \"white\", \"ticks\": \"\"}, \"bgcolor\": \"#E5ECF6\", \"caxis\": {\"gridcolor\": \"white\", \"linecolor\": \"white\", \"ticks\": \"\"}}, \"title\": {\"x\": 0.05}, \"xaxis\": {\"automargin\": true, \"gridcolor\": \"white\", \"linecolor\": \"white\", \"ticks\": \"\", \"title\": {\"standoff\": 15}, \"zerolinecolor\": \"white\", \"zerolinewidth\": 2}, \"yaxis\": {\"automargin\": true, \"gridcolor\": \"white\", \"linecolor\": \"white\", \"ticks\": \"\", \"title\": {\"standoff\": 15}, \"zerolinecolor\": \"white\", \"zerolinewidth\": 2}}}, \"title\": {\"text\": \"Network Connector Score by Department\"}, \"xaxis\": {\"anchor\": \"y\", \"domain\": [0.0, 1.0], \"title\": {\"text\": \"Department\"}}, \"yaxis\": {\"anchor\": \"x\", \"domain\": [0.0, 1.0], \"showticklabels\": false, \"title\": {\"text\": \"ncs\"}}},\n",
       "                        {\"responsive\": true}\n",
       "                    ).then(function(){\n",
       "                            \n",
       "var gd = document.getElementById('343248c2-5b9f-44b7-ab3c-0c1f2187f699');\n",
       "var x = new MutationObserver(function (mutations, observer) {{\n",
       "        var display = window.getComputedStyle(gd).display;\n",
       "        if (!display || display === 'none') {{\n",
       "            console.log([gd, 'removed!']);\n",
       "            Plotly.purge(gd);\n",
       "            observer.disconnect();\n",
       "        }}\n",
       "}});\n",
       "\n",
       "// Listen for the removal of the full notebook cells\n",
       "var notebookContainer = gd.closest('#notebook-container');\n",
       "if (notebookContainer) {{\n",
       "    x.observe(notebookContainer, {childList: true});\n",
       "}}\n",
       "\n",
       "// Listen for the clearing of the current output cell\n",
       "var outputEl = gd.closest('.output');\n",
       "if (outputEl) {{\n",
       "    x.observe(outputEl, {childList: true});\n",
       "}}\n",
       "\n",
       "                        })\n",
       "                };\n",
       "                });\n",
       "            </script>\n",
       "        </div>"
      ]
     },
     "metadata": {},
     "output_type": "display_data"
    }
   ],
   "source": [
    "fig = px.bar(df,x='Department',y='ncs',color='gender',hover_name = 'address')\n",
    "fig.update_layout(title_text='Network Connector Score by Department',autosize=True,)\n",
    "fig.update_yaxes(showticklabels=False)\n",
    "fig.show()"
   ]
  },
  {
   "cell_type": "code",
   "execution_count": 95,
   "metadata": {},
   "outputs": [
    {
     "data": {
      "application/vnd.plotly.v1+json": {
       "config": {
        "plotlyServerURL": "https://plot.ly"
       },
       "data": [
        {
         "hovertemplate": "<b>%{hovertext}</b><br><br>gender=female<br>ncs=%{marker.size}<br>address=%{y}<extra></extra>",
         "hovertext": [
          "TalentDevelopmentandLearning",
          "TalentDevelopmentandLearning",
          "TalentDevelopmentandLearning",
          "OrganizationChange",
          "TalentDevelopmentandLearning",
          "TalentDevelopmentandLearning",
          "HR",
          "TalentDevelopmentandLearning",
          "TalentDevelopmentandLearning",
          "OrganizationChange",
          "OrganizationChange",
          "TalentDevelopmentandLearning",
          "TalentDevelopmentandLearning",
          "TalentDevelopmentandLearning",
          "OrganizationChange",
          "OrganizationAnalytics",
          "TalentDevelopmentandLearning",
          "TalentDevelopmentandLearning",
          "TalentDevelopmentandLearning",
          "TalentDevelopmentandLearning",
          "OrganizationChange",
          "OrganizationAnalytics",
          "OrganizationChange",
          "TalentDevelopmentandLearning",
          "TalentDevelopmentandLearning",
          "OrganizationChange",
          "TalentDevelopmentandLearning",
          "TalentDevelopmentandLearning",
          "OrganizationChange",
          "TalentDevelopmentandLearning",
          "TalentDevelopmentandLearning",
          "TalentDevelopmentandLearning",
          "TalentDevelopmentandLearning",
          "OrganizationChange",
          "TalentDevelopmentandLearning",
          "TalentDevelopmentandLearning",
          "TalentDevelopmentandLearning",
          "OrganizationChange",
          "TalentDevelopmentandLearning",
          "TalentDevelopmentandLearning",
          "TalentDevelopmentandLearning",
          "HR",
          "TalentDevelopmentandLearning",
          "OrganizationChange",
          "TalentDevelopmentandLearning",
          "OrganizationChange",
          "TalentDevelopmentandLearning",
          "OrganizationChange",
          "TalentDevelopmentandLearning",
          "TalentDevelopmentandLearning",
          "TalentDevelopmentandLearning",
          "TalentDevelopmentandLearning",
          "OrganizationChange",
          "OrganizationChange",
          "TalentDevelopmentandLearning",
          "TalentDevelopmentandLearning",
          "TalentDevelopmentandLearning",
          "TalentDevelopmentandLearning",
          "TalentDevelopmentandLearning",
          "TalentDevelopmentandLearning",
          "TalentDevelopmentandLearning",
          "OrganizationChange",
          "TalentDevelopmentandLearning",
          "TalentDevelopmentandLearning",
          "TalentDevelopmentandLearning",
          "OrganizationChange",
          "TalentDevelopmentandLearning",
          "OrganizationChange",
          "TalentDevelopmentandLearning",
          "OrganizationChange",
          "TalentDevelopmentandLearning",
          "TalentDevelopmentandLearning",
          "HR",
          "TalentDevelopmentandLearning",
          "OrganizationChange",
          "TalentDevelopmentandLearning",
          "TalentDevelopmentandLearning",
          "OrganizationAnalytics",
          "TalentDevelopmentandLearning",
          "TalentDevelopmentandLearning",
          "TalentDevelopmentandLearning",
          "TalentDevelopmentandLearning",
          "TalentDevelopmentandLearning",
          "OrganizationChange",
          "HR",
          "TalentDevelopmentandLearning",
          "TalentDevelopmentandLearning",
          "TalentDevelopmentandLearning",
          "TalentDevelopmentandLearning",
          "TalentDevelopmentandLearning",
          "OrganizationAnalytics",
          "TalentDevelopmentandLearning",
          "TalentDevelopmentandLearning",
          "TalentDevelopmentandLearning",
          "OrganizationChange",
          "OrganizationAnalytics",
          "TalentDevelopmentandLearning",
          "TalentDevelopmentandLearning",
          "OrganizationChange",
          "TalentDevelopmentandLearning",
          "TalentDevelopmentandLearning",
          "TalentDevelopmentandLearning",
          "OrganizationChange",
          "TalentDevelopmentandLearning",
          "TalentDevelopmentandLearning",
          "TalentDevelopmentandLearning",
          "TalentDevelopmentandLearning",
          "TalentDevelopmentandLearning",
          "TalentDevelopmentandLearning",
          "TalentDevelopmentandLearning",
          "TalentDevelopmentandLearning",
          "TalentDevelopmentandLearning",
          "TalentDevelopmentandLearning",
          "TalentDevelopmentandLearning",
          "HR",
          "TalentDevelopmentandLearning",
          "TalentDevelopmentandLearning",
          "HR",
          "OrganizationChange",
          "TalentDevelopmentandLearning",
          "TalentDevelopmentandLearning",
          "TalentDevelopmentandLearning",
          "TalentDevelopmentandLearning",
          "TalentDevelopmentandLearning",
          "TalentDevelopmentandLearning",
          "TalentDevelopmentandLearning",
          "OrganizationChange",
          "TalentDevelopmentandLearning",
          "HR",
          "TalentDevelopmentandLearning",
          "TalentDevelopmentandLearning",
          "TalentDevelopmentandLearning",
          "TalentDevelopmentandLearning",
          "TalentDevelopmentandLearning",
          "HR",
          "TalentDevelopmentandLearning",
          "TalentDevelopmentandLearning",
          "TalentDevelopmentandLearning",
          "TalentDevelopmentandLearning",
          "OrganizationChange",
          "TalentDevelopmentandLearning",
          "TalentDevelopmentandLearning",
          "TalentDevelopmentandLearning",
          "TalentDevelopmentandLearning",
          "OrganizationChange",
          "TalentDevelopmentandLearning",
          "TalentDevelopmentandLearning",
          "TalentDevelopmentandLearning",
          "TalentDevelopmentandLearning",
          "TalentDevelopmentandLearning",
          "TalentDevelopmentandLearning",
          "TalentDevelopmentandLearning",
          "TalentDevelopmentandLearning",
          "TalentDevelopmentandLearning",
          "TalentDevelopmentandLearning",
          "TalentDevelopmentandLearning",
          "OrganizationChange",
          "TalentDevelopmentandLearning",
          "HR",
          "TalentDevelopmentandLearning",
          "TalentDevelopmentandLearning",
          "TalentDevelopmentandLearning",
          "TalentDevelopmentandLearning",
          "TalentDevelopmentandLearning",
          "TalentDevelopmentandLearning",
          "TalentDevelopmentandLearning",
          "TalentDevelopmentandLearning",
          "TalentDevelopmentandLearning",
          "TalentDevelopmentandLearning",
          "TalentDevelopmentandLearning",
          "TalentDevelopmentandLearning",
          "TalentDevelopmentandLearning",
          "TalentDevelopmentandLearning",
          "TalentDevelopmentandLearning",
          "TalentDevelopmentandLearning",
          "TalentDevelopmentandLearning",
          "TalentDevelopmentandLearning",
          "OrganizationChange",
          "TalentDevelopmentandLearning",
          "TalentDevelopmentandLearning",
          "TalentDevelopmentandLearning",
          "TalentDevelopmentandLearning",
          "TalentDevelopmentandLearning",
          "TalentDevelopmentandLearning",
          "TalentDevelopmentandLearning"
         ],
         "legendgroup": "female",
         "marker": {
          "color": "#636efa",
          "size": [
           100,
           66,
           71,
           58,
           83,
           77,
           58,
           38,
           56,
           64,
           43,
           48,
           68,
           55,
           64,
           63,
           53,
           44,
           58,
           51,
           36,
           47,
           24,
           50,
           25,
           44,
           41,
           35,
           45,
           22,
           33,
           21,
           23,
           39,
           16,
           32,
           37,
           31,
           28,
           26,
           17,
           19,
           29,
           42,
           34,
           36,
           20,
           39,
           38,
           39,
           37,
           38,
           37,
           33,
           33,
           15,
           14,
           16,
           13,
           21,
           25,
           28,
           10,
           20,
           25,
           24,
           19,
           26,
           16,
           29,
           22,
           16,
           14,
           22,
           27,
           17,
           10,
           23,
           22,
           36,
           5,
           11,
           11,
           16,
           16,
           9,
           9,
           12,
           17,
           14,
           24,
           16,
           10,
           12,
           27,
           33,
           12,
           17,
           22,
           21,
           12,
           14,
           23,
           13,
           19,
           14,
           9,
           20,
           11,
           16,
           17,
           7,
           19,
           24,
           8,
           5,
           11,
           15,
           22,
           13,
           12,
           14,
           4,
           14,
           12,
           13,
           15,
           7,
           9,
           9,
           7,
           4,
           8,
           13,
           10,
           10,
           14,
           9,
           12,
           10,
           8,
           12,
           11,
           5,
           9,
           13,
           4,
           6,
           9,
           4,
           7,
           11,
           4,
           9,
           4,
           8,
           10,
           8,
           6,
           12,
           5,
           4,
           2,
           8,
           6,
           2,
           2,
           10,
           2,
           2,
           0,
           7,
           2,
           7,
           5,
           2,
           2,
           5,
           6,
           4,
           5,
           3,
           2,
           0,
           0
          ],
          "sizemode": "area",
          "sizeref": 0.027777777777777776,
          "symbol": "circle"
         },
         "mode": "markers",
         "name": "female",
         "orientation": "v",
         "showlegend": true,
         "type": "scatter",
         "x": [
          100,
          66,
          71,
          58,
          83,
          77,
          58,
          38,
          56,
          64,
          43,
          48,
          68,
          55,
          64,
          63,
          53,
          44,
          58,
          51,
          36,
          47,
          24,
          50,
          25,
          44,
          41,
          35,
          45,
          22,
          33,
          21,
          23,
          39,
          16,
          32,
          37,
          31,
          28,
          26,
          17,
          19,
          29,
          42,
          34,
          36,
          20,
          39,
          38,
          39,
          37,
          38,
          37,
          33,
          33,
          15,
          14,
          16,
          13,
          21,
          25,
          28,
          10,
          20,
          25,
          24,
          19,
          26,
          16,
          29,
          22,
          16,
          14,
          22,
          27,
          17,
          10,
          23,
          22,
          36,
          5,
          11,
          11,
          16,
          16,
          9,
          9,
          12,
          17,
          14,
          24,
          16,
          10,
          12,
          27,
          33,
          12,
          17,
          22,
          21,
          12,
          14,
          23,
          13,
          19,
          14,
          9,
          20,
          11,
          16,
          17,
          7,
          19,
          24,
          8,
          5,
          11,
          15,
          22,
          13,
          12,
          14,
          4,
          14,
          12,
          13,
          15,
          7,
          9,
          9,
          7,
          4,
          8,
          13,
          10,
          10,
          14,
          9,
          12,
          10,
          8,
          12,
          11,
          5,
          9,
          13,
          4,
          6,
          9,
          4,
          7,
          11,
          4,
          9,
          4,
          8,
          10,
          8,
          6,
          12,
          5,
          4,
          2,
          8,
          6,
          2,
          2,
          10,
          2,
          2,
          0,
          7,
          2,
          7,
          5,
          2,
          2,
          5,
          6,
          4,
          5,
          3,
          2,
          0,
          0
         ],
         "xaxis": "x",
         "y": [
          122,
          131,
          185,
          93,
          204,
          84,
          61,
          25,
          56,
          274,
          173,
          42,
          95,
          33,
          223,
          91,
          64,
          81,
          239,
          43,
          263,
          132,
          5,
          184,
          82,
          141,
          154,
          172,
          222,
          114,
          63,
          74,
          150,
          57,
          19,
          98,
          231,
          92,
          159,
          85,
          199,
          45,
          111,
          269,
          34,
          293,
          200,
          62,
          126,
          36,
          125,
          273,
          169,
          75,
          115,
          266,
          73,
          94,
          24,
          58,
          136,
          135,
          146,
          139,
          165,
          268,
          186,
          127,
          116,
          17,
          103,
          285,
          142,
          240,
          106,
          189,
          181,
          156,
          35,
          279,
          99,
          60,
          294,
          289,
          265,
          267,
          171,
          40,
          230,
          4,
          48,
          31,
          228,
          2,
          65,
          121,
          280,
          206,
          260,
          158,
          193,
          225,
          68,
          67,
          233,
          153,
          80,
          234,
          167,
          237,
          97,
          238,
          215,
          281,
          272,
          118,
          148,
          210,
          90,
          133,
          46,
          113,
          38,
          78,
          236,
          151,
          76,
          221,
          283,
          217,
          128,
          191,
          41,
          183,
          51,
          100,
          157,
          160,
          18,
          11,
          20,
          13,
          226,
          229,
          155,
          49,
          105,
          259,
          178,
          152,
          101,
          8,
          235,
          29,
          192,
          270,
          251,
          255,
          248,
          137,
          112,
          144,
          180,
          220,
          257,
          117,
          130,
          163,
          258,
          211,
          264,
          162,
          15,
          277,
          202,
          250,
          246,
          284,
          254,
          256,
          261,
          147,
          247,
          245,
          252
         ],
         "yaxis": "y"
        },
        {
         "hovertemplate": "<b>%{hovertext}</b><br><br>gender=male<br>ncs=%{marker.size}<br>address=%{y}<extra></extra>",
         "hovertext": [
          "TalentDevelopmentandLearning",
          "TalentDevelopmentandLearning",
          "OrganizationChange",
          "OrganizationChange",
          "OrganizationChange",
          "TalentDevelopmentandLearning",
          "TalentDevelopmentandLearning",
          "OrganizationChange",
          "TalentDevelopmentandLearning",
          "TalentDevelopmentandLearning",
          "OrganizationChange",
          "TalentDevelopmentandLearning",
          "OrganizationAnalytics",
          "TalentDevelopmentandLearning",
          "TalentDevelopmentandLearning",
          "TalentDevelopmentandLearning",
          "TalentDevelopmentandLearning",
          "TalentDevelopmentandLearning",
          "OrganizationChange",
          "OrganizationChange",
          "OrganizationChange",
          "TalentDevelopmentandLearning",
          "HR",
          "TalentDevelopmentandLearning",
          "TalentDevelopmentandLearning",
          "HR",
          "TalentDevelopmentandLearning",
          "TalentDevelopmentandLearning",
          "OrganizationChange",
          "OrganizationChange",
          "TalentDevelopmentandLearning",
          "TalentDevelopmentandLearning",
          "TalentDevelopmentandLearning",
          "OrganizationAnalytics",
          "TalentDevelopmentandLearning",
          "OrganizationAnalytics",
          "HR",
          "HR",
          "TalentDevelopmentandLearning",
          "TalentDevelopmentandLearning",
          "TalentDevelopmentandLearning",
          "TalentDevelopmentandLearning",
          "HR",
          "TalentDevelopmentandLearning",
          "TalentDevelopmentandLearning",
          "TalentDevelopmentandLearning",
          "TalentDevelopmentandLearning",
          "HR",
          "OrganizationChange",
          "TalentDevelopmentandLearning",
          "TalentDevelopmentandLearning",
          "OrganizationChange",
          "OrganizationChange",
          "OrganizationChange",
          "TalentDevelopmentandLearning",
          "OrganizationChange",
          "HR",
          "TalentDevelopmentandLearning",
          "TalentDevelopmentandLearning",
          "TalentDevelopmentandLearning",
          "TalentDevelopmentandLearning",
          "TalentDevelopmentandLearning",
          "TalentDevelopmentandLearning",
          "OrganizationChange",
          "HR",
          "HR",
          "OrganizationAnalytics",
          "TalentDevelopmentandLearning",
          "OrganizationAnalytics",
          "TalentDevelopmentandLearning",
          "OrganizationChange",
          "HR",
          "TalentDevelopmentandLearning",
          "TalentDevelopmentandLearning",
          "TalentDevelopmentandLearning",
          "TalentDevelopmentandLearning",
          "TalentDevelopmentandLearning",
          "TalentDevelopmentandLearning",
          "OrganizationChange",
          "OrganizationChange",
          "TalentDevelopmentandLearning",
          "TalentDevelopmentandLearning",
          "TalentDevelopmentandLearning",
          "TalentDevelopmentandLearning",
          "TalentDevelopmentandLearning",
          "TalentDevelopmentandLearning",
          "OrganizationAnalytics",
          "TalentDevelopmentandLearning",
          "TalentDevelopmentandLearning",
          "OrganizationChange",
          "HR",
          "TalentDevelopmentandLearning",
          "TalentDevelopmentandLearning",
          "OrganizationChange",
          "TalentDevelopmentandLearning",
          "OrganizationChange"
         ],
         "legendgroup": "male",
         "marker": {
          "color": "#EF553B",
          "size": [
           86,
           66,
           74,
           80,
           77,
           53,
           62,
           37,
           47,
           50,
           43,
           19,
           37,
           43,
           23,
           39,
           55,
           48,
           40,
           40,
           29,
           38,
           12,
           32,
           30,
           19,
           12,
           29,
           27,
           27,
           35,
           26,
           25,
           26,
           13,
           22,
           11,
           8,
           26,
           14,
           7,
           11,
           14,
           24,
           22,
           18,
           21,
           11,
           24,
           11,
           33,
           27,
           19,
           23,
           18,
           22,
           15,
           20,
           22,
           18,
           23,
           11,
           12,
           22,
           8,
           14,
           19,
           14,
           23,
           21,
           16,
           10,
           8,
           15,
           16,
           11,
           8,
           13,
           9,
           17,
           10,
           10,
           12,
           8,
           6,
           6,
           10,
           4,
           7,
           18,
           5,
           12,
           8,
           4,
           2,
           2
          ],
          "sizemode": "area",
          "sizeref": 0.027777777777777776,
          "symbol": "circle"
         },
         "mode": "markers",
         "name": "male",
         "orientation": "v",
         "showlegend": true,
         "type": "scatter",
         "x": [
          86,
          66,
          74,
          80,
          77,
          53,
          62,
          37,
          47,
          50,
          43,
          19,
          37,
          43,
          23,
          39,
          55,
          48,
          40,
          40,
          29,
          38,
          12,
          32,
          30,
          19,
          12,
          29,
          27,
          27,
          35,
          26,
          25,
          26,
          13,
          22,
          11,
          8,
          26,
          14,
          7,
          11,
          14,
          24,
          22,
          18,
          21,
          11,
          24,
          11,
          33,
          27,
          19,
          23,
          18,
          22,
          15,
          20,
          22,
          18,
          23,
          11,
          12,
          22,
          8,
          14,
          19,
          14,
          23,
          21,
          16,
          10,
          8,
          15,
          16,
          11,
          8,
          13,
          9,
          17,
          10,
          10,
          12,
          8,
          6,
          6,
          10,
          4,
          7,
          18,
          5,
          12,
          8,
          4,
          2,
          2
         ],
         "xaxis": "x",
         "y": [
          287,
          218,
          166,
          54,
          168,
          37,
          32,
          28,
          134,
          66,
          71,
          70,
          161,
          77,
          39,
          52,
          3,
          216,
          232,
          143,
          182,
          47,
          213,
          290,
          10,
          16,
          177,
          224,
          295,
          208,
          124,
          190,
          219,
          123,
          201,
          175,
          6,
          108,
          69,
          9,
          282,
          14,
          86,
          119,
          23,
          243,
          104,
          22,
          1,
          120,
          194,
          187,
          44,
          7,
          107,
          205,
          286,
          188,
          87,
          288,
          212,
          164,
          198,
          179,
          72,
          26,
          209,
          83,
          195,
          197,
          102,
          278,
          271,
          176,
          214,
          30,
          241,
          110,
          292,
          227,
          149,
          129,
          53,
          253,
          88,
          203,
          109,
          249,
          89,
          79,
          55,
          138,
          96,
          275,
          291,
          244
         ],
         "yaxis": "y"
        }
       ],
       "layout": {
        "autosize": true,
        "legend": {
         "itemsizing": "constant",
         "title": {
          "text": "gender"
         },
         "tracegroupgap": 0
        },
        "margin": {
         "t": 60
        },
        "template": {
         "data": {
          "bar": [
           {
            "error_x": {
             "color": "#2a3f5f"
            },
            "error_y": {
             "color": "#2a3f5f"
            },
            "marker": {
             "line": {
              "color": "#E5ECF6",
              "width": 0.5
             }
            },
            "type": "bar"
           }
          ],
          "barpolar": [
           {
            "marker": {
             "line": {
              "color": "#E5ECF6",
              "width": 0.5
             }
            },
            "type": "barpolar"
           }
          ],
          "carpet": [
           {
            "aaxis": {
             "endlinecolor": "#2a3f5f",
             "gridcolor": "white",
             "linecolor": "white",
             "minorgridcolor": "white",
             "startlinecolor": "#2a3f5f"
            },
            "baxis": {
             "endlinecolor": "#2a3f5f",
             "gridcolor": "white",
             "linecolor": "white",
             "minorgridcolor": "white",
             "startlinecolor": "#2a3f5f"
            },
            "type": "carpet"
           }
          ],
          "choropleth": [
           {
            "colorbar": {
             "outlinewidth": 0,
             "ticks": ""
            },
            "type": "choropleth"
           }
          ],
          "contour": [
           {
            "colorbar": {
             "outlinewidth": 0,
             "ticks": ""
            },
            "colorscale": [
             [
              0,
              "#0d0887"
             ],
             [
              0.1111111111111111,
              "#46039f"
             ],
             [
              0.2222222222222222,
              "#7201a8"
             ],
             [
              0.3333333333333333,
              "#9c179e"
             ],
             [
              0.4444444444444444,
              "#bd3786"
             ],
             [
              0.5555555555555556,
              "#d8576b"
             ],
             [
              0.6666666666666666,
              "#ed7953"
             ],
             [
              0.7777777777777778,
              "#fb9f3a"
             ],
             [
              0.8888888888888888,
              "#fdca26"
             ],
             [
              1,
              "#f0f921"
             ]
            ],
            "type": "contour"
           }
          ],
          "contourcarpet": [
           {
            "colorbar": {
             "outlinewidth": 0,
             "ticks": ""
            },
            "type": "contourcarpet"
           }
          ],
          "heatmap": [
           {
            "colorbar": {
             "outlinewidth": 0,
             "ticks": ""
            },
            "colorscale": [
             [
              0,
              "#0d0887"
             ],
             [
              0.1111111111111111,
              "#46039f"
             ],
             [
              0.2222222222222222,
              "#7201a8"
             ],
             [
              0.3333333333333333,
              "#9c179e"
             ],
             [
              0.4444444444444444,
              "#bd3786"
             ],
             [
              0.5555555555555556,
              "#d8576b"
             ],
             [
              0.6666666666666666,
              "#ed7953"
             ],
             [
              0.7777777777777778,
              "#fb9f3a"
             ],
             [
              0.8888888888888888,
              "#fdca26"
             ],
             [
              1,
              "#f0f921"
             ]
            ],
            "type": "heatmap"
           }
          ],
          "heatmapgl": [
           {
            "colorbar": {
             "outlinewidth": 0,
             "ticks": ""
            },
            "colorscale": [
             [
              0,
              "#0d0887"
             ],
             [
              0.1111111111111111,
              "#46039f"
             ],
             [
              0.2222222222222222,
              "#7201a8"
             ],
             [
              0.3333333333333333,
              "#9c179e"
             ],
             [
              0.4444444444444444,
              "#bd3786"
             ],
             [
              0.5555555555555556,
              "#d8576b"
             ],
             [
              0.6666666666666666,
              "#ed7953"
             ],
             [
              0.7777777777777778,
              "#fb9f3a"
             ],
             [
              0.8888888888888888,
              "#fdca26"
             ],
             [
              1,
              "#f0f921"
             ]
            ],
            "type": "heatmapgl"
           }
          ],
          "histogram": [
           {
            "marker": {
             "colorbar": {
              "outlinewidth": 0,
              "ticks": ""
             }
            },
            "type": "histogram"
           }
          ],
          "histogram2d": [
           {
            "colorbar": {
             "outlinewidth": 0,
             "ticks": ""
            },
            "colorscale": [
             [
              0,
              "#0d0887"
             ],
             [
              0.1111111111111111,
              "#46039f"
             ],
             [
              0.2222222222222222,
              "#7201a8"
             ],
             [
              0.3333333333333333,
              "#9c179e"
             ],
             [
              0.4444444444444444,
              "#bd3786"
             ],
             [
              0.5555555555555556,
              "#d8576b"
             ],
             [
              0.6666666666666666,
              "#ed7953"
             ],
             [
              0.7777777777777778,
              "#fb9f3a"
             ],
             [
              0.8888888888888888,
              "#fdca26"
             ],
             [
              1,
              "#f0f921"
             ]
            ],
            "type": "histogram2d"
           }
          ],
          "histogram2dcontour": [
           {
            "colorbar": {
             "outlinewidth": 0,
             "ticks": ""
            },
            "colorscale": [
             [
              0,
              "#0d0887"
             ],
             [
              0.1111111111111111,
              "#46039f"
             ],
             [
              0.2222222222222222,
              "#7201a8"
             ],
             [
              0.3333333333333333,
              "#9c179e"
             ],
             [
              0.4444444444444444,
              "#bd3786"
             ],
             [
              0.5555555555555556,
              "#d8576b"
             ],
             [
              0.6666666666666666,
              "#ed7953"
             ],
             [
              0.7777777777777778,
              "#fb9f3a"
             ],
             [
              0.8888888888888888,
              "#fdca26"
             ],
             [
              1,
              "#f0f921"
             ]
            ],
            "type": "histogram2dcontour"
           }
          ],
          "mesh3d": [
           {
            "colorbar": {
             "outlinewidth": 0,
             "ticks": ""
            },
            "type": "mesh3d"
           }
          ],
          "parcoords": [
           {
            "line": {
             "colorbar": {
              "outlinewidth": 0,
              "ticks": ""
             }
            },
            "type": "parcoords"
           }
          ],
          "pie": [
           {
            "automargin": true,
            "type": "pie"
           }
          ],
          "scatter": [
           {
            "marker": {
             "colorbar": {
              "outlinewidth": 0,
              "ticks": ""
             }
            },
            "type": "scatter"
           }
          ],
          "scatter3d": [
           {
            "line": {
             "colorbar": {
              "outlinewidth": 0,
              "ticks": ""
             }
            },
            "marker": {
             "colorbar": {
              "outlinewidth": 0,
              "ticks": ""
             }
            },
            "type": "scatter3d"
           }
          ],
          "scattercarpet": [
           {
            "marker": {
             "colorbar": {
              "outlinewidth": 0,
              "ticks": ""
             }
            },
            "type": "scattercarpet"
           }
          ],
          "scattergeo": [
           {
            "marker": {
             "colorbar": {
              "outlinewidth": 0,
              "ticks": ""
             }
            },
            "type": "scattergeo"
           }
          ],
          "scattergl": [
           {
            "marker": {
             "colorbar": {
              "outlinewidth": 0,
              "ticks": ""
             }
            },
            "type": "scattergl"
           }
          ],
          "scattermapbox": [
           {
            "marker": {
             "colorbar": {
              "outlinewidth": 0,
              "ticks": ""
             }
            },
            "type": "scattermapbox"
           }
          ],
          "scatterpolar": [
           {
            "marker": {
             "colorbar": {
              "outlinewidth": 0,
              "ticks": ""
             }
            },
            "type": "scatterpolar"
           }
          ],
          "scatterpolargl": [
           {
            "marker": {
             "colorbar": {
              "outlinewidth": 0,
              "ticks": ""
             }
            },
            "type": "scatterpolargl"
           }
          ],
          "scatterternary": [
           {
            "marker": {
             "colorbar": {
              "outlinewidth": 0,
              "ticks": ""
             }
            },
            "type": "scatterternary"
           }
          ],
          "surface": [
           {
            "colorbar": {
             "outlinewidth": 0,
             "ticks": ""
            },
            "colorscale": [
             [
              0,
              "#0d0887"
             ],
             [
              0.1111111111111111,
              "#46039f"
             ],
             [
              0.2222222222222222,
              "#7201a8"
             ],
             [
              0.3333333333333333,
              "#9c179e"
             ],
             [
              0.4444444444444444,
              "#bd3786"
             ],
             [
              0.5555555555555556,
              "#d8576b"
             ],
             [
              0.6666666666666666,
              "#ed7953"
             ],
             [
              0.7777777777777778,
              "#fb9f3a"
             ],
             [
              0.8888888888888888,
              "#fdca26"
             ],
             [
              1,
              "#f0f921"
             ]
            ],
            "type": "surface"
           }
          ],
          "table": [
           {
            "cells": {
             "fill": {
              "color": "#EBF0F8"
             },
             "line": {
              "color": "white"
             }
            },
            "header": {
             "fill": {
              "color": "#C8D4E3"
             },
             "line": {
              "color": "white"
             }
            },
            "type": "table"
           }
          ]
         },
         "layout": {
          "annotationdefaults": {
           "arrowcolor": "#2a3f5f",
           "arrowhead": 0,
           "arrowwidth": 1
          },
          "coloraxis": {
           "colorbar": {
            "outlinewidth": 0,
            "ticks": ""
           }
          },
          "colorscale": {
           "diverging": [
            [
             0,
             "#8e0152"
            ],
            [
             0.1,
             "#c51b7d"
            ],
            [
             0.2,
             "#de77ae"
            ],
            [
             0.3,
             "#f1b6da"
            ],
            [
             0.4,
             "#fde0ef"
            ],
            [
             0.5,
             "#f7f7f7"
            ],
            [
             0.6,
             "#e6f5d0"
            ],
            [
             0.7,
             "#b8e186"
            ],
            [
             0.8,
             "#7fbc41"
            ],
            [
             0.9,
             "#4d9221"
            ],
            [
             1,
             "#276419"
            ]
           ],
           "sequential": [
            [
             0,
             "#0d0887"
            ],
            [
             0.1111111111111111,
             "#46039f"
            ],
            [
             0.2222222222222222,
             "#7201a8"
            ],
            [
             0.3333333333333333,
             "#9c179e"
            ],
            [
             0.4444444444444444,
             "#bd3786"
            ],
            [
             0.5555555555555556,
             "#d8576b"
            ],
            [
             0.6666666666666666,
             "#ed7953"
            ],
            [
             0.7777777777777778,
             "#fb9f3a"
            ],
            [
             0.8888888888888888,
             "#fdca26"
            ],
            [
             1,
             "#f0f921"
            ]
           ],
           "sequentialminus": [
            [
             0,
             "#0d0887"
            ],
            [
             0.1111111111111111,
             "#46039f"
            ],
            [
             0.2222222222222222,
             "#7201a8"
            ],
            [
             0.3333333333333333,
             "#9c179e"
            ],
            [
             0.4444444444444444,
             "#bd3786"
            ],
            [
             0.5555555555555556,
             "#d8576b"
            ],
            [
             0.6666666666666666,
             "#ed7953"
            ],
            [
             0.7777777777777778,
             "#fb9f3a"
            ],
            [
             0.8888888888888888,
             "#fdca26"
            ],
            [
             1,
             "#f0f921"
            ]
           ]
          },
          "colorway": [
           "#636efa",
           "#EF553B",
           "#00cc96",
           "#ab63fa",
           "#FFA15A",
           "#19d3f3",
           "#FF6692",
           "#B6E880",
           "#FF97FF",
           "#FECB52"
          ],
          "font": {
           "color": "#2a3f5f"
          },
          "geo": {
           "bgcolor": "white",
           "lakecolor": "white",
           "landcolor": "#E5ECF6",
           "showlakes": true,
           "showland": true,
           "subunitcolor": "white"
          },
          "hoverlabel": {
           "align": "left"
          },
          "hovermode": "closest",
          "mapbox": {
           "style": "light"
          },
          "paper_bgcolor": "white",
          "plot_bgcolor": "#E5ECF6",
          "polar": {
           "angularaxis": {
            "gridcolor": "white",
            "linecolor": "white",
            "ticks": ""
           },
           "bgcolor": "#E5ECF6",
           "radialaxis": {
            "gridcolor": "white",
            "linecolor": "white",
            "ticks": ""
           }
          },
          "scene": {
           "xaxis": {
            "backgroundcolor": "#E5ECF6",
            "gridcolor": "white",
            "gridwidth": 2,
            "linecolor": "white",
            "showbackground": true,
            "ticks": "",
            "zerolinecolor": "white"
           },
           "yaxis": {
            "backgroundcolor": "#E5ECF6",
            "gridcolor": "white",
            "gridwidth": 2,
            "linecolor": "white",
            "showbackground": true,
            "ticks": "",
            "zerolinecolor": "white"
           },
           "zaxis": {
            "backgroundcolor": "#E5ECF6",
            "gridcolor": "white",
            "gridwidth": 2,
            "linecolor": "white",
            "showbackground": true,
            "ticks": "",
            "zerolinecolor": "white"
           }
          },
          "shapedefaults": {
           "line": {
            "color": "#2a3f5f"
           }
          },
          "ternary": {
           "aaxis": {
            "gridcolor": "white",
            "linecolor": "white",
            "ticks": ""
           },
           "baxis": {
            "gridcolor": "white",
            "linecolor": "white",
            "ticks": ""
           },
           "bgcolor": "#E5ECF6",
           "caxis": {
            "gridcolor": "white",
            "linecolor": "white",
            "ticks": ""
           }
          },
          "title": {
           "x": 0.05
          },
          "xaxis": {
           "automargin": true,
           "gridcolor": "white",
           "linecolor": "white",
           "ticks": "",
           "title": {
            "standoff": 15
           },
           "zerolinecolor": "white",
           "zerolinewidth": 2
          },
          "yaxis": {
           "automargin": true,
           "gridcolor": "white",
           "linecolor": "white",
           "ticks": "",
           "title": {
            "standoff": 15
           },
           "zerolinecolor": "white",
           "zerolinewidth": 2
          }
         }
        },
        "title": {
         "text": "Network Connector Score by User"
        },
        "xaxis": {
         "anchor": "y",
         "domain": [
          0,
          1
         ],
         "title": {
          "text": "ncs"
         },
         "type": "log"
        },
        "yaxis": {
         "anchor": "x",
         "domain": [
          0,
          1
         ],
         "showticklabels": false,
         "title": {
          "text": "address"
         }
        }
       }
      },
      "text/html": [
       "<div>\n",
       "        \n",
       "        \n",
       "            <div id=\"5089b55f-c07b-45ab-9983-86b3c8083e5d\" class=\"plotly-graph-div\" style=\"height:525px; width:100%;\"></div>\n",
       "            <script type=\"text/javascript\">\n",
       "                require([\"plotly\"], function(Plotly) {\n",
       "                    window.PLOTLYENV=window.PLOTLYENV || {};\n",
       "                    \n",
       "                if (document.getElementById(\"5089b55f-c07b-45ab-9983-86b3c8083e5d\")) {\n",
       "                    Plotly.newPlot(\n",
       "                        '5089b55f-c07b-45ab-9983-86b3c8083e5d',\n",
       "                        [{\"hovertemplate\": \"<b>%{hovertext}</b><br><br>gender=female<br>ncs=%{marker.size}<br>address=%{y}<extra></extra>\", \"hovertext\": [\"TalentDevelopmentandLearning\", \"TalentDevelopmentandLearning\", \"TalentDevelopmentandLearning\", \"OrganizationChange\", \"TalentDevelopmentandLearning\", \"TalentDevelopmentandLearning\", \"HR\", \"TalentDevelopmentandLearning\", \"TalentDevelopmentandLearning\", \"OrganizationChange\", \"OrganizationChange\", \"TalentDevelopmentandLearning\", \"TalentDevelopmentandLearning\", \"TalentDevelopmentandLearning\", \"OrganizationChange\", \"OrganizationAnalytics\", \"TalentDevelopmentandLearning\", \"TalentDevelopmentandLearning\", \"TalentDevelopmentandLearning\", \"TalentDevelopmentandLearning\", \"OrganizationChange\", \"OrganizationAnalytics\", \"OrganizationChange\", \"TalentDevelopmentandLearning\", \"TalentDevelopmentandLearning\", \"OrganizationChange\", \"TalentDevelopmentandLearning\", \"TalentDevelopmentandLearning\", \"OrganizationChange\", \"TalentDevelopmentandLearning\", \"TalentDevelopmentandLearning\", \"TalentDevelopmentandLearning\", \"TalentDevelopmentandLearning\", \"OrganizationChange\", \"TalentDevelopmentandLearning\", \"TalentDevelopmentandLearning\", \"TalentDevelopmentandLearning\", \"OrganizationChange\", \"TalentDevelopmentandLearning\", \"TalentDevelopmentandLearning\", \"TalentDevelopmentandLearning\", \"HR\", \"TalentDevelopmentandLearning\", \"OrganizationChange\", \"TalentDevelopmentandLearning\", \"OrganizationChange\", \"TalentDevelopmentandLearning\", \"OrganizationChange\", \"TalentDevelopmentandLearning\", \"TalentDevelopmentandLearning\", \"TalentDevelopmentandLearning\", \"TalentDevelopmentandLearning\", \"OrganizationChange\", \"OrganizationChange\", \"TalentDevelopmentandLearning\", \"TalentDevelopmentandLearning\", \"TalentDevelopmentandLearning\", \"TalentDevelopmentandLearning\", \"TalentDevelopmentandLearning\", \"TalentDevelopmentandLearning\", \"TalentDevelopmentandLearning\", \"OrganizationChange\", \"TalentDevelopmentandLearning\", \"TalentDevelopmentandLearning\", \"TalentDevelopmentandLearning\", \"OrganizationChange\", \"TalentDevelopmentandLearning\", \"OrganizationChange\", \"TalentDevelopmentandLearning\", \"OrganizationChange\", \"TalentDevelopmentandLearning\", \"TalentDevelopmentandLearning\", \"HR\", \"TalentDevelopmentandLearning\", \"OrganizationChange\", \"TalentDevelopmentandLearning\", \"TalentDevelopmentandLearning\", \"OrganizationAnalytics\", \"TalentDevelopmentandLearning\", \"TalentDevelopmentandLearning\", \"TalentDevelopmentandLearning\", \"TalentDevelopmentandLearning\", \"TalentDevelopmentandLearning\", \"OrganizationChange\", \"HR\", \"TalentDevelopmentandLearning\", \"TalentDevelopmentandLearning\", \"TalentDevelopmentandLearning\", \"TalentDevelopmentandLearning\", \"TalentDevelopmentandLearning\", \"OrganizationAnalytics\", \"TalentDevelopmentandLearning\", \"TalentDevelopmentandLearning\", \"TalentDevelopmentandLearning\", \"OrganizationChange\", \"OrganizationAnalytics\", \"TalentDevelopmentandLearning\", \"TalentDevelopmentandLearning\", \"OrganizationChange\", \"TalentDevelopmentandLearning\", \"TalentDevelopmentandLearning\", \"TalentDevelopmentandLearning\", \"OrganizationChange\", \"TalentDevelopmentandLearning\", \"TalentDevelopmentandLearning\", \"TalentDevelopmentandLearning\", \"TalentDevelopmentandLearning\", \"TalentDevelopmentandLearning\", \"TalentDevelopmentandLearning\", \"TalentDevelopmentandLearning\", \"TalentDevelopmentandLearning\", \"TalentDevelopmentandLearning\", \"TalentDevelopmentandLearning\", \"TalentDevelopmentandLearning\", \"HR\", \"TalentDevelopmentandLearning\", \"TalentDevelopmentandLearning\", \"HR\", \"OrganizationChange\", \"TalentDevelopmentandLearning\", \"TalentDevelopmentandLearning\", \"TalentDevelopmentandLearning\", \"TalentDevelopmentandLearning\", \"TalentDevelopmentandLearning\", \"TalentDevelopmentandLearning\", \"TalentDevelopmentandLearning\", \"OrganizationChange\", \"TalentDevelopmentandLearning\", \"HR\", \"TalentDevelopmentandLearning\", \"TalentDevelopmentandLearning\", \"TalentDevelopmentandLearning\", \"TalentDevelopmentandLearning\", \"TalentDevelopmentandLearning\", \"HR\", \"TalentDevelopmentandLearning\", \"TalentDevelopmentandLearning\", \"TalentDevelopmentandLearning\", \"TalentDevelopmentandLearning\", \"OrganizationChange\", \"TalentDevelopmentandLearning\", \"TalentDevelopmentandLearning\", \"TalentDevelopmentandLearning\", \"TalentDevelopmentandLearning\", \"OrganizationChange\", \"TalentDevelopmentandLearning\", \"TalentDevelopmentandLearning\", \"TalentDevelopmentandLearning\", \"TalentDevelopmentandLearning\", \"TalentDevelopmentandLearning\", \"TalentDevelopmentandLearning\", \"TalentDevelopmentandLearning\", \"TalentDevelopmentandLearning\", \"TalentDevelopmentandLearning\", \"TalentDevelopmentandLearning\", \"TalentDevelopmentandLearning\", \"OrganizationChange\", \"TalentDevelopmentandLearning\", \"HR\", \"TalentDevelopmentandLearning\", \"TalentDevelopmentandLearning\", \"TalentDevelopmentandLearning\", \"TalentDevelopmentandLearning\", \"TalentDevelopmentandLearning\", \"TalentDevelopmentandLearning\", \"TalentDevelopmentandLearning\", \"TalentDevelopmentandLearning\", \"TalentDevelopmentandLearning\", \"TalentDevelopmentandLearning\", \"TalentDevelopmentandLearning\", \"TalentDevelopmentandLearning\", \"TalentDevelopmentandLearning\", \"TalentDevelopmentandLearning\", \"TalentDevelopmentandLearning\", \"TalentDevelopmentandLearning\", \"TalentDevelopmentandLearning\", \"TalentDevelopmentandLearning\", \"OrganizationChange\", \"TalentDevelopmentandLearning\", \"TalentDevelopmentandLearning\", \"TalentDevelopmentandLearning\", \"TalentDevelopmentandLearning\", \"TalentDevelopmentandLearning\", \"TalentDevelopmentandLearning\", \"TalentDevelopmentandLearning\"], \"legendgroup\": \"female\", \"marker\": {\"color\": \"#636efa\", \"size\": [100, 66, 71, 58, 83, 77, 58, 38, 56, 64, 43, 48, 68, 55, 64, 63, 53, 44, 58, 51, 36, 47, 24, 50, 25, 44, 41, 35, 45, 22, 33, 21, 23, 39, 16, 32, 37, 31, 28, 26, 17, 19, 29, 42, 34, 36, 20, 39, 38, 39, 37, 38, 37, 33, 33, 15, 14, 16, 13, 21, 25, 28, 10, 20, 25, 24, 19, 26, 16, 29, 22, 16, 14, 22, 27, 17, 10, 23, 22, 36, 5, 11, 11, 16, 16, 9, 9, 12, 17, 14, 24, 16, 10, 12, 27, 33, 12, 17, 22, 21, 12, 14, 23, 13, 19, 14, 9, 20, 11, 16, 17, 7, 19, 24, 8, 5, 11, 15, 22, 13, 12, 14, 4, 14, 12, 13, 15, 7, 9, 9, 7, 4, 8, 13, 10, 10, 14, 9, 12, 10, 8, 12, 11, 5, 9, 13, 4, 6, 9, 4, 7, 11, 4, 9, 4, 8, 10, 8, 6, 12, 5, 4, 2, 8, 6, 2, 2, 10, 2, 2, 0, 7, 2, 7, 5, 2, 2, 5, 6, 4, 5, 3, 2, 0, 0], \"sizemode\": \"area\", \"sizeref\": 0.027777777777777776, \"symbol\": \"circle\"}, \"mode\": \"markers\", \"name\": \"female\", \"orientation\": \"v\", \"showlegend\": true, \"type\": \"scatter\", \"x\": [100, 66, 71, 58, 83, 77, 58, 38, 56, 64, 43, 48, 68, 55, 64, 63, 53, 44, 58, 51, 36, 47, 24, 50, 25, 44, 41, 35, 45, 22, 33, 21, 23, 39, 16, 32, 37, 31, 28, 26, 17, 19, 29, 42, 34, 36, 20, 39, 38, 39, 37, 38, 37, 33, 33, 15, 14, 16, 13, 21, 25, 28, 10, 20, 25, 24, 19, 26, 16, 29, 22, 16, 14, 22, 27, 17, 10, 23, 22, 36, 5, 11, 11, 16, 16, 9, 9, 12, 17, 14, 24, 16, 10, 12, 27, 33, 12, 17, 22, 21, 12, 14, 23, 13, 19, 14, 9, 20, 11, 16, 17, 7, 19, 24, 8, 5, 11, 15, 22, 13, 12, 14, 4, 14, 12, 13, 15, 7, 9, 9, 7, 4, 8, 13, 10, 10, 14, 9, 12, 10, 8, 12, 11, 5, 9, 13, 4, 6, 9, 4, 7, 11, 4, 9, 4, 8, 10, 8, 6, 12, 5, 4, 2, 8, 6, 2, 2, 10, 2, 2, 0, 7, 2, 7, 5, 2, 2, 5, 6, 4, 5, 3, 2, 0, 0], \"xaxis\": \"x\", \"y\": [122, 131, 185, 93, 204, 84, 61, 25, 56, 274, 173, 42, 95, 33, 223, 91, 64, 81, 239, 43, 263, 132, 5, 184, 82, 141, 154, 172, 222, 114, 63, 74, 150, 57, 19, 98, 231, 92, 159, 85, 199, 45, 111, 269, 34, 293, 200, 62, 126, 36, 125, 273, 169, 75, 115, 266, 73, 94, 24, 58, 136, 135, 146, 139, 165, 268, 186, 127, 116, 17, 103, 285, 142, 240, 106, 189, 181, 156, 35, 279, 99, 60, 294, 289, 265, 267, 171, 40, 230, 4, 48, 31, 228, 2, 65, 121, 280, 206, 260, 158, 193, 225, 68, 67, 233, 153, 80, 234, 167, 237, 97, 238, 215, 281, 272, 118, 148, 210, 90, 133, 46, 113, 38, 78, 236, 151, 76, 221, 283, 217, 128, 191, 41, 183, 51, 100, 157, 160, 18, 11, 20, 13, 226, 229, 155, 49, 105, 259, 178, 152, 101, 8, 235, 29, 192, 270, 251, 255, 248, 137, 112, 144, 180, 220, 257, 117, 130, 163, 258, 211, 264, 162, 15, 277, 202, 250, 246, 284, 254, 256, 261, 147, 247, 245, 252], \"yaxis\": \"y\"}, {\"hovertemplate\": \"<b>%{hovertext}</b><br><br>gender=male<br>ncs=%{marker.size}<br>address=%{y}<extra></extra>\", \"hovertext\": [\"TalentDevelopmentandLearning\", \"TalentDevelopmentandLearning\", \"OrganizationChange\", \"OrganizationChange\", \"OrganizationChange\", \"TalentDevelopmentandLearning\", \"TalentDevelopmentandLearning\", \"OrganizationChange\", \"TalentDevelopmentandLearning\", \"TalentDevelopmentandLearning\", \"OrganizationChange\", \"TalentDevelopmentandLearning\", \"OrganizationAnalytics\", \"TalentDevelopmentandLearning\", \"TalentDevelopmentandLearning\", \"TalentDevelopmentandLearning\", \"TalentDevelopmentandLearning\", \"TalentDevelopmentandLearning\", \"OrganizationChange\", \"OrganizationChange\", \"OrganizationChange\", \"TalentDevelopmentandLearning\", \"HR\", \"TalentDevelopmentandLearning\", \"TalentDevelopmentandLearning\", \"HR\", \"TalentDevelopmentandLearning\", \"TalentDevelopmentandLearning\", \"OrganizationChange\", \"OrganizationChange\", \"TalentDevelopmentandLearning\", \"TalentDevelopmentandLearning\", \"TalentDevelopmentandLearning\", \"OrganizationAnalytics\", \"TalentDevelopmentandLearning\", \"OrganizationAnalytics\", \"HR\", \"HR\", \"TalentDevelopmentandLearning\", \"TalentDevelopmentandLearning\", \"TalentDevelopmentandLearning\", \"TalentDevelopmentandLearning\", \"HR\", \"TalentDevelopmentandLearning\", \"TalentDevelopmentandLearning\", \"TalentDevelopmentandLearning\", \"TalentDevelopmentandLearning\", \"HR\", \"OrganizationChange\", \"TalentDevelopmentandLearning\", \"TalentDevelopmentandLearning\", \"OrganizationChange\", \"OrganizationChange\", \"OrganizationChange\", \"TalentDevelopmentandLearning\", \"OrganizationChange\", \"HR\", \"TalentDevelopmentandLearning\", \"TalentDevelopmentandLearning\", \"TalentDevelopmentandLearning\", \"TalentDevelopmentandLearning\", \"TalentDevelopmentandLearning\", \"TalentDevelopmentandLearning\", \"OrganizationChange\", \"HR\", \"HR\", \"OrganizationAnalytics\", \"TalentDevelopmentandLearning\", \"OrganizationAnalytics\", \"TalentDevelopmentandLearning\", \"OrganizationChange\", \"HR\", \"TalentDevelopmentandLearning\", \"TalentDevelopmentandLearning\", \"TalentDevelopmentandLearning\", \"TalentDevelopmentandLearning\", \"TalentDevelopmentandLearning\", \"TalentDevelopmentandLearning\", \"OrganizationChange\", \"OrganizationChange\", \"TalentDevelopmentandLearning\", \"TalentDevelopmentandLearning\", \"TalentDevelopmentandLearning\", \"TalentDevelopmentandLearning\", \"TalentDevelopmentandLearning\", \"TalentDevelopmentandLearning\", \"OrganizationAnalytics\", \"TalentDevelopmentandLearning\", \"TalentDevelopmentandLearning\", \"OrganizationChange\", \"HR\", \"TalentDevelopmentandLearning\", \"TalentDevelopmentandLearning\", \"OrganizationChange\", \"TalentDevelopmentandLearning\", \"OrganizationChange\"], \"legendgroup\": \"male\", \"marker\": {\"color\": \"#EF553B\", \"size\": [86, 66, 74, 80, 77, 53, 62, 37, 47, 50, 43, 19, 37, 43, 23, 39, 55, 48, 40, 40, 29, 38, 12, 32, 30, 19, 12, 29, 27, 27, 35, 26, 25, 26, 13, 22, 11, 8, 26, 14, 7, 11, 14, 24, 22, 18, 21, 11, 24, 11, 33, 27, 19, 23, 18, 22, 15, 20, 22, 18, 23, 11, 12, 22, 8, 14, 19, 14, 23, 21, 16, 10, 8, 15, 16, 11, 8, 13, 9, 17, 10, 10, 12, 8, 6, 6, 10, 4, 7, 18, 5, 12, 8, 4, 2, 2], \"sizemode\": \"area\", \"sizeref\": 0.027777777777777776, \"symbol\": \"circle\"}, \"mode\": \"markers\", \"name\": \"male\", \"orientation\": \"v\", \"showlegend\": true, \"type\": \"scatter\", \"x\": [86, 66, 74, 80, 77, 53, 62, 37, 47, 50, 43, 19, 37, 43, 23, 39, 55, 48, 40, 40, 29, 38, 12, 32, 30, 19, 12, 29, 27, 27, 35, 26, 25, 26, 13, 22, 11, 8, 26, 14, 7, 11, 14, 24, 22, 18, 21, 11, 24, 11, 33, 27, 19, 23, 18, 22, 15, 20, 22, 18, 23, 11, 12, 22, 8, 14, 19, 14, 23, 21, 16, 10, 8, 15, 16, 11, 8, 13, 9, 17, 10, 10, 12, 8, 6, 6, 10, 4, 7, 18, 5, 12, 8, 4, 2, 2], \"xaxis\": \"x\", \"y\": [287, 218, 166, 54, 168, 37, 32, 28, 134, 66, 71, 70, 161, 77, 39, 52, 3, 216, 232, 143, 182, 47, 213, 290, 10, 16, 177, 224, 295, 208, 124, 190, 219, 123, 201, 175, 6, 108, 69, 9, 282, 14, 86, 119, 23, 243, 104, 22, 1, 120, 194, 187, 44, 7, 107, 205, 286, 188, 87, 288, 212, 164, 198, 179, 72, 26, 209, 83, 195, 197, 102, 278, 271, 176, 214, 30, 241, 110, 292, 227, 149, 129, 53, 253, 88, 203, 109, 249, 89, 79, 55, 138, 96, 275, 291, 244], \"yaxis\": \"y\"}],\n",
       "                        {\"autosize\": true, \"legend\": {\"itemsizing\": \"constant\", \"title\": {\"text\": \"gender\"}, \"tracegroupgap\": 0}, \"margin\": {\"t\": 60}, \"template\": {\"data\": {\"bar\": [{\"error_x\": {\"color\": \"#2a3f5f\"}, \"error_y\": {\"color\": \"#2a3f5f\"}, \"marker\": {\"line\": {\"color\": \"#E5ECF6\", \"width\": 0.5}}, \"type\": \"bar\"}], \"barpolar\": [{\"marker\": {\"line\": {\"color\": \"#E5ECF6\", \"width\": 0.5}}, \"type\": \"barpolar\"}], \"carpet\": [{\"aaxis\": {\"endlinecolor\": \"#2a3f5f\", \"gridcolor\": \"white\", \"linecolor\": \"white\", \"minorgridcolor\": \"white\", \"startlinecolor\": \"#2a3f5f\"}, \"baxis\": {\"endlinecolor\": \"#2a3f5f\", \"gridcolor\": \"white\", \"linecolor\": \"white\", \"minorgridcolor\": \"white\", \"startlinecolor\": \"#2a3f5f\"}, \"type\": \"carpet\"}], \"choropleth\": [{\"colorbar\": {\"outlinewidth\": 0, \"ticks\": \"\"}, \"type\": \"choropleth\"}], \"contour\": [{\"colorbar\": {\"outlinewidth\": 0, \"ticks\": \"\"}, \"colorscale\": [[0.0, \"#0d0887\"], [0.1111111111111111, \"#46039f\"], [0.2222222222222222, \"#7201a8\"], [0.3333333333333333, \"#9c179e\"], [0.4444444444444444, \"#bd3786\"], [0.5555555555555556, \"#d8576b\"], [0.6666666666666666, \"#ed7953\"], [0.7777777777777778, \"#fb9f3a\"], [0.8888888888888888, \"#fdca26\"], [1.0, \"#f0f921\"]], \"type\": \"contour\"}], \"contourcarpet\": [{\"colorbar\": {\"outlinewidth\": 0, \"ticks\": \"\"}, \"type\": \"contourcarpet\"}], \"heatmap\": [{\"colorbar\": {\"outlinewidth\": 0, \"ticks\": \"\"}, \"colorscale\": [[0.0, \"#0d0887\"], [0.1111111111111111, \"#46039f\"], [0.2222222222222222, \"#7201a8\"], [0.3333333333333333, \"#9c179e\"], [0.4444444444444444, \"#bd3786\"], [0.5555555555555556, \"#d8576b\"], [0.6666666666666666, \"#ed7953\"], [0.7777777777777778, \"#fb9f3a\"], [0.8888888888888888, \"#fdca26\"], [1.0, \"#f0f921\"]], \"type\": \"heatmap\"}], \"heatmapgl\": [{\"colorbar\": {\"outlinewidth\": 0, \"ticks\": \"\"}, \"colorscale\": [[0.0, \"#0d0887\"], [0.1111111111111111, \"#46039f\"], [0.2222222222222222, \"#7201a8\"], [0.3333333333333333, \"#9c179e\"], [0.4444444444444444, \"#bd3786\"], [0.5555555555555556, \"#d8576b\"], [0.6666666666666666, \"#ed7953\"], [0.7777777777777778, \"#fb9f3a\"], [0.8888888888888888, \"#fdca26\"], [1.0, \"#f0f921\"]], \"type\": \"heatmapgl\"}], \"histogram\": [{\"marker\": {\"colorbar\": {\"outlinewidth\": 0, \"ticks\": \"\"}}, \"type\": \"histogram\"}], \"histogram2d\": [{\"colorbar\": {\"outlinewidth\": 0, \"ticks\": \"\"}, \"colorscale\": [[0.0, \"#0d0887\"], [0.1111111111111111, \"#46039f\"], [0.2222222222222222, \"#7201a8\"], [0.3333333333333333, \"#9c179e\"], [0.4444444444444444, \"#bd3786\"], [0.5555555555555556, \"#d8576b\"], [0.6666666666666666, \"#ed7953\"], [0.7777777777777778, \"#fb9f3a\"], [0.8888888888888888, \"#fdca26\"], [1.0, \"#f0f921\"]], \"type\": \"histogram2d\"}], \"histogram2dcontour\": [{\"colorbar\": {\"outlinewidth\": 0, \"ticks\": \"\"}, \"colorscale\": [[0.0, \"#0d0887\"], [0.1111111111111111, \"#46039f\"], [0.2222222222222222, \"#7201a8\"], [0.3333333333333333, \"#9c179e\"], [0.4444444444444444, \"#bd3786\"], [0.5555555555555556, \"#d8576b\"], [0.6666666666666666, \"#ed7953\"], [0.7777777777777778, \"#fb9f3a\"], [0.8888888888888888, \"#fdca26\"], [1.0, \"#f0f921\"]], \"type\": \"histogram2dcontour\"}], \"mesh3d\": [{\"colorbar\": {\"outlinewidth\": 0, \"ticks\": \"\"}, \"type\": \"mesh3d\"}], \"parcoords\": [{\"line\": {\"colorbar\": {\"outlinewidth\": 0, \"ticks\": \"\"}}, \"type\": \"parcoords\"}], \"pie\": [{\"automargin\": true, \"type\": \"pie\"}], \"scatter\": [{\"marker\": {\"colorbar\": {\"outlinewidth\": 0, \"ticks\": \"\"}}, \"type\": \"scatter\"}], \"scatter3d\": [{\"line\": {\"colorbar\": {\"outlinewidth\": 0, \"ticks\": \"\"}}, \"marker\": {\"colorbar\": {\"outlinewidth\": 0, \"ticks\": \"\"}}, \"type\": \"scatter3d\"}], \"scattercarpet\": [{\"marker\": {\"colorbar\": {\"outlinewidth\": 0, \"ticks\": \"\"}}, \"type\": \"scattercarpet\"}], \"scattergeo\": [{\"marker\": {\"colorbar\": {\"outlinewidth\": 0, \"ticks\": \"\"}}, \"type\": \"scattergeo\"}], \"scattergl\": [{\"marker\": {\"colorbar\": {\"outlinewidth\": 0, \"ticks\": \"\"}}, \"type\": \"scattergl\"}], \"scattermapbox\": [{\"marker\": {\"colorbar\": {\"outlinewidth\": 0, \"ticks\": \"\"}}, \"type\": \"scattermapbox\"}], \"scatterpolar\": [{\"marker\": {\"colorbar\": {\"outlinewidth\": 0, \"ticks\": \"\"}}, \"type\": \"scatterpolar\"}], \"scatterpolargl\": [{\"marker\": {\"colorbar\": {\"outlinewidth\": 0, \"ticks\": \"\"}}, \"type\": \"scatterpolargl\"}], \"scatterternary\": [{\"marker\": {\"colorbar\": {\"outlinewidth\": 0, \"ticks\": \"\"}}, \"type\": \"scatterternary\"}], \"surface\": [{\"colorbar\": {\"outlinewidth\": 0, \"ticks\": \"\"}, \"colorscale\": [[0.0, \"#0d0887\"], [0.1111111111111111, \"#46039f\"], [0.2222222222222222, \"#7201a8\"], [0.3333333333333333, \"#9c179e\"], [0.4444444444444444, \"#bd3786\"], [0.5555555555555556, \"#d8576b\"], [0.6666666666666666, \"#ed7953\"], [0.7777777777777778, \"#fb9f3a\"], [0.8888888888888888, \"#fdca26\"], [1.0, \"#f0f921\"]], \"type\": \"surface\"}], \"table\": [{\"cells\": {\"fill\": {\"color\": \"#EBF0F8\"}, \"line\": {\"color\": \"white\"}}, \"header\": {\"fill\": {\"color\": \"#C8D4E3\"}, \"line\": {\"color\": \"white\"}}, \"type\": \"table\"}]}, \"layout\": {\"annotationdefaults\": {\"arrowcolor\": \"#2a3f5f\", \"arrowhead\": 0, \"arrowwidth\": 1}, \"coloraxis\": {\"colorbar\": {\"outlinewidth\": 0, \"ticks\": \"\"}}, \"colorscale\": {\"diverging\": [[0, \"#8e0152\"], [0.1, \"#c51b7d\"], [0.2, \"#de77ae\"], [0.3, \"#f1b6da\"], [0.4, \"#fde0ef\"], [0.5, \"#f7f7f7\"], [0.6, \"#e6f5d0\"], [0.7, \"#b8e186\"], [0.8, \"#7fbc41\"], [0.9, \"#4d9221\"], [1, \"#276419\"]], \"sequential\": [[0.0, \"#0d0887\"], [0.1111111111111111, \"#46039f\"], [0.2222222222222222, \"#7201a8\"], [0.3333333333333333, \"#9c179e\"], [0.4444444444444444, \"#bd3786\"], [0.5555555555555556, \"#d8576b\"], [0.6666666666666666, \"#ed7953\"], [0.7777777777777778, \"#fb9f3a\"], [0.8888888888888888, \"#fdca26\"], [1.0, \"#f0f921\"]], \"sequentialminus\": [[0.0, \"#0d0887\"], [0.1111111111111111, \"#46039f\"], [0.2222222222222222, \"#7201a8\"], [0.3333333333333333, \"#9c179e\"], [0.4444444444444444, \"#bd3786\"], [0.5555555555555556, \"#d8576b\"], [0.6666666666666666, \"#ed7953\"], [0.7777777777777778, \"#fb9f3a\"], [0.8888888888888888, \"#fdca26\"], [1.0, \"#f0f921\"]]}, \"colorway\": [\"#636efa\", \"#EF553B\", \"#00cc96\", \"#ab63fa\", \"#FFA15A\", \"#19d3f3\", \"#FF6692\", \"#B6E880\", \"#FF97FF\", \"#FECB52\"], \"font\": {\"color\": \"#2a3f5f\"}, \"geo\": {\"bgcolor\": \"white\", \"lakecolor\": \"white\", \"landcolor\": \"#E5ECF6\", \"showlakes\": true, \"showland\": true, \"subunitcolor\": \"white\"}, \"hoverlabel\": {\"align\": \"left\"}, \"hovermode\": \"closest\", \"mapbox\": {\"style\": \"light\"}, \"paper_bgcolor\": \"white\", \"plot_bgcolor\": \"#E5ECF6\", \"polar\": {\"angularaxis\": {\"gridcolor\": \"white\", \"linecolor\": \"white\", \"ticks\": \"\"}, \"bgcolor\": \"#E5ECF6\", \"radialaxis\": {\"gridcolor\": \"white\", \"linecolor\": \"white\", \"ticks\": \"\"}}, \"scene\": {\"xaxis\": {\"backgroundcolor\": \"#E5ECF6\", \"gridcolor\": \"white\", \"gridwidth\": 2, \"linecolor\": \"white\", \"showbackground\": true, \"ticks\": \"\", \"zerolinecolor\": \"white\"}, \"yaxis\": {\"backgroundcolor\": \"#E5ECF6\", \"gridcolor\": \"white\", \"gridwidth\": 2, \"linecolor\": \"white\", \"showbackground\": true, \"ticks\": \"\", \"zerolinecolor\": \"white\"}, \"zaxis\": {\"backgroundcolor\": \"#E5ECF6\", \"gridcolor\": \"white\", \"gridwidth\": 2, \"linecolor\": \"white\", \"showbackground\": true, \"ticks\": \"\", \"zerolinecolor\": \"white\"}}, \"shapedefaults\": {\"line\": {\"color\": \"#2a3f5f\"}}, \"ternary\": {\"aaxis\": {\"gridcolor\": \"white\", \"linecolor\": \"white\", \"ticks\": \"\"}, \"baxis\": {\"gridcolor\": \"white\", \"linecolor\": \"white\", \"ticks\": \"\"}, \"bgcolor\": \"#E5ECF6\", \"caxis\": {\"gridcolor\": \"white\", \"linecolor\": \"white\", \"ticks\": \"\"}}, \"title\": {\"x\": 0.05}, \"xaxis\": {\"automargin\": true, \"gridcolor\": \"white\", \"linecolor\": \"white\", \"ticks\": \"\", \"title\": {\"standoff\": 15}, \"zerolinecolor\": \"white\", \"zerolinewidth\": 2}, \"yaxis\": {\"automargin\": true, \"gridcolor\": \"white\", \"linecolor\": \"white\", \"ticks\": \"\", \"title\": {\"standoff\": 15}, \"zerolinecolor\": \"white\", \"zerolinewidth\": 2}}}, \"title\": {\"text\": \"Network Connector Score by User\"}, \"xaxis\": {\"anchor\": \"y\", \"domain\": [0.0, 1.0], \"title\": {\"text\": \"ncs\"}, \"type\": \"log\"}, \"yaxis\": {\"anchor\": \"x\", \"domain\": [0.0, 1.0], \"showticklabels\": false, \"title\": {\"text\": \"address\"}}},\n",
       "                        {\"responsive\": true}\n",
       "                    ).then(function(){\n",
       "                            \n",
       "var gd = document.getElementById('5089b55f-c07b-45ab-9983-86b3c8083e5d');\n",
       "var x = new MutationObserver(function (mutations, observer) {{\n",
       "        var display = window.getComputedStyle(gd).display;\n",
       "        if (!display || display === 'none') {{\n",
       "            console.log([gd, 'removed!']);\n",
       "            Plotly.purge(gd);\n",
       "            observer.disconnect();\n",
       "        }}\n",
       "}});\n",
       "\n",
       "// Listen for the removal of the full notebook cells\n",
       "var notebookContainer = gd.closest('#notebook-container');\n",
       "if (notebookContainer) {{\n",
       "    x.observe(notebookContainer, {childList: true});\n",
       "}}\n",
       "\n",
       "// Listen for the clearing of the current output cell\n",
       "var outputEl = gd.closest('.output');\n",
       "if (outputEl) {{\n",
       "    x.observe(outputEl, {childList: true});\n",
       "}}\n",
       "\n",
       "                        })\n",
       "                };\n",
       "                });\n",
       "            </script>\n",
       "        </div>"
      ]
     },
     "metadata": {},
     "output_type": "display_data"
    }
   ],
   "source": [
    "fig = px.scatter(df, x=\"ncs\", y=\"address\",\n",
    "        size=\"ncs\", color=\"gender\",\n",
    "                 hover_name=\"Department\", log_x=True, size_max=60)\n",
    "fig.update_layout(title_text='Network Connector Score by User',autosize=True,)\n",
    "fig.update_yaxes(showticklabels=False)\n",
    "fig.show()"
   ]
  },
  {
   "cell_type": "code",
   "execution_count": 96,
   "metadata": {},
   "outputs": [],
   "source": [
    "#filter by NCS\n",
    "df2 = df[df['ncs'] > 50]  "
   ]
  },
  {
   "cell_type": "code",
   "execution_count": 97,
   "metadata": {},
   "outputs": [],
   "source": [
    "#filter by Female Hipo and Influences\n",
    "femaledf = df.query('gender == \"female\" and Hipo == \"yes\" and Influencers ==\"Y\"')"
   ]
  },
  {
   "cell_type": "code",
   "execution_count": 98,
   "metadata": {},
   "outputs": [
    {
     "data": {
      "text/html": [
       "<div>\n",
       "<style scoped>\n",
       "    .dataframe tbody tr th:only-of-type {\n",
       "        vertical-align: middle;\n",
       "    }\n",
       "\n",
       "    .dataframe tbody tr th {\n",
       "        vertical-align: top;\n",
       "    }\n",
       "\n",
       "    .dataframe thead th {\n",
       "        text-align: right;\n",
       "    }\n",
       "</style>\n",
       "<table border=\"1\" class=\"dataframe\">\n",
       "  <thead>\n",
       "    <tr style=\"text-align: right;\">\n",
       "      <th></th>\n",
       "      <th>address</th>\n",
       "      <th>Department</th>\n",
       "      <th>Level</th>\n",
       "      <th>Location</th>\n",
       "      <th>gender</th>\n",
       "      <th>Tenure</th>\n",
       "      <th>Influencers</th>\n",
       "      <th>Hipo</th>\n",
       "      <th>totrels</th>\n",
       "      <th>strrels</th>\n",
       "      <th>medrels</th>\n",
       "      <th>totactive</th>\n",
       "      <th>stractive</th>\n",
       "      <th>medactive</th>\n",
       "      <th>percactive</th>\n",
       "      <th>unique</th>\n",
       "      <th>nas</th>\n",
       "      <th>nis</th>\n",
       "      <th>ncs</th>\n",
       "    </tr>\n",
       "  </thead>\n",
       "  <tbody>\n",
       "    <tr>\n",
       "      <th>0</th>\n",
       "      <td>122</td>\n",
       "      <td>TalentDevelopmentandLearning</td>\n",
       "      <td>1</td>\n",
       "      <td>Gurugram</td>\n",
       "      <td>female</td>\n",
       "      <td>4</td>\n",
       "      <td>Y</td>\n",
       "      <td>yes</td>\n",
       "      <td>95</td>\n",
       "      <td>25</td>\n",
       "      <td>70</td>\n",
       "      <td>71</td>\n",
       "      <td>24</td>\n",
       "      <td>47</td>\n",
       "      <td>75</td>\n",
       "      <td>1</td>\n",
       "      <td>82</td>\n",
       "      <td>30</td>\n",
       "      <td>100</td>\n",
       "    </tr>\n",
       "    <tr>\n",
       "      <th>8</th>\n",
       "      <td>61</td>\n",
       "      <td>HR</td>\n",
       "      <td>1</td>\n",
       "      <td>Gurugram</td>\n",
       "      <td>female</td>\n",
       "      <td>15</td>\n",
       "      <td>Y</td>\n",
       "      <td>yes</td>\n",
       "      <td>52</td>\n",
       "      <td>21</td>\n",
       "      <td>31</td>\n",
       "      <td>38</td>\n",
       "      <td>20</td>\n",
       "      <td>18</td>\n",
       "      <td>74</td>\n",
       "      <td></td>\n",
       "      <td>47</td>\n",
       "      <td>19</td>\n",
       "      <td>58</td>\n",
       "    </tr>\n",
       "    <tr>\n",
       "      <th>21</th>\n",
       "      <td>91</td>\n",
       "      <td>OrganizationAnalytics</td>\n",
       "      <td>1</td>\n",
       "      <td>Gurugram</td>\n",
       "      <td>female</td>\n",
       "      <td>15</td>\n",
       "      <td>Y</td>\n",
       "      <td>yes</td>\n",
       "      <td>56</td>\n",
       "      <td>14</td>\n",
       "      <td>42</td>\n",
       "      <td>47</td>\n",
       "      <td>14</td>\n",
       "      <td>33</td>\n",
       "      <td>84</td>\n",
       "      <td></td>\n",
       "      <td>38</td>\n",
       "      <td>20</td>\n",
       "      <td>63</td>\n",
       "    </tr>\n",
       "    <tr>\n",
       "      <th>40</th>\n",
       "      <td>154</td>\n",
       "      <td>TalentDevelopmentandLearning</td>\n",
       "      <td>3</td>\n",
       "      <td>Mumbai</td>\n",
       "      <td>female</td>\n",
       "      <td>2</td>\n",
       "      <td>Y</td>\n",
       "      <td>yes</td>\n",
       "      <td>25</td>\n",
       "      <td>8</td>\n",
       "      <td>17</td>\n",
       "      <td>13</td>\n",
       "      <td>6</td>\n",
       "      <td>7</td>\n",
       "      <td>52</td>\n",
       "      <td></td>\n",
       "      <td>29</td>\n",
       "      <td>6</td>\n",
       "      <td>41</td>\n",
       "    </tr>\n",
       "    <tr>\n",
       "      <th>50</th>\n",
       "      <td>57</td>\n",
       "      <td>OrganizationChange</td>\n",
       "      <td>3</td>\n",
       "      <td>Bengaluru</td>\n",
       "      <td>female</td>\n",
       "      <td>4</td>\n",
       "      <td>Y</td>\n",
       "      <td>yes</td>\n",
       "      <td>33</td>\n",
       "      <td>11</td>\n",
       "      <td>22</td>\n",
       "      <td>29</td>\n",
       "      <td>11</td>\n",
       "      <td>18</td>\n",
       "      <td>88</td>\n",
       "      <td></td>\n",
       "      <td>27</td>\n",
       "      <td>13</td>\n",
       "      <td>39</td>\n",
       "    </tr>\n",
       "    <tr>\n",
       "      <th>75</th>\n",
       "      <td>169</td>\n",
       "      <td>OrganizationChange</td>\n",
       "      <td>3</td>\n",
       "      <td>Gurugram</td>\n",
       "      <td>female</td>\n",
       "      <td>2</td>\n",
       "      <td>Y</td>\n",
       "      <td>yes</td>\n",
       "      <td>37</td>\n",
       "      <td>3</td>\n",
       "      <td>34</td>\n",
       "      <td>35</td>\n",
       "      <td>3</td>\n",
       "      <td>32</td>\n",
       "      <td>95</td>\n",
       "      <td></td>\n",
       "      <td>22</td>\n",
       "      <td>10</td>\n",
       "      <td>37</td>\n",
       "    </tr>\n",
       "    <tr>\n",
       "      <th>81</th>\n",
       "      <td>115</td>\n",
       "      <td>TalentDevelopmentandLearning</td>\n",
       "      <td>2</td>\n",
       "      <td>Mumbai</td>\n",
       "      <td>female</td>\n",
       "      <td>7</td>\n",
       "      <td>Y</td>\n",
       "      <td>yes</td>\n",
       "      <td>30</td>\n",
       "      <td>6</td>\n",
       "      <td>24</td>\n",
       "      <td>22</td>\n",
       "      <td>6</td>\n",
       "      <td>16</td>\n",
       "      <td>74</td>\n",
       "      <td></td>\n",
       "      <td>20</td>\n",
       "      <td>9</td>\n",
       "      <td>33</td>\n",
       "    </tr>\n",
       "    <tr>\n",
       "      <th>86</th>\n",
       "      <td>94</td>\n",
       "      <td>TalentDevelopmentandLearning</td>\n",
       "      <td>3</td>\n",
       "      <td>Pune</td>\n",
       "      <td>female</td>\n",
       "      <td>2</td>\n",
       "      <td>Y</td>\n",
       "      <td>yes</td>\n",
       "      <td>19</td>\n",
       "      <td>4</td>\n",
       "      <td>15</td>\n",
       "      <td>13</td>\n",
       "      <td>3</td>\n",
       "      <td>10</td>\n",
       "      <td>69</td>\n",
       "      <td></td>\n",
       "      <td>19</td>\n",
       "      <td>5</td>\n",
       "      <td>16</td>\n",
       "    </tr>\n",
       "    <tr>\n",
       "      <th>94</th>\n",
       "      <td>146</td>\n",
       "      <td>TalentDevelopmentandLearning</td>\n",
       "      <td>4</td>\n",
       "      <td>Pune</td>\n",
       "      <td>female</td>\n",
       "      <td>2</td>\n",
       "      <td>Y</td>\n",
       "      <td>yes</td>\n",
       "      <td>17</td>\n",
       "      <td>4</td>\n",
       "      <td>13</td>\n",
       "      <td>12</td>\n",
       "      <td>3</td>\n",
       "      <td>9</td>\n",
       "      <td>71</td>\n",
       "      <td></td>\n",
       "      <td>19</td>\n",
       "      <td>5</td>\n",
       "      <td>10</td>\n",
       "    </tr>\n",
       "    <tr>\n",
       "      <th>168</th>\n",
       "      <td>234</td>\n",
       "      <td>TalentDevelopmentandLearning</td>\n",
       "      <td>4</td>\n",
       "      <td>Bengaluru</td>\n",
       "      <td>female</td>\n",
       "      <td>4</td>\n",
       "      <td>Y</td>\n",
       "      <td>yes</td>\n",
       "      <td>17</td>\n",
       "      <td>4</td>\n",
       "      <td>13</td>\n",
       "      <td>9</td>\n",
       "      <td>4</td>\n",
       "      <td>5</td>\n",
       "      <td>53</td>\n",
       "      <td></td>\n",
       "      <td>13</td>\n",
       "      <td>4</td>\n",
       "      <td>20</td>\n",
       "    </tr>\n",
       "    <tr>\n",
       "      <th>180</th>\n",
       "      <td>272</td>\n",
       "      <td>HR</td>\n",
       "      <td>3</td>\n",
       "      <td>Bengaluru</td>\n",
       "      <td>female</td>\n",
       "      <td>4</td>\n",
       "      <td>Y</td>\n",
       "      <td>yes</td>\n",
       "      <td>13</td>\n",
       "      <td>3</td>\n",
       "      <td>10</td>\n",
       "      <td>13</td>\n",
       "      <td>3</td>\n",
       "      <td>10</td>\n",
       "      <td>100</td>\n",
       "      <td></td>\n",
       "      <td>13</td>\n",
       "      <td>5</td>\n",
       "      <td>8</td>\n",
       "    </tr>\n",
       "    <tr>\n",
       "      <th>183</th>\n",
       "      <td>118</td>\n",
       "      <td>TalentDevelopmentandLearning</td>\n",
       "      <td>4</td>\n",
       "      <td>Gurugram</td>\n",
       "      <td>female</td>\n",
       "      <td>2</td>\n",
       "      <td>Y</td>\n",
       "      <td>yes</td>\n",
       "      <td>8</td>\n",
       "      <td>5</td>\n",
       "      <td>3</td>\n",
       "      <td>6</td>\n",
       "      <td>5</td>\n",
       "      <td>1</td>\n",
       "      <td>75</td>\n",
       "      <td></td>\n",
       "      <td>12</td>\n",
       "      <td>4</td>\n",
       "      <td>5</td>\n",
       "    </tr>\n",
       "    <tr>\n",
       "      <th>203</th>\n",
       "      <td>283</td>\n",
       "      <td>HR</td>\n",
       "      <td>2</td>\n",
       "      <td>Mumbai</td>\n",
       "      <td>female</td>\n",
       "      <td>2</td>\n",
       "      <td>Y</td>\n",
       "      <td>yes</td>\n",
       "      <td>19</td>\n",
       "      <td>1</td>\n",
       "      <td>18</td>\n",
       "      <td>13</td>\n",
       "      <td>1</td>\n",
       "      <td>12</td>\n",
       "      <td>69</td>\n",
       "      <td></td>\n",
       "      <td>11</td>\n",
       "      <td>4</td>\n",
       "      <td>9</td>\n",
       "    </tr>\n",
       "    <tr>\n",
       "      <th>216</th>\n",
       "      <td>157</td>\n",
       "      <td>TalentDevelopmentandLearning</td>\n",
       "      <td>4</td>\n",
       "      <td>Gurugram</td>\n",
       "      <td>female</td>\n",
       "      <td>2</td>\n",
       "      <td>Y</td>\n",
       "      <td>yes</td>\n",
       "      <td>9</td>\n",
       "      <td>4</td>\n",
       "      <td>5</td>\n",
       "      <td>5</td>\n",
       "      <td>4</td>\n",
       "      <td>1</td>\n",
       "      <td>56</td>\n",
       "      <td></td>\n",
       "      <td>10</td>\n",
       "      <td>3</td>\n",
       "      <td>14</td>\n",
       "    </tr>\n",
       "    <tr>\n",
       "      <th>248</th>\n",
       "      <td>248</td>\n",
       "      <td>HR</td>\n",
       "      <td>2</td>\n",
       "      <td>Gurugram</td>\n",
       "      <td>female</td>\n",
       "      <td>7</td>\n",
       "      <td>Y</td>\n",
       "      <td>yes</td>\n",
       "      <td>8</td>\n",
       "      <td>0</td>\n",
       "      <td>8</td>\n",
       "      <td>4</td>\n",
       "      <td>0</td>\n",
       "      <td>4</td>\n",
       "      <td>50</td>\n",
       "      <td></td>\n",
       "      <td>6</td>\n",
       "      <td>0</td>\n",
       "      <td>6</td>\n",
       "    </tr>\n",
       "    <tr>\n",
       "      <th>249</th>\n",
       "      <td>137</td>\n",
       "      <td>TalentDevelopmentandLearning</td>\n",
       "      <td>4</td>\n",
       "      <td>Bengaluru</td>\n",
       "      <td>female</td>\n",
       "      <td>1</td>\n",
       "      <td>Y</td>\n",
       "      <td>yes</td>\n",
       "      <td>13</td>\n",
       "      <td>0</td>\n",
       "      <td>13</td>\n",
       "      <td>5</td>\n",
       "      <td>0</td>\n",
       "      <td>5</td>\n",
       "      <td>39</td>\n",
       "      <td></td>\n",
       "      <td>6</td>\n",
       "      <td>0</td>\n",
       "      <td>12</td>\n",
       "    </tr>\n",
       "    <tr>\n",
       "      <th>280</th>\n",
       "      <td>252</td>\n",
       "      <td>TalentDevelopmentandLearning</td>\n",
       "      <td>1</td>\n",
       "      <td>Gurugram</td>\n",
       "      <td>female</td>\n",
       "      <td>15</td>\n",
       "      <td>Y</td>\n",
       "      <td>yes</td>\n",
       "      <td>0</td>\n",
       "      <td>0</td>\n",
       "      <td>0</td>\n",
       "      <td>0</td>\n",
       "      <td>0</td>\n",
       "      <td>0</td>\n",
       "      <td>0</td>\n",
       "      <td></td>\n",
       "      <td>0</td>\n",
       "      <td>0</td>\n",
       "      <td>0</td>\n",
       "    </tr>\n",
       "  </tbody>\n",
       "</table>\n",
       "</div>"
      ],
      "text/plain": [
       "     address                    Department  Level   Location  gender  Tenure  \\\n",
       "0        122  TalentDevelopmentandLearning      1   Gurugram  female       4   \n",
       "8         61                            HR      1   Gurugram  female      15   \n",
       "21        91         OrganizationAnalytics      1   Gurugram  female      15   \n",
       "40       154  TalentDevelopmentandLearning      3     Mumbai  female       2   \n",
       "50        57            OrganizationChange      3  Bengaluru  female       4   \n",
       "75       169            OrganizationChange      3   Gurugram  female       2   \n",
       "81       115  TalentDevelopmentandLearning      2     Mumbai  female       7   \n",
       "86        94  TalentDevelopmentandLearning      3       Pune  female       2   \n",
       "94       146  TalentDevelopmentandLearning      4       Pune  female       2   \n",
       "168      234  TalentDevelopmentandLearning      4  Bengaluru  female       4   \n",
       "180      272                            HR      3  Bengaluru  female       4   \n",
       "183      118  TalentDevelopmentandLearning      4   Gurugram  female       2   \n",
       "203      283                            HR      2     Mumbai  female       2   \n",
       "216      157  TalentDevelopmentandLearning      4   Gurugram  female       2   \n",
       "248      248                            HR      2   Gurugram  female       7   \n",
       "249      137  TalentDevelopmentandLearning      4  Bengaluru  female       1   \n",
       "280      252  TalentDevelopmentandLearning      1   Gurugram  female      15   \n",
       "\n",
       "    Influencers Hipo  totrels  strrels  medrels  totactive  stractive  \\\n",
       "0             Y  yes       95       25       70         71         24   \n",
       "8             Y  yes       52       21       31         38         20   \n",
       "21            Y  yes       56       14       42         47         14   \n",
       "40            Y  yes       25        8       17         13          6   \n",
       "50            Y  yes       33       11       22         29         11   \n",
       "75            Y  yes       37        3       34         35          3   \n",
       "81            Y  yes       30        6       24         22          6   \n",
       "86            Y  yes       19        4       15         13          3   \n",
       "94            Y  yes       17        4       13         12          3   \n",
       "168           Y  yes       17        4       13          9          4   \n",
       "180           Y  yes       13        3       10         13          3   \n",
       "183           Y  yes        8        5        3          6          5   \n",
       "203           Y  yes       19        1       18         13          1   \n",
       "216           Y  yes        9        4        5          5          4   \n",
       "248           Y  yes        8        0        8          4          0   \n",
       "249           Y  yes       13        0       13          5          0   \n",
       "280           Y  yes        0        0        0          0          0   \n",
       "\n",
       "     medactive  percactive unique  nas  nis  ncs  \n",
       "0           47          75      1   82   30  100  \n",
       "8           18          74          47   19   58  \n",
       "21          33          84          38   20   63  \n",
       "40           7          52          29    6   41  \n",
       "50          18          88          27   13   39  \n",
       "75          32          95          22   10   37  \n",
       "81          16          74          20    9   33  \n",
       "86          10          69          19    5   16  \n",
       "94           9          71          19    5   10  \n",
       "168          5          53          13    4   20  \n",
       "180         10         100          13    5    8  \n",
       "183          1          75          12    4    5  \n",
       "203         12          69          11    4    9  \n",
       "216          1          56          10    3   14  \n",
       "248          4          50           6    0    6  \n",
       "249          5          39           6    0   12  \n",
       "280          0           0           0    0    0  "
      ]
     },
     "execution_count": 98,
     "metadata": {},
     "output_type": "execute_result"
    }
   ],
   "source": [
    "femaledf"
   ]
  },
  {
   "cell_type": "code",
   "execution_count": 99,
   "metadata": {},
   "outputs": [],
   "source": [
    "#Filter by Male Hippo and Influences\n",
    "maledf = df.query('gender == \"male\" and Hipo == \"yes\" and Influencers ==\"Y\"')"
   ]
  },
  {
   "cell_type": "code",
   "execution_count": 100,
   "metadata": {},
   "outputs": [
    {
     "data": {
      "text/html": [
       "<div>\n",
       "<style scoped>\n",
       "    .dataframe tbody tr th:only-of-type {\n",
       "        vertical-align: middle;\n",
       "    }\n",
       "\n",
       "    .dataframe tbody tr th {\n",
       "        vertical-align: top;\n",
       "    }\n",
       "\n",
       "    .dataframe thead th {\n",
       "        text-align: right;\n",
       "    }\n",
       "</style>\n",
       "<table border=\"1\" class=\"dataframe\">\n",
       "  <thead>\n",
       "    <tr style=\"text-align: right;\">\n",
       "      <th></th>\n",
       "      <th>address</th>\n",
       "      <th>Department</th>\n",
       "      <th>Level</th>\n",
       "      <th>Location</th>\n",
       "      <th>gender</th>\n",
       "      <th>Tenure</th>\n",
       "      <th>Influencers</th>\n",
       "      <th>Hipo</th>\n",
       "      <th>totrels</th>\n",
       "      <th>strrels</th>\n",
       "      <th>medrels</th>\n",
       "      <th>totactive</th>\n",
       "      <th>stractive</th>\n",
       "      <th>medactive</th>\n",
       "      <th>percactive</th>\n",
       "      <th>unique</th>\n",
       "      <th>nas</th>\n",
       "      <th>nis</th>\n",
       "      <th>ncs</th>\n",
       "    </tr>\n",
       "  </thead>\n",
       "  <tbody>\n",
       "    <tr>\n",
       "      <th>3</th>\n",
       "      <td>287</td>\n",
       "      <td>TalentDevelopmentandLearning</td>\n",
       "      <td>2</td>\n",
       "      <td>Bengaluru</td>\n",
       "      <td>male</td>\n",
       "      <td>15</td>\n",
       "      <td>Y</td>\n",
       "      <td>yes</td>\n",
       "      <td>75</td>\n",
       "      <td>23</td>\n",
       "      <td>52</td>\n",
       "      <td>61</td>\n",
       "      <td>23</td>\n",
       "      <td>38</td>\n",
       "      <td>82</td>\n",
       "      <td></td>\n",
       "      <td>53</td>\n",
       "      <td>27</td>\n",
       "      <td>86</td>\n",
       "    </tr>\n",
       "    <tr>\n",
       "      <th>9</th>\n",
       "      <td>166</td>\n",
       "      <td>OrganizationChange</td>\n",
       "      <td>1</td>\n",
       "      <td>Gurugram</td>\n",
       "      <td>male</td>\n",
       "      <td>7</td>\n",
       "      <td>Y</td>\n",
       "      <td>yes</td>\n",
       "      <td>57</td>\n",
       "      <td>21</td>\n",
       "      <td>36</td>\n",
       "      <td>47</td>\n",
       "      <td>21</td>\n",
       "      <td>26</td>\n",
       "      <td>83</td>\n",
       "      <td></td>\n",
       "      <td>45</td>\n",
       "      <td>23</td>\n",
       "      <td>74</td>\n",
       "    </tr>\n",
       "    <tr>\n",
       "      <th>207</th>\n",
       "      <td>241</td>\n",
       "      <td>TalentDevelopmentandLearning</td>\n",
       "      <td>4</td>\n",
       "      <td>Bengaluru</td>\n",
       "      <td>male</td>\n",
       "      <td>2</td>\n",
       "      <td>Y</td>\n",
       "      <td>yes</td>\n",
       "      <td>15</td>\n",
       "      <td>1</td>\n",
       "      <td>14</td>\n",
       "      <td>10</td>\n",
       "      <td>1</td>\n",
       "      <td>9</td>\n",
       "      <td>67</td>\n",
       "      <td></td>\n",
       "      <td>10</td>\n",
       "      <td>3</td>\n",
       "      <td>8</td>\n",
       "    </tr>\n",
       "    <tr>\n",
       "      <th>225</th>\n",
       "      <td>53</td>\n",
       "      <td>TalentDevelopmentandLearning</td>\n",
       "      <td>3</td>\n",
       "      <td>Gurugram</td>\n",
       "      <td>male</td>\n",
       "      <td>2</td>\n",
       "      <td>Y</td>\n",
       "      <td>yes</td>\n",
       "      <td>15</td>\n",
       "      <td>1</td>\n",
       "      <td>14</td>\n",
       "      <td>8</td>\n",
       "      <td>1</td>\n",
       "      <td>7</td>\n",
       "      <td>54</td>\n",
       "      <td></td>\n",
       "      <td>9</td>\n",
       "      <td>2</td>\n",
       "      <td>12</td>\n",
       "    </tr>\n",
       "    <tr>\n",
       "      <th>261</th>\n",
       "      <td>96</td>\n",
       "      <td>TalentDevelopmentandLearning</td>\n",
       "      <td>4</td>\n",
       "      <td>Bengaluru</td>\n",
       "      <td>male</td>\n",
       "      <td>4</td>\n",
       "      <td>Y</td>\n",
       "      <td>yes</td>\n",
       "      <td>5</td>\n",
       "      <td>1</td>\n",
       "      <td>4</td>\n",
       "      <td>2</td>\n",
       "      <td>1</td>\n",
       "      <td>1</td>\n",
       "      <td>40</td>\n",
       "      <td></td>\n",
       "      <td>5</td>\n",
       "      <td>1</td>\n",
       "      <td>8</td>\n",
       "    </tr>\n",
       "  </tbody>\n",
       "</table>\n",
       "</div>"
      ],
      "text/plain": [
       "     address                    Department  Level   Location gender  Tenure  \\\n",
       "3        287  TalentDevelopmentandLearning      2  Bengaluru   male      15   \n",
       "9        166            OrganizationChange      1   Gurugram   male       7   \n",
       "207      241  TalentDevelopmentandLearning      4  Bengaluru   male       2   \n",
       "225       53  TalentDevelopmentandLearning      3   Gurugram   male       2   \n",
       "261       96  TalentDevelopmentandLearning      4  Bengaluru   male       4   \n",
       "\n",
       "    Influencers Hipo  totrels  strrels  medrels  totactive  stractive  \\\n",
       "3             Y  yes       75       23       52         61         23   \n",
       "9             Y  yes       57       21       36         47         21   \n",
       "207           Y  yes       15        1       14         10          1   \n",
       "225           Y  yes       15        1       14          8          1   \n",
       "261           Y  yes        5        1        4          2          1   \n",
       "\n",
       "     medactive  percactive unique  nas  nis  ncs  \n",
       "3           38          82          53   27   86  \n",
       "9           26          83          45   23   74  \n",
       "207          9          67          10    3    8  \n",
       "225          7          54           9    2   12  \n",
       "261          1          40           5    1    8  "
      ]
     },
     "execution_count": 100,
     "metadata": {},
     "output_type": "execute_result"
    }
   ],
   "source": [
    "maledf"
   ]
  },
  {
   "cell_type": "code",
   "execution_count": 101,
   "metadata": {},
   "outputs": [
    {
     "data": {
      "text/plain": [
       "female    185\n",
       "male       96\n",
       "Name: gender, dtype: int64"
      ]
     },
     "execution_count": 101,
     "metadata": {},
     "output_type": "execute_result"
    }
   ],
   "source": [
    "df['gender'].value_counts()\n"
   ]
  },
  {
   "cell_type": "code",
   "execution_count": 102,
   "metadata": {
    "scrolled": true
   },
   "outputs": [],
   "source": [
    "bplt=np.round(df.pivot_table(index='Department', columns='Level'))"
   ]
  },
  {
   "cell_type": "code",
   "execution_count": 103,
   "metadata": {},
   "outputs": [
    {
     "data": {
      "text/html": [
       "<div>\n",
       "<style scoped>\n",
       "    .dataframe tbody tr th:only-of-type {\n",
       "        vertical-align: middle;\n",
       "    }\n",
       "\n",
       "    .dataframe tbody tr th {\n",
       "        vertical-align: top;\n",
       "    }\n",
       "\n",
       "    .dataframe thead tr th {\n",
       "        text-align: left;\n",
       "    }\n",
       "\n",
       "    .dataframe thead tr:last-of-type th {\n",
       "        text-align: right;\n",
       "    }\n",
       "</style>\n",
       "<table border=\"1\" class=\"dataframe\">\n",
       "  <thead>\n",
       "    <tr>\n",
       "      <th></th>\n",
       "      <th colspan=\"5\" halign=\"left\">Tenure</th>\n",
       "      <th colspan=\"5\" halign=\"left\">address</th>\n",
       "      <th>...</th>\n",
       "      <th colspan=\"5\" halign=\"left\">totactive</th>\n",
       "      <th colspan=\"5\" halign=\"left\">totrels</th>\n",
       "    </tr>\n",
       "    <tr>\n",
       "      <th>Level</th>\n",
       "      <th>1</th>\n",
       "      <th>2</th>\n",
       "      <th>3</th>\n",
       "      <th>4</th>\n",
       "      <th>5</th>\n",
       "      <th>1</th>\n",
       "      <th>2</th>\n",
       "      <th>3</th>\n",
       "      <th>4</th>\n",
       "      <th>5</th>\n",
       "      <th>...</th>\n",
       "      <th>1</th>\n",
       "      <th>2</th>\n",
       "      <th>3</th>\n",
       "      <th>4</th>\n",
       "      <th>5</th>\n",
       "      <th>1</th>\n",
       "      <th>2</th>\n",
       "      <th>3</th>\n",
       "      <th>4</th>\n",
       "      <th>5</th>\n",
       "    </tr>\n",
       "    <tr>\n",
       "      <th>Department</th>\n",
       "      <th></th>\n",
       "      <th></th>\n",
       "      <th></th>\n",
       "      <th></th>\n",
       "      <th></th>\n",
       "      <th></th>\n",
       "      <th></th>\n",
       "      <th></th>\n",
       "      <th></th>\n",
       "      <th></th>\n",
       "      <th></th>\n",
       "      <th></th>\n",
       "      <th></th>\n",
       "      <th></th>\n",
       "      <th></th>\n",
       "      <th></th>\n",
       "      <th></th>\n",
       "      <th></th>\n",
       "      <th></th>\n",
       "      <th></th>\n",
       "      <th></th>\n",
       "    </tr>\n",
       "  </thead>\n",
       "  <tbody>\n",
       "    <tr>\n",
       "      <th>HR</th>\n",
       "      <td>8.0</td>\n",
       "      <td>5.0</td>\n",
       "      <td>3.0</td>\n",
       "      <td>2.0</td>\n",
       "      <td>NaN</td>\n",
       "      <td>41.0</td>\n",
       "      <td>188.0</td>\n",
       "      <td>191.0</td>\n",
       "      <td>70.0</td>\n",
       "      <td>NaN</td>\n",
       "      <td>...</td>\n",
       "      <td>22.0</td>\n",
       "      <td>8.0</td>\n",
       "      <td>13.0</td>\n",
       "      <td>13.0</td>\n",
       "      <td>NaN</td>\n",
       "      <td>31.0</td>\n",
       "      <td>12.0</td>\n",
       "      <td>16.0</td>\n",
       "      <td>15.0</td>\n",
       "      <td>NaN</td>\n",
       "    </tr>\n",
       "    <tr>\n",
       "      <th>OrganizationAnalytics</th>\n",
       "      <td>15.0</td>\n",
       "      <td>4.0</td>\n",
       "      <td>2.0</td>\n",
       "      <td>1.0</td>\n",
       "      <td>NaN</td>\n",
       "      <td>150.0</td>\n",
       "      <td>146.0</td>\n",
       "      <td>114.0</td>\n",
       "      <td>157.0</td>\n",
       "      <td>NaN</td>\n",
       "      <td>...</td>\n",
       "      <td>28.0</td>\n",
       "      <td>18.0</td>\n",
       "      <td>11.0</td>\n",
       "      <td>12.0</td>\n",
       "      <td>NaN</td>\n",
       "      <td>34.0</td>\n",
       "      <td>30.0</td>\n",
       "      <td>13.0</td>\n",
       "      <td>17.0</td>\n",
       "      <td>NaN</td>\n",
       "    </tr>\n",
       "    <tr>\n",
       "      <th>OrganizationChange</th>\n",
       "      <td>9.0</td>\n",
       "      <td>6.0</td>\n",
       "      <td>3.0</td>\n",
       "      <td>2.0</td>\n",
       "      <td>NaN</td>\n",
       "      <td>156.0</td>\n",
       "      <td>128.0</td>\n",
       "      <td>166.0</td>\n",
       "      <td>148.0</td>\n",
       "      <td>NaN</td>\n",
       "      <td>...</td>\n",
       "      <td>37.0</td>\n",
       "      <td>24.0</td>\n",
       "      <td>21.0</td>\n",
       "      <td>14.0</td>\n",
       "      <td>NaN</td>\n",
       "      <td>50.0</td>\n",
       "      <td>29.0</td>\n",
       "      <td>26.0</td>\n",
       "      <td>18.0</td>\n",
       "      <td>NaN</td>\n",
       "    </tr>\n",
       "    <tr>\n",
       "      <th>TalentDevelopmentandLearning</th>\n",
       "      <td>11.0</td>\n",
       "      <td>7.0</td>\n",
       "      <td>5.0</td>\n",
       "      <td>2.0</td>\n",
       "      <td>2.0</td>\n",
       "      <td>161.0</td>\n",
       "      <td>129.0</td>\n",
       "      <td>150.0</td>\n",
       "      <td>149.0</td>\n",
       "      <td>290.0</td>\n",
       "      <td>...</td>\n",
       "      <td>32.0</td>\n",
       "      <td>24.0</td>\n",
       "      <td>13.0</td>\n",
       "      <td>8.0</td>\n",
       "      <td>28.0</td>\n",
       "      <td>44.0</td>\n",
       "      <td>32.0</td>\n",
       "      <td>21.0</td>\n",
       "      <td>12.0</td>\n",
       "      <td>34.0</td>\n",
       "    </tr>\n",
       "  </tbody>\n",
       "</table>\n",
       "<p>4 rows × 60 columns</p>\n",
       "</div>"
      ],
      "text/plain": [
       "                             Tenure                     address                \\\n",
       "Level                             1    2    3    4    5       1      2      3   \n",
       "Department                                                                      \n",
       "HR                              8.0  5.0  3.0  2.0  NaN    41.0  188.0  191.0   \n",
       "OrganizationAnalytics          15.0  4.0  2.0  1.0  NaN   150.0  146.0  114.0   \n",
       "OrganizationChange              9.0  6.0  3.0  2.0  NaN   156.0  128.0  166.0   \n",
       "TalentDevelopmentandLearning   11.0  7.0  5.0  2.0  2.0   161.0  129.0  150.0   \n",
       "\n",
       "                                            ... totactive                    \\\n",
       "Level                             4      5  ...         1     2     3     4   \n",
       "Department                                  ...                               \n",
       "HR                             70.0    NaN  ...      22.0   8.0  13.0  13.0   \n",
       "OrganizationAnalytics         157.0    NaN  ...      28.0  18.0  11.0  12.0   \n",
       "OrganizationChange            148.0    NaN  ...      37.0  24.0  21.0  14.0   \n",
       "TalentDevelopmentandLearning  149.0  290.0  ...      32.0  24.0  13.0   8.0   \n",
       "\n",
       "                                   totrels                          \n",
       "Level                            5       1     2     3     4     5  \n",
       "Department                                                          \n",
       "HR                             NaN    31.0  12.0  16.0  15.0   NaN  \n",
       "OrganizationAnalytics          NaN    34.0  30.0  13.0  17.0   NaN  \n",
       "OrganizationChange             NaN    50.0  29.0  26.0  18.0   NaN  \n",
       "TalentDevelopmentandLearning  28.0    44.0  32.0  21.0  12.0  34.0  \n",
       "\n",
       "[4 rows x 60 columns]"
      ]
     },
     "execution_count": 103,
     "metadata": {},
     "output_type": "execute_result"
    }
   ],
   "source": [
    "bplt"
   ]
  },
  {
   "cell_type": "code",
   "execution_count": 104,
   "metadata": {},
   "outputs": [],
   "source": [
    "#export a Dataframe\n",
    "#<dataframe>.to_csv(r'filteredD&I.csv', index = False)"
   ]
  },
  {
   "cell_type": "code",
   "execution_count": null,
   "metadata": {},
   "outputs": [],
   "source": []
  }
 ],
 "metadata": {
  "kernelspec": {
   "display_name": "Python 3",
   "language": "python",
   "name": "python3"
  },
  "language_info": {
   "codemirror_mode": {
    "name": "ipython",
    "version": 3
   },
   "file_extension": ".py",
   "mimetype": "text/x-python",
   "name": "python",
   "nbconvert_exporter": "python",
   "pygments_lexer": "ipython3",
   "version": "3.7.6"
  }
 },
 "nbformat": 4,
 "nbformat_minor": 4
}
