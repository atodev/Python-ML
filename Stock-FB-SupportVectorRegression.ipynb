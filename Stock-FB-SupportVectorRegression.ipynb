{
 "cells": [
  {
   "cell_type": "code",
   "execution_count": 13,
   "metadata": {},
   "outputs": [],
   "source": [
    "#Description: this program predicts the price of FB stock for a specific day\n",
    "#             using the Machine Learning algorithm called\n",
    "#             Support Vector Regression (SVR) Model\n",
    "#           https://www.youtube.com/watch?v=tMPfZV_ipOg"
   ]
  },
  {
   "cell_type": "code",
   "execution_count": 14,
   "metadata": {},
   "outputs": [],
   "source": [
    "# Import the packages\n",
    "import pandas as pd\n",
    "import numpy as np\n",
    "from sklearn.svm import SVR\n",
    "from sklearn.linear_model import LinearRegression\n",
    "import matplotlib.pyplot as plt"
   ]
  },
  {
   "cell_type": "code",
   "execution_count": 15,
   "metadata": {},
   "outputs": [
    {
     "data": {
      "text/html": [
       "<div>\n",
       "<style scoped>\n",
       "    .dataframe tbody tr th:only-of-type {\n",
       "        vertical-align: middle;\n",
       "    }\n",
       "\n",
       "    .dataframe tbody tr th {\n",
       "        vertical-align: top;\n",
       "    }\n",
       "\n",
       "    .dataframe thead th {\n",
       "        text-align: right;\n",
       "    }\n",
       "</style>\n",
       "<table border=\"1\" class=\"dataframe\">\n",
       "  <thead>\n",
       "    <tr style=\"text-align: right;\">\n",
       "      <th></th>\n",
       "      <th>Date</th>\n",
       "      <th>Open</th>\n",
       "      <th>High</th>\n",
       "      <th>Low</th>\n",
       "      <th>Close</th>\n",
       "      <th>Adj Close</th>\n",
       "      <th>Volume</th>\n",
       "    </tr>\n",
       "  </thead>\n",
       "  <tbody>\n",
       "    <tr>\n",
       "      <td>0</td>\n",
       "      <td>2019-05-01</td>\n",
       "      <td>194.779999</td>\n",
       "      <td>196.179993</td>\n",
       "      <td>193.009995</td>\n",
       "      <td>193.029999</td>\n",
       "      <td>193.029999</td>\n",
       "      <td>15996600</td>\n",
       "    </tr>\n",
       "    <tr>\n",
       "      <td>1</td>\n",
       "      <td>2019-05-02</td>\n",
       "      <td>193.000000</td>\n",
       "      <td>194.000000</td>\n",
       "      <td>189.750000</td>\n",
       "      <td>192.529999</td>\n",
       "      <td>192.529999</td>\n",
       "      <td>13209500</td>\n",
       "    </tr>\n",
       "    <tr>\n",
       "      <td>2</td>\n",
       "      <td>2019-05-03</td>\n",
       "      <td>194.380005</td>\n",
       "      <td>196.160004</td>\n",
       "      <td>193.710007</td>\n",
       "      <td>195.470001</td>\n",
       "      <td>195.470001</td>\n",
       "      <td>14575400</td>\n",
       "    </tr>\n",
       "    <tr>\n",
       "      <td>3</td>\n",
       "      <td>2019-05-06</td>\n",
       "      <td>191.240005</td>\n",
       "      <td>194.279999</td>\n",
       "      <td>190.550003</td>\n",
       "      <td>193.880005</td>\n",
       "      <td>193.880005</td>\n",
       "      <td>13994900</td>\n",
       "    </tr>\n",
       "    <tr>\n",
       "      <td>4</td>\n",
       "      <td>2019-05-07</td>\n",
       "      <td>192.539993</td>\n",
       "      <td>192.899994</td>\n",
       "      <td>187.850006</td>\n",
       "      <td>189.770004</td>\n",
       "      <td>189.770004</td>\n",
       "      <td>16253000</td>\n",
       "    </tr>\n",
       "    <tr>\n",
       "      <td>5</td>\n",
       "      <td>2019-05-08</td>\n",
       "      <td>189.389999</td>\n",
       "      <td>190.720001</td>\n",
       "      <td>188.550003</td>\n",
       "      <td>189.539993</td>\n",
       "      <td>189.539993</td>\n",
       "      <td>12505700</td>\n",
       "    </tr>\n",
       "    <tr>\n",
       "      <td>6</td>\n",
       "      <td>2019-05-09</td>\n",
       "      <td>187.199997</td>\n",
       "      <td>189.770004</td>\n",
       "      <td>186.259995</td>\n",
       "      <td>188.649994</td>\n",
       "      <td>188.649994</td>\n",
       "      <td>12967000</td>\n",
       "    </tr>\n",
       "  </tbody>\n",
       "</table>\n",
       "</div>"
      ],
      "text/plain": [
       "         Date        Open        High         Low       Close   Adj Close  \\\n",
       "0  2019-05-01  194.779999  196.179993  193.009995  193.029999  193.029999   \n",
       "1  2019-05-02  193.000000  194.000000  189.750000  192.529999  192.529999   \n",
       "2  2019-05-03  194.380005  196.160004  193.710007  195.470001  195.470001   \n",
       "3  2019-05-06  191.240005  194.279999  190.550003  193.880005  193.880005   \n",
       "4  2019-05-07  192.539993  192.899994  187.850006  189.770004  189.770004   \n",
       "5  2019-05-08  189.389999  190.720001  188.550003  189.539993  189.539993   \n",
       "6  2019-05-09  187.199997  189.770004  186.259995  188.649994  188.649994   \n",
       "\n",
       "     Volume  \n",
       "0  15996600  \n",
       "1  13209500  \n",
       "2  14575400  \n",
       "3  13994900  \n",
       "4  16253000  \n",
       "5  12505700  \n",
       "6  12967000  "
      ]
     },
     "execution_count": 15,
     "metadata": {},
     "output_type": "execute_result"
    }
   ],
   "source": [
    "df = pd.read_csv('FB-30.csv')\n",
    "df.head(7)"
   ]
  },
  {
   "cell_type": "code",
   "execution_count": 16,
   "metadata": {},
   "outputs": [],
   "source": [
    "#Create the lists / X and Y data set\n",
    "dates = []\n",
    "prices = []"
   ]
  },
  {
   "cell_type": "code",
   "execution_count": 17,
   "metadata": {},
   "outputs": [
    {
     "data": {
      "text/plain": [
       "(21, 7)"
      ]
     },
     "execution_count": 17,
     "metadata": {},
     "output_type": "execute_result"
    }
   ],
   "source": [
    "#Get the number of rows and columns in the data set\n",
    "df.shape"
   ]
  },
  {
   "cell_type": "code",
   "execution_count": 18,
   "metadata": {},
   "outputs": [
    {
     "data": {
      "text/html": [
       "<div>\n",
       "<style scoped>\n",
       "    .dataframe tbody tr th:only-of-type {\n",
       "        vertical-align: middle;\n",
       "    }\n",
       "\n",
       "    .dataframe tbody tr th {\n",
       "        vertical-align: top;\n",
       "    }\n",
       "\n",
       "    .dataframe thead th {\n",
       "        text-align: right;\n",
       "    }\n",
       "</style>\n",
       "<table border=\"1\" class=\"dataframe\">\n",
       "  <thead>\n",
       "    <tr style=\"text-align: right;\">\n",
       "      <th></th>\n",
       "      <th>Date</th>\n",
       "      <th>Open</th>\n",
       "      <th>High</th>\n",
       "      <th>Low</th>\n",
       "      <th>Close</th>\n",
       "      <th>Adj Close</th>\n",
       "      <th>Volume</th>\n",
       "    </tr>\n",
       "  </thead>\n",
       "  <tbody>\n",
       "    <tr>\n",
       "      <td>20</td>\n",
       "      <td>2019-05-30</td>\n",
       "      <td>183.080002</td>\n",
       "      <td>183.479996</td>\n",
       "      <td>180.889999</td>\n",
       "      <td>183.009995</td>\n",
       "      <td>183.009995</td>\n",
       "      <td>8581500</td>\n",
       "    </tr>\n",
       "  </tbody>\n",
       "</table>\n",
       "</div>"
      ],
      "text/plain": [
       "          Date        Open        High         Low       Close   Adj Close  \\\n",
       "20  2019-05-30  183.080002  183.479996  180.889999  183.009995  183.009995   \n",
       "\n",
       "     Volume  \n",
       "20  8581500  "
      ]
     },
     "execution_count": 18,
     "metadata": {},
     "output_type": "execute_result"
    }
   ],
   "source": [
    "#Print the last row of data\n",
    "df.tail(1)"
   ]
  },
  {
   "cell_type": "code",
   "execution_count": 19,
   "metadata": {},
   "outputs": [
    {
     "name": "stdout",
     "output_type": "stream",
     "text": [
      "(20, 7)\n"
     ]
    }
   ],
   "source": [
    "#Get all of the data exept for the last row\n",
    "df = df.head(len(df)-1)\n",
    "print(df.shape)"
   ]
  },
  {
   "cell_type": "code",
   "execution_count": 20,
   "metadata": {},
   "outputs": [],
   "source": [
    "df_dates = df.loc[:,'Date'] # get all of the rows from the date column\n",
    "df_open = df.loc[:,'Open']  # get all of the rows from the Open column"
   ]
  },
  {
   "cell_type": "code",
   "execution_count": 21,
   "metadata": {},
   "outputs": [],
   "source": [
    "#Create the independent data set 'X' as dates\n",
    "for date in df_dates:\n",
    "  dates.append( [int(date.split('-')[2])] )\n",
    "  \n",
    "#Create the dependent data set 'y' as prices\n",
    "for open_price in df_open:\n",
    "  prices.append(float(open_price))\n"
   ]
  },
  {
   "cell_type": "code",
   "execution_count": 22,
   "metadata": {},
   "outputs": [
    {
     "name": "stdout",
     "output_type": "stream",
     "text": [
      "[[1], [2], [3], [6], [7], [8], [9], [10], [13], [14], [15], [16], [17], [20], [21], [22], [23], [24], [28], [29]]\n"
     ]
    }
   ],
   "source": [
    "#See what days were recorded in the data set\n",
    "print (dates)"
   ]
  },
  {
   "cell_type": "code",
   "execution_count": 25,
   "metadata": {},
   "outputs": [],
   "source": [
    "#Function to make predictions - taking 3 parameters - x = date on which prediction has to be made\n",
    "def predict_prices(dates, prices, x):\n",
    "  \n",
    "  #Creating 3 Support Vector Regression Models\n",
    "  svr_lin = SVR(kernel='linear', C=1e3)\n",
    "  svr_poly = SVR(kernel='poly', C=1e3, degree=2)\n",
    "  svr_rbf = SVR(kernel='rbf', C=1e3, gamma=0.1)\n",
    "  \n",
    "  #Training the models based on parameters provided\n",
    "  svr_lin.fit(dates,prices)\n",
    "  svr_poly.fit(dates, prices)\n",
    "  svr_rbf.fit(dates, prices)\n",
    "  #Create the linear regression model\n",
    "  lin_reg = LinearRegression()\n",
    "  #Train the Linear Regression Model\n",
    "  lin_reg.fit(dates,prices)\n",
    "  \n",
    "  # Plotting the models on a graph\n",
    "  plt.scatter(dates, prices, color = 'black', label='Data')\n",
    "  plt.plot(dates, svr_rbf.predict(dates), color = 'red', label='RBF model')\n",
    "  plt.plot(dates, svr_lin.predict(dates), color = 'blue', label='Linear model')\n",
    "  plt.plot(dates, svr_poly.predict(dates), color = 'green', label='Polynomial model')\n",
    "  plt.plot(dates,lin_reg.predict(dates),color = 'orange',label='Linear Regl')\n",
    "  plt.xlabel('Date')\n",
    "  plt.ylabel('Price')\n",
    "  plt.title('Support Vector Regression')\n",
    "  plt.legend()\n",
    "  plt.show()\n",
    "  \n",
    "  # Returning the predicted models\n",
    "  return svr_rbf.predict(x)[0], svr_lin.predict(x)[0], svr_poly.predict(x)[0], lin_reg.predict(x)[0]"
   ]
  },
  {
   "cell_type": "code",
   "execution_count": 26,
   "metadata": {},
   "outputs": [
    {
     "name": "stderr",
     "output_type": "stream",
     "text": [
      "C:\\ProgramData\\Anaconda3\\lib\\site-packages\\sklearn\\svm\\base.py:193: FutureWarning: The default value of gamma will change from 'auto' to 'scale' in version 0.22 to account better for unscaled features. Set gamma explicitly to 'auto' or 'scale' to avoid this warning.\n",
      "  \"avoid this warning.\", FutureWarning)\n"
     ]
    },
    {
     "data": {
      "image/png": "[encoded data removed]",
      "text/plain": [
       "<Figure size 432x288 with 1 Axes>"
      ]
     },
     "metadata": {
      "needs_background": "light"
     },
     "output_type": "display_data"
    },
    {
     "name": "stdout",
     "output_type": "stream",
     "text": [
      "(187.08890736754125, 179.0599973332093, 178.08891011400308, 179.21816766916643)\n"
     ]
    }
   ],
   "source": [
    "#Predict the price of FB on day 31\n",
    "predicted_price = predict_prices(dates, prices, [[30]])\n",
    "\n",
    "# Now displaying the model\n",
    "print(predicted_price)"
   ]
  },
  {
   "cell_type": "code",
   "execution_count": null,
   "metadata": {},
   "outputs": [],
   "source": []
  },
  {
   "cell_type": "code",
   "execution_count": null,
   "metadata": {},
   "outputs": [],
   "source": []
  }
 ],
 "metadata": {
  "kernelspec": {
   "display_name": "Python 3",
   "language": "python",
   "name": "python3"
  },
  "language_info": {
   "codemirror_mode": {
    "name": "ipython",
    "version": 3
   },
   "file_extension": ".py",
   "mimetype": "text/x-python",
   "name": "python",
   "nbconvert_exporter": "python",
   "pygments_lexer": "ipython3",
   "version": "3.7.4"
  }
 },
 "nbformat": 4,
 "nbformat_minor": 2
}
