{
 "cells": [
  {
   "cell_type": "code",
   "execution_count": 1,
   "metadata": {},
   "outputs": [],
   "source": [
    "\n",
    "  \n",
    "# count\n",
    "#  PreCC=dfpr.groupby ('address')['out'].count().sort_values(ascending=False)  PreCC"
   ]
  },
  {
   "cell_type": "code",
   "execution_count": 2,
   "metadata": {},
   "outputs": [],
   "source": [
    "#import libraries\n",
    "import numpy as np\n",
    "import pandas as pd\n",
    "import datetime as dt"
   ]
  },
  {
   "cell_type": "code",
   "execution_count": 3,
   "metadata": {},
   "outputs": [],
   "source": [
    "#load the pre data\n",
    "dfpr=pd.read_csv('SynPre.csv')"
   ]
  },
  {
   "cell_type": "code",
   "execution_count": 5,
   "metadata": {},
   "outputs": [],
   "source": [
    "#load the post data\n",
    "dfpo=pd.read_csv('SynPost.csv')"
   ]
  },
  {
   "cell_type": "code",
   "execution_count": 6,
   "metadata": {},
   "outputs": [
    {
     "data": {
      "text/html": [
       "<div>\n",
       "<style scoped>\n",
       "    .dataframe tbody tr th:only-of-type {\n",
       "        vertical-align: middle;\n",
       "    }\n",
       "\n",
       "    .dataframe tbody tr th {\n",
       "        vertical-align: top;\n",
       "    }\n",
       "\n",
       "    .dataframe thead th {\n",
       "        text-align: right;\n",
       "    }\n",
       "</style>\n",
       "<table border=\"1\" class=\"dataframe\">\n",
       "  <thead>\n",
       "    <tr style=\"text-align: right;\">\n",
       "      <th></th>\n",
       "      <th>From</th>\n",
       "      <th>To</th>\n",
       "      <th>DateTime</th>\n",
       "      <th>TrustScore</th>\n",
       "    </tr>\n",
       "  </thead>\n",
       "  <tbody>\n",
       "    <tr>\n",
       "      <th>0</th>\n",
       "      <td>georg.geisler@syngenta.com</td>\n",
       "      <td>gioia.zamburlin@syngenta.com</td>\n",
       "      <td>7/24/2020 6:42</td>\n",
       "      <td>10</td>\n",
       "    </tr>\n",
       "    <tr>\n",
       "      <th>1</th>\n",
       "      <td>gioia.zamburlin@syngenta.com</td>\n",
       "      <td>georg.geisler@syngenta.com</td>\n",
       "      <td>7/24/2020 6:42</td>\n",
       "      <td>10</td>\n",
       "    </tr>\n",
       "    <tr>\n",
       "      <th>2</th>\n",
       "      <td>gioia.zamburlin@syngenta.com</td>\n",
       "      <td>harriet.struthers@syngenta.com</td>\n",
       "      <td>7/24/2020 6:42</td>\n",
       "      <td>10</td>\n",
       "    </tr>\n",
       "    <tr>\n",
       "      <th>3</th>\n",
       "      <td>harriet.struthers@syngenta.com</td>\n",
       "      <td>gioia.zamburlin@syngenta.com</td>\n",
       "      <td>7/24/2020 6:42</td>\n",
       "      <td>10</td>\n",
       "    </tr>\n",
       "    <tr>\n",
       "      <th>4</th>\n",
       "      <td>gioia.zamburlin@syngenta.com</td>\n",
       "      <td>michael.studer@syngenta.com</td>\n",
       "      <td>7/24/2020 6:42</td>\n",
       "      <td>0</td>\n",
       "    </tr>\n",
       "    <tr>\n",
       "      <th>...</th>\n",
       "      <td>...</td>\n",
       "      <td>...</td>\n",
       "      <td>...</td>\n",
       "      <td>...</td>\n",
       "    </tr>\n",
       "    <tr>\n",
       "      <th>395882</th>\n",
       "      <td>renaud.deval@syngenta.com</td>\n",
       "      <td>jana.herschelmann@syngenta.com</td>\n",
       "      <td>3/16/2020 5:03</td>\n",
       "      <td>20</td>\n",
       "    </tr>\n",
       "    <tr>\n",
       "      <th>395883</th>\n",
       "      <td>nicolas.lalyre@syngenta.com</td>\n",
       "      <td>sandeep.sandhu@syngenta.com</td>\n",
       "      <td>3/16/2020 3:30</td>\n",
       "      <td>0</td>\n",
       "    </tr>\n",
       "    <tr>\n",
       "      <th>395884</th>\n",
       "      <td>sandeep.sandhu@syngenta.com</td>\n",
       "      <td>nicolas.lalyre@syngenta.com</td>\n",
       "      <td>3/16/2020 3:30</td>\n",
       "      <td>0</td>\n",
       "    </tr>\n",
       "    <tr>\n",
       "      <th>395885</th>\n",
       "      <td>derek.jamieson@syngenta.com</td>\n",
       "      <td>eric.thomas@syngenta.com</td>\n",
       "      <td>3/16/2020 1:09</td>\n",
       "      <td>20</td>\n",
       "    </tr>\n",
       "    <tr>\n",
       "      <th>395886</th>\n",
       "      <td>eric.thomas@syngenta.com</td>\n",
       "      <td>derek.jamieson@syngenta.com</td>\n",
       "      <td>3/16/2020 1:09</td>\n",
       "      <td>20</td>\n",
       "    </tr>\n",
       "  </tbody>\n",
       "</table>\n",
       "<p>395887 rows × 4 columns</p>\n",
       "</div>"
      ],
      "text/plain": [
       "                                  From                              To  \\\n",
       "0           georg.geisler@syngenta.com    gioia.zamburlin@syngenta.com   \n",
       "1         gioia.zamburlin@syngenta.com      georg.geisler@syngenta.com   \n",
       "2         gioia.zamburlin@syngenta.com  harriet.struthers@syngenta.com   \n",
       "3       harriet.struthers@syngenta.com    gioia.zamburlin@syngenta.com   \n",
       "4         gioia.zamburlin@syngenta.com     michael.studer@syngenta.com   \n",
       "...                                ...                             ...   \n",
       "395882       renaud.deval@syngenta.com  jana.herschelmann@syngenta.com   \n",
       "395883     nicolas.lalyre@syngenta.com     sandeep.sandhu@syngenta.com   \n",
       "395884     sandeep.sandhu@syngenta.com     nicolas.lalyre@syngenta.com   \n",
       "395885     derek.jamieson@syngenta.com        eric.thomas@syngenta.com   \n",
       "395886        eric.thomas@syngenta.com     derek.jamieson@syngenta.com   \n",
       "\n",
       "              DateTime  TrustScore  \n",
       "0       7/24/2020 6:42          10  \n",
       "1       7/24/2020 6:42          10  \n",
       "2       7/24/2020 6:42          10  \n",
       "3       7/24/2020 6:42          10  \n",
       "4       7/24/2020 6:42           0  \n",
       "...                ...         ...  \n",
       "395882  3/16/2020 5:03          20  \n",
       "395883  3/16/2020 3:30           0  \n",
       "395884  3/16/2020 3:30           0  \n",
       "395885  3/16/2020 1:09          20  \n",
       "395886  3/16/2020 1:09          20  \n",
       "\n",
       "[395887 rows x 4 columns]"
      ]
     },
     "execution_count": 6,
     "metadata": {},
     "output_type": "execute_result"
    }
   ],
   "source": [
    "dfpo"
   ]
  },
  {
   "cell_type": "code",
   "execution_count": 9,
   "metadata": {
    "scrolled": true
   },
   "outputs": [
    {
     "data": {
      "text/plain": [
       "From\n",
       "andrew.kendall@syngenta.com              860\n",
       "steve.dale@syngenta.com                  851\n",
       "michael.fischbach@syngenta.com           848\n",
       "igor.stojanovski@syngenta.com            845\n",
       "eric.thomas@syngenta.com                 841\n",
       "                                        ... \n",
       "gerlinde.holscher@syngenta.com            94\n",
       "andrea-domenico.taormina@syngenta.com     78\n",
       "lucien.gasser@syngenta.com                76\n",
       "caio.moreira@syngenta.com                 74\n",
       "julie.woan@syngenta.com                   13\n",
       "Name: From, Length: 971, dtype: int64"
      ]
     },
     "execution_count": 9,
     "metadata": {},
     "output_type": "execute_result"
    }
   ],
   "source": [
    "PreCC=dfpr.groupby ('From')['From'].count().sort_values(ascending=False)\n",
    "PreCC"
   ]
  },
  {
   "cell_type": "code",
   "execution_count": 10,
   "metadata": {},
   "outputs": [],
   "source": [
    "PreCC.to_csv(r'PreCount.csv')"
   ]
  },
  {
   "cell_type": "code",
   "execution_count": 11,
   "metadata": {},
   "outputs": [
    {
     "data": {
      "text/plain": [
       "From\n",
       "marc.besse@syngenta.com                  783\n",
       "silke.thielen@syngenta.com               764\n",
       "alexandre.lumbroso@syngenta.com          731\n",
       "natalia.mezzenga@syngenta.com            723\n",
       "david.ingram@syngenta.com                700\n",
       "                                        ... \n",
       "gerlinde.holscher@syngenta.com            85\n",
       "andreas.knaus@syngenta.com                64\n",
       "andrea-domenico.taormina@syngenta.com     44\n",
       "elisabeth.mangold@syngenta.com            31\n",
       "julie.woan@syngenta.com                    2\n",
       "Name: From, Length: 971, dtype: int64"
      ]
     },
     "execution_count": 11,
     "metadata": {},
     "output_type": "execute_result"
    }
   ],
   "source": [
    "PostCC=dfpo.groupby ('From')['From'].count().sort_values(ascending=False)\n",
    "PostCC"
   ]
  },
  {
   "cell_type": "code",
   "execution_count": 12,
   "metadata": {},
   "outputs": [],
   "source": [
    "PostCC.to_csv(r'PostCount.csv')"
   ]
  },
  {
   "cell_type": "code",
   "execution_count": null,
   "metadata": {},
   "outputs": [],
   "source": []
  }
 ],
 "metadata": {
  "kernelspec": {
   "display_name": "Python 3",
   "language": "python",
   "name": "python3"
  },
  "language_info": {
   "codemirror_mode": {
    "name": "ipython",
    "version": 3
   },
   "file_extension": ".py",
   "mimetype": "text/x-python",
   "name": "python",
   "nbconvert_exporter": "python",
   "pygments_lexer": "ipython3",
   "version": "3.7.6"
  }
 },
 "nbformat": 4,
 "nbformat_minor": 4
}
